{
 "cells": [
  {
   "cell_type": "markdown",
   "metadata": {
    "collapsed": true
   },
   "source": [
    "# Word embeddings\n",
    "\n",
    "This is small notebook that shows you how to obtain word embeddings, and how to make fancy plots with them."
   ]
  },
  {
   "cell_type": "code",
   "execution_count": 1,
   "metadata": {
    "collapsed": true
   },
   "outputs": [],
   "source": [
    "import numpy as np\n",
    "import pickle\n",
    "from collections import defaultdict, Counter\n",
    "from random import random\n",
    "import matplotlib.pyplot as plt\n",
    "%matplotlib inline"
   ]
  },
  {
   "cell_type": "markdown",
   "metadata": {},
   "source": [
    "## Data handling\n",
    "\n",
    "Define a reading function:"
   ]
  },
  {
   "cell_type": "code",
   "execution_count": 6,
   "metadata": {},
   "outputs": [],
   "source": [
    "def read(fname, w2i):\n",
    "    \"\"\"\n",
    "    Reading function for the gensim model\n",
    "    Format: [['I', 'like', 'custard'],...]\n",
    "    \"\"\"\n",
    "    data = []\n",
    "    counts = Counter()\n",
    "    with open(fname, \"r\") as fh:\n",
    "        for line in fh:\n",
    "            tokens = line.strip().split()\n",
    "            counts.update(tokens)\n",
    "            data.append(tokens)\n",
    "            # Add word to our dictionary\n",
    "            for w in tokens:\n",
    "                w2i[w]\n",
    "        return data, counts, w2i"
   ]
  },
  {
   "cell_type": "markdown",
   "metadata": {},
   "source": [
    "# Gensim\n",
    "\n",
    "Let's see the embeddings that an off-the-shelf word2vec implementation can give us. For this we can use the Word2Vec implementation provided by [Gensim](https://radimrehurek.com/gensim/models/word2vec.html). \n",
    "\n",
    "(Want to know how this is so fast? Read [this](https://rare-technologies.com/word2vec-in-python-part-two-optimizing/) post.)"
   ]
  },
  {
   "cell_type": "code",
   "execution_count": 14,
   "metadata": {
    "collapsed": true
   },
   "outputs": [],
   "source": [
    "from gensim.models import Word2Vec"
   ]
  },
  {
   "cell_type": "markdown",
   "metadata": {},
   "source": [
    "## Visualize the embeddings\n",
    "\n",
    "We use t-SNE to produce 2-dimensional embeddings for visualization. Let's also throw in some K-means clustering to help give the dots some pretty colors.\n",
    "\n",
    "Required are:\n",
    "* Bokeh interactive plots: <http://bokeh.pydata.org/en/latest/> \n",
    "* scikit-learn ML library (aka `sklearn`): <http://scikit-learn.org/stable/documentation.html>"
   ]
  },
  {
   "cell_type": "code",
   "execution_count": 15,
   "metadata": {},
   "outputs": [
    {
     "data": {
      "text/html": [
       "\n",
       "    <div class=\"bk-root\">\n",
       "        <a href=\"https://bokeh.pydata.org\" target=\"_blank\" class=\"bk-logo bk-logo-small bk-logo-notebook\"></a>\n",
       "        <span id=\"17f5beb0-18a4-4a86-9132-0bd483f805e2\">Loading BokehJS ...</span>\n",
       "    </div>"
      ]
     },
     "metadata": {},
     "output_type": "display_data"
    },
    {
     "data": {
      "application/javascript": [
       "\n",
       "(function(root) {\n",
       "  function now() {\n",
       "    return new Date();\n",
       "  }\n",
       "\n",
       "  var force = true;\n",
       "\n",
       "  if (typeof (root._bokeh_onload_callbacks) === \"undefined\" || force === true) {\n",
       "    root._bokeh_onload_callbacks = [];\n",
       "    root._bokeh_is_loading = undefined;\n",
       "  }\n",
       "\n",
       "\n",
       "  \n",
       "  if (typeof (root._bokeh_timeout) === \"undefined\" || force === true) {\n",
       "    root._bokeh_timeout = Date.now() + 5000;\n",
       "    root._bokeh_failed_load = false;\n",
       "  }\n",
       "\n",
       "  var NB_LOAD_WARNING = {'data': {'text/html':\n",
       "     \"<div style='background-color: #fdd'>\\n\"+\n",
       "     \"<p>\\n\"+\n",
       "     \"BokehJS does not appear to have successfully loaded. If loading BokehJS from CDN, this \\n\"+\n",
       "     \"may be due to a slow or bad network connection. Possible fixes:\\n\"+\n",
       "     \"</p>\\n\"+\n",
       "     \"<ul>\\n\"+\n",
       "     \"<li>re-rerun `output_notebook()` to attempt to load from CDN again, or</li>\\n\"+\n",
       "     \"<li>use INLINE resources instead, as so:</li>\\n\"+\n",
       "     \"</ul>\\n\"+\n",
       "     \"<code>\\n\"+\n",
       "     \"from bokeh.resources import INLINE\\n\"+\n",
       "     \"output_notebook(resources=INLINE)\\n\"+\n",
       "     \"</code>\\n\"+\n",
       "     \"</div>\"}};\n",
       "\n",
       "  function display_loaded() {\n",
       "    if (root.Bokeh !== undefined) {\n",
       "      var el = document.getElementById(\"17f5beb0-18a4-4a86-9132-0bd483f805e2\");\n",
       "      if (el != null) {\n",
       "        el.textContent = \"BokehJS \" + Bokeh.version + \" successfully loaded.\";\n",
       "      }\n",
       "    } else if (Date.now() < root._bokeh_timeout) {\n",
       "      setTimeout(display_loaded, 100)\n",
       "    }\n",
       "  }\n",
       "\n",
       "\n",
       "  function run_callbacks() {\n",
       "    try {\n",
       "      root._bokeh_onload_callbacks.forEach(function(callback) { callback() });\n",
       "    }\n",
       "    finally {\n",
       "      delete root._bokeh_onload_callbacks\n",
       "    }\n",
       "    console.info(\"Bokeh: all callbacks have finished\");\n",
       "  }\n",
       "\n",
       "  function load_libs(js_urls, callback) {\n",
       "    root._bokeh_onload_callbacks.push(callback);\n",
       "    if (root._bokeh_is_loading > 0) {\n",
       "      console.log(\"Bokeh: BokehJS is being loaded, scheduling callback at\", now());\n",
       "      return null;\n",
       "    }\n",
       "    if (js_urls == null || js_urls.length === 0) {\n",
       "      run_callbacks();\n",
       "      return null;\n",
       "    }\n",
       "    console.log(\"Bokeh: BokehJS not loaded, scheduling load and callback at\", now());\n",
       "    root._bokeh_is_loading = js_urls.length;\n",
       "    for (var i = 0; i < js_urls.length; i++) {\n",
       "      var url = js_urls[i];\n",
       "      var s = document.createElement('script');\n",
       "      s.src = url;\n",
       "      s.async = false;\n",
       "      s.onreadystatechange = s.onload = function() {\n",
       "        root._bokeh_is_loading--;\n",
       "        if (root._bokeh_is_loading === 0) {\n",
       "          console.log(\"Bokeh: all BokehJS libraries loaded\");\n",
       "          run_callbacks()\n",
       "        }\n",
       "      };\n",
       "      s.onerror = function() {\n",
       "        console.warn(\"failed to load library \" + url);\n",
       "      };\n",
       "      console.log(\"Bokeh: injecting script tag for BokehJS library: \", url);\n",
       "      document.getElementsByTagName(\"head\")[0].appendChild(s);\n",
       "    }\n",
       "  };var element = document.getElementById(\"17f5beb0-18a4-4a86-9132-0bd483f805e2\");\n",
       "  if (element == null) {\n",
       "    console.log(\"Bokeh: ERROR: autoload.js configured with elementid '17f5beb0-18a4-4a86-9132-0bd483f805e2' but no matching script tag was found. \")\n",
       "    return false;\n",
       "  }\n",
       "\n",
       "  var js_urls = [\"https://cdn.pydata.org/bokeh/release/bokeh-0.12.7.min.js\", \"https://cdn.pydata.org/bokeh/release/bokeh-widgets-0.12.7.min.js\", \"https://cdn.pydata.org/bokeh/release/bokeh-tables-0.12.7.min.js\", \"https://cdn.pydata.org/bokeh/release/bokeh-gl-0.12.7.min.js\"];\n",
       "\n",
       "  var inline_js = [\n",
       "    function(Bokeh) {\n",
       "      Bokeh.set_log_level(\"info\");\n",
       "    },\n",
       "    \n",
       "    function(Bokeh) {\n",
       "      \n",
       "    },\n",
       "    \n",
       "    function(Bokeh) {\n",
       "      \n",
       "      document.getElementById(\"17f5beb0-18a4-4a86-9132-0bd483f805e2\").textContent = \"BokehJS is loading...\";\n",
       "    },\n",
       "    function(Bokeh) {\n",
       "      console.log(\"Bokeh: injecting CSS: https://cdn.pydata.org/bokeh/release/bokeh-0.12.7.min.css\");\n",
       "      Bokeh.embed.inject_css(\"https://cdn.pydata.org/bokeh/release/bokeh-0.12.7.min.css\");\n",
       "      console.log(\"Bokeh: injecting CSS: https://cdn.pydata.org/bokeh/release/bokeh-widgets-0.12.7.min.css\");\n",
       "      Bokeh.embed.inject_css(\"https://cdn.pydata.org/bokeh/release/bokeh-widgets-0.12.7.min.css\");\n",
       "      console.log(\"Bokeh: injecting CSS: https://cdn.pydata.org/bokeh/release/bokeh-tables-0.12.7.min.css\");\n",
       "      Bokeh.embed.inject_css(\"https://cdn.pydata.org/bokeh/release/bokeh-tables-0.12.7.min.css\");\n",
       "    }\n",
       "  ];\n",
       "\n",
       "  function run_inline_js() {\n",
       "    \n",
       "    if ((root.Bokeh !== undefined) || (force === true)) {\n",
       "      for (var i = 0; i < inline_js.length; i++) {\n",
       "        inline_js[i].call(root, root.Bokeh);\n",
       "      }if (force === true) {\n",
       "        display_loaded();\n",
       "      }} else if (Date.now() < root._bokeh_timeout) {\n",
       "      setTimeout(run_inline_js, 100);\n",
       "    } else if (!root._bokeh_failed_load) {\n",
       "      console.log(\"Bokeh: BokehJS failed to load within specified timeout.\");\n",
       "      root._bokeh_failed_load = true;\n",
       "    } else if (force !== true) {\n",
       "      var cell = $(document.getElementById(\"17f5beb0-18a4-4a86-9132-0bd483f805e2\")).parents('.cell').data().cell;\n",
       "      cell.output_area.append_execute_result(NB_LOAD_WARNING)\n",
       "    }\n",
       "\n",
       "  }\n",
       "\n",
       "  if (root._bokeh_is_loading === 0) {\n",
       "    console.log(\"Bokeh: BokehJS loaded, going straight to plotting\");\n",
       "    run_inline_js();\n",
       "  } else {\n",
       "    load_libs(js_urls, function() {\n",
       "      console.log(\"Bokeh: BokehJS plotting callback run at\", now());\n",
       "      run_inline_js();\n",
       "    });\n",
       "  }\n",
       "}(window));"
      ]
     },
     "metadata": {},
     "output_type": "display_data"
    }
   ],
   "source": [
    "from sklearn.cluster import KMeans\n",
    "from sklearn.manifold import TSNE\n",
    "\n",
    "from bokeh.models import ColumnDataSource, LabelSet\n",
    "from bokeh.plotting import figure, show, output_file\n",
    "from bokeh.palettes import d3\n",
    "from bokeh.io import output_notebook\n",
    "output_notebook()\n",
    "\n",
    "def emb_scatter(data, names, N=20, perplexity=30.0):\n",
    "    ## try to find some clusters ##\n",
    "    print(\"finding clusters\")\n",
    "    kmeans = KMeans(n_clusters=N)\n",
    "    kmeans.fit(data)\n",
    "    klabels = kmeans.labels_\n",
    "\n",
    "    ## get a tsne fit ##\n",
    "    print(\"fitting tsne\")\n",
    "    tsne = TSNE(n_components=2, perplexity=perplexity)\n",
    "    emb_tsne = tsne.fit_transform(data)\n",
    "    \n",
    "    ## plot the tsne of the embeddings with bokeh ##\n",
    "    # source: https://github.com/oxford-cs-deepnlp-2017/practical-1\n",
    "    p = figure(tools=\"pan,wheel_zoom,reset,save\",\n",
    "               toolbar_location=\"above\",\n",
    "               title=\"T-SNE for most common words\")\n",
    "\n",
    "    # set colormap as a list\n",
    "    colormap = d3['Category20'][N]\n",
    "    colors = [colormap[i] for i in klabels]\n",
    "\n",
    "    source = ColumnDataSource(data=dict(x1=emb_tsne[:,0],\n",
    "                                        x2=emb_tsne[:,1],\n",
    "                                        names=names,\n",
    "                                        colors=colors))\n",
    "\n",
    "    p.scatter(x=\"x1\", y=\"x2\", size=8, source=source, color='colors')\n",
    "\n",
    "    labels = LabelSet(x=\"x1\", y=\"x2\", text=\"names\", y_offset=6,\n",
    "                      text_font_size=\"8pt\", text_color=\"#555555\",\n",
    "                      source=source, text_align='center')\n",
    "    p.add_layout(labels)\n",
    "\n",
    "    show(p)"
   ]
  },
  {
   "cell_type": "markdown",
   "metadata": {},
   "source": [
    "## Penn Treebank data\n",
    "\n",
    "First read in the data:"
   ]
  },
  {
   "cell_type": "code",
   "execution_count": 16,
   "metadata": {},
   "outputs": [
    {
     "name": "stdout",
     "output_type": "stream",
     "text": [
      "CPU times: user 474 ms, sys: 38.9 ms, total: 513 ms\n",
      "Wall time: 512 ms\n"
     ]
    }
   ],
   "source": [
    "train_file = \"data/ptb/train.txt\"\n",
    "\n",
    "# This way w2i will automatically assigns\n",
    "# the next availlable integer to each new word:\n",
    "w2i = defaultdict(lambda: len(w2i))\n",
    "UNK = w2i[\"<unk>\"] # So: UNK = 0\n",
    "\n",
    "# Time how long this takes\n",
    "%time ptb_data, ptb_counts, w2i = read(train_file, w2i)\n",
    "\n",
    "# Now w2i returns UNK as default\n",
    "w2i = defaultdict(lambda: UNK, w2i)\n",
    "nwords = len(w2i)\n",
    "\n",
    "# Also construct the inverse dictionary i2w\n",
    "i2w = dict()\n",
    "for w, i in w2i.items():\n",
    "    i2w[i] = w"
   ]
  },
  {
   "cell_type": "markdown",
   "metadata": {},
   "source": [
    "Then train the Word2Vec model:"
   ]
  },
  {
   "cell_type": "code",
   "execution_count": 17,
   "metadata": {},
   "outputs": [
    {
     "name": "stdout",
     "output_type": "stream",
     "text": [
      "CPU times: user 7.4 s, sys: 69 ms, total: 7.47 s\n",
      "Wall time: 2.43 s\n"
     ]
    }
   ],
   "source": [
    "%time ptb_model = Word2Vec(ptb_data, size=100, window=5, min_count=5, workers=4)"
   ]
  },
  {
   "cell_type": "markdown",
   "metadata": {},
   "source": [
    "Then plot them:"
   ]
  },
  {
   "cell_type": "code",
   "execution_count": 18,
   "metadata": {},
   "outputs": [
    {
     "name": "stdout",
     "output_type": "stream",
     "text": [
      "finding clusters\n",
      "fitting tsne\n"
     ]
    },
    {
     "data": {
      "text/html": [
       "\n",
       "\n",
       "    <div class=\"bk-root\">\n",
       "        <div class=\"bk-plotdiv\" id=\"e8111307-0e1c-4e42-880f-160b6790a317\"></div>\n",
       "    </div>\n",
       "<script type=\"text/javascript\">\n",
       "  \n",
       "  (function(root) {\n",
       "    function now() {\n",
       "      return new Date();\n",
       "    }\n",
       "  \n",
       "    var force = false;\n",
       "  \n",
       "    if (typeof (root._bokeh_onload_callbacks) === \"undefined\" || force === true) {\n",
       "      root._bokeh_onload_callbacks = [];\n",
       "      root._bokeh_is_loading = undefined;\n",
       "    }\n",
       "  \n",
       "  \n",
       "    \n",
       "    if (typeof (root._bokeh_timeout) === \"undefined\" || force === true) {\n",
       "      root._bokeh_timeout = Date.now() + 0;\n",
       "      root._bokeh_failed_load = false;\n",
       "    }\n",
       "  \n",
       "    var NB_LOAD_WARNING = {'data': {'text/html':\n",
       "       \"<div style='background-color: #fdd'>\\n\"+\n",
       "       \"<p>\\n\"+\n",
       "       \"BokehJS does not appear to have successfully loaded. If loading BokehJS from CDN, this \\n\"+\n",
       "       \"may be due to a slow or bad network connection. Possible fixes:\\n\"+\n",
       "       \"</p>\\n\"+\n",
       "       \"<ul>\\n\"+\n",
       "       \"<li>re-rerun `output_notebook()` to attempt to load from CDN again, or</li>\\n\"+\n",
       "       \"<li>use INLINE resources instead, as so:</li>\\n\"+\n",
       "       \"</ul>\\n\"+\n",
       "       \"<code>\\n\"+\n",
       "       \"from bokeh.resources import INLINE\\n\"+\n",
       "       \"output_notebook(resources=INLINE)\\n\"+\n",
       "       \"</code>\\n\"+\n",
       "       \"</div>\"}};\n",
       "  \n",
       "    function display_loaded() {\n",
       "      if (root.Bokeh !== undefined) {\n",
       "        var el = document.getElementById(\"e8111307-0e1c-4e42-880f-160b6790a317\");\n",
       "        if (el != null) {\n",
       "          el.textContent = \"BokehJS \" + Bokeh.version + \" successfully loaded.\";\n",
       "        }\n",
       "      } else if (Date.now() < root._bokeh_timeout) {\n",
       "        setTimeout(display_loaded, 100)\n",
       "      }\n",
       "    }\n",
       "  \n",
       "  \n",
       "    function run_callbacks() {\n",
       "      try {\n",
       "        root._bokeh_onload_callbacks.forEach(function(callback) { callback() });\n",
       "      }\n",
       "      finally {\n",
       "        delete root._bokeh_onload_callbacks\n",
       "      }\n",
       "      console.info(\"Bokeh: all callbacks have finished\");\n",
       "    }\n",
       "  \n",
       "    function load_libs(js_urls, callback) {\n",
       "      root._bokeh_onload_callbacks.push(callback);\n",
       "      if (root._bokeh_is_loading > 0) {\n",
       "        console.log(\"Bokeh: BokehJS is being loaded, scheduling callback at\", now());\n",
       "        return null;\n",
       "      }\n",
       "      if (js_urls == null || js_urls.length === 0) {\n",
       "        run_callbacks();\n",
       "        return null;\n",
       "      }\n",
       "      console.log(\"Bokeh: BokehJS not loaded, scheduling load and callback at\", now());\n",
       "      root._bokeh_is_loading = js_urls.length;\n",
       "      for (var i = 0; i < js_urls.length; i++) {\n",
       "        var url = js_urls[i];\n",
       "        var s = document.createElement('script');\n",
       "        s.src = url;\n",
       "        s.async = false;\n",
       "        s.onreadystatechange = s.onload = function() {\n",
       "          root._bokeh_is_loading--;\n",
       "          if (root._bokeh_is_loading === 0) {\n",
       "            console.log(\"Bokeh: all BokehJS libraries loaded\");\n",
       "            run_callbacks()\n",
       "          }\n",
       "        };\n",
       "        s.onerror = function() {\n",
       "          console.warn(\"failed to load library \" + url);\n",
       "        };\n",
       "        console.log(\"Bokeh: injecting script tag for BokehJS library: \", url);\n",
       "        document.getElementsByTagName(\"head\")[0].appendChild(s);\n",
       "      }\n",
       "    };var element = document.getElementById(\"e8111307-0e1c-4e42-880f-160b6790a317\");\n",
       "    if (element == null) {\n",
       "      console.log(\"Bokeh: ERROR: autoload.js configured with elementid 'e8111307-0e1c-4e42-880f-160b6790a317' but no matching script tag was found. \")\n",
       "      return false;\n",
       "    }\n",
       "  \n",
       "    var js_urls = [];\n",
       "  \n",
       "    var inline_js = [\n",
       "      function(Bokeh) {\n",
       "        (function() {\n",
       "          var fn = function() {\n",
       "            var docs_json = {\"cc0cea24-a95e-4042-90b6-78d8a663d84c\":{\"roots\":{\"references\":[{\"attributes\":{\"plot\":{\"id\":\"f4a2f3fc-09be-4d08-acf7-634df2731f03\",\"subtype\":\"Figure\",\"type\":\"Plot\"},\"source\":{\"id\":\"0c5eef67-7113-4da3-8717-bb910752fb30\",\"type\":\"ColumnDataSource\"},\"text\":{\"field\":\"names\"},\"text_align\":\"center\",\"text_color\":{\"value\":\"#555555\"},\"text_font_size\":{\"value\":\"8pt\"},\"x\":{\"field\":\"x1\"},\"y\":{\"field\":\"x2\"},\"y_offset\":{\"value\":6}},\"id\":\"514d9a1f-3241-4f3c-8902-ab9d8cdf83e5\",\"type\":\"LabelSet\"},{\"attributes\":{\"callback\":null},\"id\":\"601b032d-c3ee-4d1b-bebd-d051da24542a\",\"type\":\"DataRange1d\"},{\"attributes\":{},\"id\":\"19e4ba2a-5433-4a90-a342-bab70ce60e2d\",\"type\":\"BasicTickFormatter\"},{\"attributes\":{},\"id\":\"3c6e9d3d-fc4c-4852-b74a-01c3b39216ed\",\"type\":\"LinearScale\"},{\"attributes\":{\"active_drag\":\"auto\",\"active_inspect\":\"auto\",\"active_scroll\":\"auto\",\"active_tap\":\"auto\",\"tools\":[{\"id\":\"606b3242-fc61-4026-90f7-24c6be31784c\",\"type\":\"PanTool\"},{\"id\":\"e5097363-78e1-4483-a774-d949b4240a01\",\"type\":\"WheelZoomTool\"},{\"id\":\"51c7423a-771d-4fc6-ad11-31030c254fc8\",\"type\":\"ResetTool\"},{\"id\":\"22b56604-5f85-47e8-a2d9-096c1b5655d9\",\"type\":\"SaveTool\"}]},\"id\":\"f3562ec9-1149-4f68-993e-7304c47fb6a0\",\"type\":\"Toolbar\"},{\"attributes\":{},\"id\":\"606b3242-fc61-4026-90f7-24c6be31784c\",\"type\":\"PanTool\"},{\"attributes\":{},\"id\":\"e5097363-78e1-4483-a774-d949b4240a01\",\"type\":\"WheelZoomTool\"},{\"attributes\":{},\"id\":\"c5841edc-1575-48d7-bf9d-3d828c857258\",\"type\":\"LinearScale\"},{\"attributes\":{\"below\":[{\"id\":\"1331d38c-9719-491a-b741-cd67de7a82c2\",\"type\":\"LinearAxis\"}],\"left\":[{\"id\":\"f8629d5d-2a46-405f-8ce1-c0b453ab8f46\",\"type\":\"LinearAxis\"}],\"renderers\":[{\"id\":\"1331d38c-9719-491a-b741-cd67de7a82c2\",\"type\":\"LinearAxis\"},{\"id\":\"cc82b905-d481-4959-9d84-3cf77cba9ec8\",\"type\":\"Grid\"},{\"id\":\"f8629d5d-2a46-405f-8ce1-c0b453ab8f46\",\"type\":\"LinearAxis\"},{\"id\":\"e5d79fd6-4126-4e49-9f72-2e93108c6c90\",\"type\":\"Grid\"},{\"id\":\"6677ebe1-51e6-458d-b0f1-1fcd88e2304d\",\"type\":\"GlyphRenderer\"},{\"id\":\"514d9a1f-3241-4f3c-8902-ab9d8cdf83e5\",\"type\":\"LabelSet\"}],\"title\":{\"id\":\"b3b26a24-a842-4f11-80ae-6e6dc9273e5d\",\"type\":\"Title\"},\"toolbar\":{\"id\":\"f3562ec9-1149-4f68-993e-7304c47fb6a0\",\"type\":\"Toolbar\"},\"toolbar_location\":\"above\",\"x_range\":{\"id\":\"601b032d-c3ee-4d1b-bebd-d051da24542a\",\"type\":\"DataRange1d\"},\"x_scale\":{\"id\":\"3c6e9d3d-fc4c-4852-b74a-01c3b39216ed\",\"type\":\"LinearScale\"},\"y_range\":{\"id\":\"13392215-5301-4e53-b730-ef3fd588d38d\",\"type\":\"DataRange1d\"},\"y_scale\":{\"id\":\"c5841edc-1575-48d7-bf9d-3d828c857258\",\"type\":\"LinearScale\"}},\"id\":\"f4a2f3fc-09be-4d08-acf7-634df2731f03\",\"subtype\":\"Figure\",\"type\":\"Plot\"},{\"attributes\":{},\"id\":\"22b56604-5f85-47e8-a2d9-096c1b5655d9\",\"type\":\"SaveTool\"},{\"attributes\":{\"plot\":{\"id\":\"f4a2f3fc-09be-4d08-acf7-634df2731f03\",\"subtype\":\"Figure\",\"type\":\"Plot\"},\"ticker\":{\"id\":\"bffe0b79-79cd-4d02-a620-393576f25941\",\"type\":\"BasicTicker\"}},\"id\":\"cc82b905-d481-4959-9d84-3cf77cba9ec8\",\"type\":\"Grid\"},{\"attributes\":{\"callback\":null,\"column_names\":[\"x1\",\"x2\",\"names\",\"colors\"],\"data\":{\"colors\":[\"#c7c7c7\",\"#ffbb78\",\"#ff7f0e\",\"#98df8a\",\"#c49c94\",\"#7f7f7f\",\"#98df8a\",\"#98df8a\",\"#7f7f7f\",\"#aec7e8\",\"#98df8a\",\"#bcbd22\",\"#dbdb8d\",\"#aec7e8\",\"#d62728\",\"#98df8a\",\"#98df8a\",\"#98df8a\",\"#98df8a\",\"#98df8a\",\"#17becf\",\"#98df8a\",\"#ffbb78\",\"#dbdb8d\",\"#9467bd\",\"#dbdb8d\",\"#7f7f7f\",\"#aec7e8\",\"#2ca02c\",\"#ff9896\",\"#7f7f7f\",\"#aec7e8\",\"#c49c94\",\"#ff9896\",\"#7f7f7f\",\"#f7b6d2\",\"#7f7f7f\",\"#aec7e8\",\"#aec7e8\",\"#9edae5\",\"#7f7f7f\",\"#c49c94\",\"#f7b6d2\",\"#ffbb78\",\"#c5b0d5\",\"#dbdb8d\",\"#8c564b\",\"#17becf\",\"#ffbb78\",\"#ff9896\",\"#c5b0d5\",\"#f7b6d2\",\"#c7c7c7\",\"#2ca02c\",\"#f7b6d2\",\"#ffbb78\",\"#c5b0d5\",\"#2ca02c\",\"#7f7f7f\",\"#8c564b\",\"#c5b0d5\",\"#17becf\",\"#aec7e8\",\"#aec7e8\",\"#d62728\",\"#aec7e8\",\"#2ca02c\",\"#aec7e8\",\"#1f77b4\",\"#e377c2\",\"#bcbd22\",\"#1f77b4\",\"#2ca02c\",\"#1f77b4\",\"#1f77b4\",\"#2ca02c\",\"#8c564b\",\"#1f77b4\",\"#c49c94\",\"#d62728\",\"#bcbd22\",\"#d62728\",\"#aec7e8\",\"#2ca02c\",\"#c7c7c7\",\"#2ca02c\",\"#dbdb8d\",\"#c5b0d5\",\"#c49c94\",\"#c5b0d5\",\"#2ca02c\",\"#8c564b\",\"#c49c94\",\"#1f77b4\",\"#d62728\",\"#d62728\",\"#c5b0d5\",\"#c7c7c7\",\"#2ca02c\",\"#7f7f7f\",\"#c5b0d5\",\"#aec7e8\",\"#2ca02c\",\"#d62728\",\"#aec7e8\",\"#aec7e8\",\"#17becf\",\"#aec7e8\",\"#bcbd22\",\"#aec7e8\",\"#8c564b\",\"#8c564b\",\"#aec7e8\",\"#aec7e8\",\"#8c564b\",\"#c5b0d5\",\"#9467bd\",\"#f7b6d2\",\"#ff7f0e\",\"#98df8a\",\"#aec7e8\",\"#8c564b\",\"#9edae5\",\"#7f7f7f\",\"#d62728\",\"#1f77b4\",\"#aec7e8\",\"#ff7f0e\",\"#8c564b\",\"#1f77b4\",\"#f7b6d2\",\"#1f77b4\",\"#1f77b4\",\"#c7c7c7\",\"#bcbd22\",\"#bcbd22\",\"#9467bd\",\"#c7c7c7\",\"#ffbb78\",\"#d62728\",\"#e377c2\",\"#d62728\",\"#dbdb8d\",\"#c5b0d5\",\"#d62728\",\"#8c564b\",\"#aec7e8\",\"#98df8a\",\"#8c564b\",\"#c5b0d5\",\"#e377c2\",\"#2ca02c\",\"#c7c7c7\",\"#e377c2\",\"#1f77b4\",\"#8c564b\",\"#1f77b4\",\"#ff7f0e\",\"#2ca02c\",\"#ffbb78\",\"#c5b0d5\",\"#d62728\",\"#aec7e8\",\"#ffbb78\",\"#c5b0d5\",\"#9467bd\",\"#d62728\",\"#9edae5\",\"#f7b6d2\",\"#f7b6d2\",\"#1f77b4\",\"#f7b6d2\",\"#c5b0d5\",\"#98df8a\",\"#dbdb8d\",\"#7f7f7f\",\"#bcbd22\",\"#98df8a\",\"#c7c7c7\",\"#d62728\",\"#1f77b4\",\"#7f7f7f\",\"#7f7f7f\",\"#bcbd22\",\"#f7b6d2\",\"#bcbd22\",\"#d62728\",\"#9467bd\",\"#c7c7c7\",\"#8c564b\",\"#d62728\",\"#2ca02c\",\"#c5b0d5\",\"#2ca02c\",\"#1f77b4\",\"#ff7f0e\",\"#d62728\",\"#1f77b4\",\"#c5b0d5\",\"#ffbb78\",\"#7f7f7f\",\"#ff7f0e\",\"#c7c7c7\",\"#c49c94\",\"#2ca02c\",\"#f7b6d2\",\"#f7b6d2\",\"#7f7f7f\",\"#9467bd\",\"#98df8a\",\"#c5b0d5\",\"#ffbb78\",\"#2ca02c\",\"#98df8a\",\"#f7b6d2\",\"#8c564b\",\"#f7b6d2\",\"#c7c7c7\",\"#c7c7c7\",\"#98df8a\",\"#2ca02c\",\"#c7c7c7\",\"#2ca02c\",\"#1f77b4\",\"#d62728\",\"#7f7f7f\",\"#2ca02c\",\"#2ca02c\",\"#aec7e8\",\"#f7b6d2\",\"#e377c2\",\"#7f7f7f\",\"#c7c7c7\",\"#ff7f0e\",\"#1f77b4\",\"#d62728\",\"#f7b6d2\",\"#7f7f7f\",\"#d62728\",\"#f7b6d2\",\"#f7b6d2\",\"#aec7e8\",\"#f7b6d2\",\"#c5b0d5\",\"#c5b0d5\",\"#8c564b\",\"#8c564b\",\"#1f77b4\",\"#c5b0d5\",\"#8c564b\",\"#2ca02c\",\"#aec7e8\",\"#bcbd22\",\"#f7b6d2\",\"#ff7f0e\",\"#ffbb78\",\"#7f7f7f\",\"#1f77b4\",\"#ff7f0e\",\"#1f77b4\",\"#2ca02c\",\"#c5b0d5\",\"#aec7e8\",\"#f7b6d2\",\"#d62728\",\"#f7b6d2\",\"#f7b6d2\",\"#9467bd\",\"#98df8a\",\"#f7b6d2\",\"#8c564b\",\"#f7b6d2\",\"#c7c7c7\",\"#c7c7c7\",\"#e377c2\",\"#9467bd\",\"#f7b6d2\",\"#c49c94\",\"#ffbb78\",\"#8c564b\",\"#8c564b\",\"#8c564b\",\"#7f7f7f\",\"#ffbb78\",\"#c7c7c7\",\"#aec7e8\",\"#d62728\",\"#8c564b\",\"#2ca02c\",\"#e377c2\",\"#8c564b\",\"#7f7f7f\",\"#2ca02c\",\"#c7c7c7\",\"#f7b6d2\",\"#f7b6d2\",\"#c7c7c7\",\"#98df8a\",\"#ffbb78\",\"#2ca02c\",\"#c5b0d5\",\"#ffbb78\",\"#d62728\",\"#d62728\",\"#aec7e8\",\"#d62728\",\"#2ca02c\",\"#c7c7c7\",\"#c7c7c7\",\"#f7b6d2\",\"#ff7f0e\",\"#2ca02c\",\"#f7b6d2\",\"#2ca02c\",\"#7f7f7f\",\"#9467bd\",\"#d62728\",\"#f7b6d2\",\"#8c564b\",\"#c7c7c7\",\"#7f7f7f\",\"#c7c7c7\",\"#d62728\",\"#aec7e8\",\"#2ca02c\",\"#aec7e8\",\"#ff7f0e\",\"#2ca02c\",\"#2ca02c\",\"#8c564b\",\"#7f7f7f\",\"#f7b6d2\",\"#9467bd\",\"#f7b6d2\",\"#2ca02c\",\"#d62728\",\"#ffbb78\",\"#c7c7c7\",\"#d62728\",\"#f7b6d2\",\"#ffbb78\",\"#f7b6d2\",\"#f7b6d2\",\"#7f7f7f\",\"#ffbb78\",\"#1f77b4\",\"#2ca02c\",\"#bcbd22\",\"#2ca02c\",\"#2ca02c\",\"#7f7f7f\",\"#c7c7c7\",\"#2ca02c\",\"#c7c7c7\",\"#2ca02c\",\"#7f7f7f\",\"#2ca02c\",\"#9467bd\",\"#f7b6d2\",\"#f7b6d2\",\"#8c564b\",\"#f7b6d2\",\"#1f77b4\",\"#d62728\",\"#c5b0d5\",\"#2ca02c\",\"#f7b6d2\",\"#aec7e8\",\"#f7b6d2\",\"#aec7e8\",\"#ff7f0e\",\"#c7c7c7\",\"#f7b6d2\",\"#ffbb78\",\"#2ca02c\",\"#f7b6d2\",\"#2ca02c\",\"#9467bd\",\"#d62728\",\"#c5b0d5\",\"#8c564b\",\"#aec7e8\",\"#c7c7c7\",\"#9467bd\",\"#9467bd\",\"#2ca02c\",\"#2ca02c\",\"#f7b6d2\",\"#2ca02c\",\"#c7c7c7\",\"#2ca02c\",\"#f7b6d2\",\"#ffbb78\",\"#ff7f0e\",\"#8c564b\",\"#2ca02c\",\"#f7b6d2\",\"#c7c7c7\",\"#f7b6d2\",\"#ffbb78\",\"#7f7f7f\",\"#ffbb78\",\"#f7b6d2\",\"#c49c94\",\"#7f7f7f\",\"#aec7e8\",\"#ff7f0e\",\"#7f7f7f\",\"#8c564b\",\"#f7b6d2\",\"#7f7f7f\",\"#d62728\",\"#7f7f7f\",\"#2ca02c\",\"#7f7f7f\",\"#1f77b4\",\"#d62728\",\"#dbdb8d\",\"#d62728\",\"#f7b6d2\",\"#1f77b4\",\"#7f7f7f\",\"#2ca02c\",\"#ff7f0e\",\"#c7c7c7\",\"#c7c7c7\",\"#c7c7c7\",\"#2ca02c\",\"#8c564b\",\"#2ca02c\",\"#f7b6d2\",\"#2ca02c\",\"#2ca02c\",\"#c7c7c7\",\"#c7c7c7\",\"#f7b6d2\",\"#98df8a\",\"#9467bd\",\"#f7b6d2\",\"#f7b6d2\",\"#d62728\",\"#d62728\",\"#c7c7c7\",\"#ffbb78\",\"#f7b6d2\",\"#d62728\",\"#8c564b\",\"#c7c7c7\",\"#c7c7c7\",\"#2ca02c\",\"#f7b6d2\",\"#c7c7c7\",\"#d62728\",\"#ffbb78\",\"#f7b6d2\",\"#c7c7c7\",\"#d62728\",\"#d62728\",\"#98df8a\",\"#f7b6d2\",\"#f7b6d2\",\"#2ca02c\",\"#ffbb78\",\"#c7c7c7\",\"#1f77b4\",\"#f7b6d2\",\"#c7c7c7\",\"#c7c7c7\",\"#7f7f7f\",\"#f7b6d2\",\"#7f7f7f\",\"#8c564b\",\"#f7b6d2\",\"#7f7f7f\",\"#d62728\",\"#d62728\",\"#c7c7c7\",\"#9467bd\",\"#9467bd\",\"#7f7f7f\",\"#d62728\",\"#c7c7c7\",\"#2ca02c\",\"#d62728\",\"#98df8a\",\"#ffbb78\",\"#c7c7c7\",\"#7f7f7f\",\"#f7b6d2\",\"#7f7f7f\",\"#c7c7c7\",\"#98df8a\",\"#2ca02c\",\"#2ca02c\",\"#2ca02c\",\"#7f7f7f\",\"#7f7f7f\",\"#f7b6d2\",\"#2ca02c\",\"#c5b0d5\",\"#d62728\",\"#f7b6d2\",\"#c7c7c7\",\"#aec7e8\",\"#c7c7c7\",\"#c7c7c7\",\"#2ca02c\",\"#f7b6d2\",\"#1f77b4\",\"#c7c7c7\",\"#f7b6d2\",\"#ffbb78\",\"#ffbb78\",\"#2ca02c\",\"#7f7f7f\",\"#c5b0d5\",\"#f7b6d2\",\"#c7c7c7\",\"#c7c7c7\",\"#c7c7c7\",\"#ffbb78\",\"#f7b6d2\",\"#9467bd\",\"#c7c7c7\",\"#c5b0d5\",\"#7f7f7f\",\"#f7b6d2\",\"#c7c7c7\",\"#2ca02c\",\"#2ca02c\",\"#1f77b4\",\"#2ca02c\",\"#c7c7c7\",\"#c7c7c7\",\"#c7c7c7\",\"#c7c7c7\",\"#d62728\",\"#2ca02c\",\"#d62728\",\"#c7c7c7\",\"#f7b6d2\",\"#98df8a\",\"#9467bd\",\"#c7c7c7\",\"#2ca02c\",\"#7f7f7f\",\"#c7c7c7\",\"#c7c7c7\",\"#c7c7c7\",\"#ffbb78\",\"#2ca02c\",\"#f7b6d2\",\"#d62728\",\"#2ca02c\",\"#d62728\",\"#98df8a\",\"#2ca02c\",\"#ffbb78\",\"#d62728\",\"#f7b6d2\",\"#c7c7c7\",\"#f7b6d2\",\"#7f7f7f\",\"#2ca02c\",\"#c7c7c7\",\"#dbdb8d\",\"#d62728\",\"#c7c7c7\",\"#c7c7c7\",\"#98df8a\",\"#d62728\",\"#d62728\",\"#7f7f7f\",\"#c7c7c7\",\"#9467bd\",\"#2ca02c\",\"#9467bd\",\"#7f7f7f\",\"#98df8a\",\"#7f7f7f\",\"#98df8a\",\"#2ca02c\",\"#c5b0d5\",\"#d62728\",\"#9467bd\",\"#9467bd\",\"#7f7f7f\",\"#2ca02c\",\"#7f7f7f\",\"#2ca02c\",\"#2ca02c\",\"#ffbb78\",\"#2ca02c\",\"#2ca02c\",\"#c7c7c7\",\"#c7c7c7\",\"#c7c7c7\",\"#2ca02c\",\"#f7b6d2\",\"#2ca02c\",\"#c7c7c7\",\"#c7c7c7\",\"#7f7f7f\",\"#f7b6d2\",\"#8c564b\",\"#c7c7c7\",\"#c5b0d5\",\"#98df8a\",\"#ffbb78\",\"#d62728\",\"#2ca02c\",\"#f7b6d2\",\"#2ca02c\",\"#c7c7c7\",\"#f7b6d2\",\"#f7b6d2\",\"#f7b6d2\",\"#f7b6d2\",\"#c7c7c7\",\"#c7c7c7\",\"#7f7f7f\",\"#c7c7c7\",\"#9467bd\",\"#f7b6d2\",\"#c7c7c7\",\"#f7b6d2\",\"#f7b6d2\",\"#f7b6d2\",\"#f7b6d2\",\"#c7c7c7\",\"#f7b6d2\",\"#98df8a\",\"#c7c7c7\",\"#2ca02c\",\"#98df8a\",\"#7f7f7f\",\"#c7c7c7\",\"#ffbb78\",\"#2ca02c\",\"#2ca02c\",\"#d62728\",\"#c5b0d5\",\"#c7c7c7\",\"#2ca02c\",\"#d62728\",\"#f7b6d2\",\"#c7c7c7\",\"#c7c7c7\",\"#98df8a\",\"#c7c7c7\",\"#d62728\",\"#7f7f7f\",\"#c7c7c7\",\"#7f7f7f\",\"#c7c7c7\",\"#8c564b\",\"#f7b6d2\",\"#c7c7c7\",\"#ffbb78\",\"#c7c7c7\",\"#d62728\",\"#c7c7c7\",\"#c7c7c7\",\"#2ca02c\",\"#2ca02c\",\"#f7b6d2\",\"#2ca02c\",\"#c7c7c7\",\"#2ca02c\",\"#2ca02c\",\"#c7c7c7\",\"#c7c7c7\",\"#ffbb78\",\"#7f7f7f\",\"#c7c7c7\",\"#2ca02c\",\"#9467bd\",\"#2ca02c\",\"#c7c7c7\",\"#7f7f7f\",\"#2ca02c\",\"#2ca02c\",\"#7f7f7f\",\"#2ca02c\",\"#7f7f7f\",\"#d62728\",\"#c7c7c7\",\"#c7c7c7\",\"#2ca02c\",\"#2ca02c\",\"#f7b6d2\",\"#ffbb78\",\"#f7b6d2\",\"#2ca02c\",\"#c7c7c7\",\"#f7b6d2\",\"#2ca02c\",\"#c7c7c7\",\"#c7c7c7\",\"#c7c7c7\",\"#d62728\",\"#c7c7c7\",\"#2ca02c\",\"#c7c7c7\",\"#2ca02c\",\"#f7b6d2\",\"#c7c7c7\",\"#2ca02c\",\"#2ca02c\",\"#2ca02c\",\"#2ca02c\",\"#7f7f7f\",\"#2ca02c\",\"#2ca02c\",\"#7f7f7f\",\"#2ca02c\",\"#c7c7c7\",\"#ffbb78\",\"#d62728\",\"#c7c7c7\",\"#c7c7c7\",\"#c7c7c7\",\"#2ca02c\",\"#7f7f7f\",\"#d62728\",\"#d62728\",\"#f7b6d2\",\"#ffbb78\",\"#2ca02c\",\"#2ca02c\",\"#d62728\",\"#98df8a\",\"#2ca02c\",\"#c7c7c7\",\"#c7c7c7\",\"#98df8a\",\"#c7c7c7\",\"#d62728\",\"#c7c7c7\",\"#98df8a\",\"#c7c7c7\",\"#c7c7c7\",\"#d62728\",\"#7f7f7f\",\"#c7c7c7\",\"#f7b6d2\",\"#c7c7c7\",\"#7f7f7f\",\"#d62728\",\"#2ca02c\",\"#c7c7c7\",\"#f7b6d2\",\"#c7c7c7\",\"#ffbb78\",\"#f7b6d2\",\"#d62728\",\"#2ca02c\",\"#9467bd\",\"#c7c7c7\",\"#c7c7c7\",\"#2ca02c\",\"#c7c7c7\",\"#c7c7c7\",\"#c7c7c7\",\"#c7c7c7\",\"#2ca02c\",\"#c7c7c7\",\"#c7c7c7\",\"#2ca02c\",\"#c7c7c7\",\"#c7c7c7\",\"#c7c7c7\",\"#c7c7c7\",\"#c7c7c7\",\"#c7c7c7\",\"#2ca02c\",\"#2ca02c\",\"#ffbb78\",\"#c7c7c7\",\"#2ca02c\",\"#c7c7c7\",\"#aec7e8\",\"#2ca02c\",\"#d62728\",\"#c7c7c7\",\"#c7c7c7\",\"#7f7f7f\",\"#2ca02c\",\"#f7b6d2\",\"#2ca02c\",\"#2ca02c\",\"#c7c7c7\",\"#2ca02c\",\"#2ca02c\",\"#98df8a\",\"#c7c7c7\",\"#2ca02c\",\"#8c564b\",\"#ffbb78\",\"#f7b6d2\",\"#2ca02c\",\"#c7c7c7\",\"#c7c7c7\",\"#c7c7c7\",\"#2ca02c\",\"#ffbb78\",\"#c7c7c7\",\"#2ca02c\",\"#c7c7c7\",\"#c7c7c7\",\"#2ca02c\",\"#2ca02c\",\"#c7c7c7\",\"#d62728\",\"#2ca02c\",\"#c7c7c7\",\"#d62728\",\"#c7c7c7\",\"#c7c7c7\",\"#f7b6d2\",\"#2ca02c\",\"#2ca02c\",\"#f7b6d2\",\"#c7c7c7\",\"#ffbb78\",\"#c7c7c7\",\"#c7c7c7\",\"#c7c7c7\",\"#9467bd\",\"#d62728\",\"#f7b6d2\",\"#2ca02c\",\"#2ca02c\",\"#2ca02c\",\"#8c564b\",\"#d62728\",\"#2ca02c\",\"#c7c7c7\",\"#8c564b\",\"#2ca02c\",\"#ffbb78\",\"#c7c7c7\",\"#2ca02c\",\"#c7c7c7\",\"#c7c7c7\",\"#c7c7c7\",\"#2ca02c\",\"#7f7f7f\",\"#f7b6d2\",\"#2ca02c\",\"#c7c7c7\",\"#2ca02c\",\"#2ca02c\",\"#d62728\",\"#f7b6d2\",\"#ffbb78\",\"#2ca02c\",\"#98df8a\",\"#ffbb78\",\"#c7c7c7\",\"#c7c7c7\",\"#c7c7c7\",\"#c7c7c7\",\"#2ca02c\",\"#c7c7c7\",\"#c7c7c7\",\"#7f7f7f\",\"#ffbb78\",\"#2ca02c\",\"#2ca02c\",\"#c7c7c7\",\"#c7c7c7\",\"#2ca02c\",\"#c7c7c7\",\"#f7b6d2\",\"#c7c7c7\",\"#2ca02c\",\"#c7c7c7\",\"#2ca02c\",\"#9467bd\",\"#c7c7c7\",\"#d62728\",\"#ffbb78\",\"#d62728\",\"#2ca02c\",\"#c7c7c7\",\"#7f7f7f\",\"#c7c7c7\",\"#2ca02c\",\"#2ca02c\",\"#f7b6d2\",\"#f7b6d2\",\"#2ca02c\",\"#2ca02c\",\"#2ca02c\",\"#98df8a\",\"#2ca02c\",\"#2ca02c\",\"#2ca02c\",\"#c7c7c7\",\"#2ca02c\",\"#c7c7c7\",\"#2ca02c\",\"#c7c7c7\",\"#c7c7c7\",\"#2ca02c\",\"#c7c7c7\",\"#d62728\",\"#1f77b4\",\"#f7b6d2\",\"#2ca02c\",\"#2ca02c\",\"#2ca02c\",\"#f7b6d2\",\"#2ca02c\",\"#c7c7c7\",\"#2ca02c\",\"#c7c7c7\",\"#2ca02c\",\"#7f7f7f\",\"#f7b6d2\",\"#8c564b\",\"#2ca02c\",\"#f7b6d2\",\"#c7c7c7\",\"#9467bd\",\"#2ca02c\",\"#c7c7c7\",\"#f7b6d2\",\"#2ca02c\",\"#c7c7c7\",\"#2ca02c\",\"#c7c7c7\",\"#c7c7c7\",\"#d62728\",\"#2ca02c\",\"#7f7f7f\",\"#d62728\",\"#c7c7c7\",\"#f7b6d2\",\"#c7c7c7\",\"#ffbb78\",\"#c7c7c7\",\"#2ca02c\",\"#2ca02c\",\"#f7b6d2\",\"#2ca02c\",\"#2ca02c\",\"#d62728\",\"#c7c7c7\",\"#f7b6d2\",\"#2ca02c\",\"#98df8a\",\"#c7c7c7\",\"#f7b6d2\",\"#c7c7c7\",\"#c7c7c7\",\"#7f7f7f\",\"#1f77b4\",\"#c7c7c7\",\"#f7b6d2\",\"#c7c7c7\",\"#c7c7c7\",\"#2ca02c\",\"#ffbb78\",\"#2ca02c\",\"#c7c7c7\",\"#c7c7c7\",\"#2ca02c\",\"#2ca02c\",\"#c7c7c7\",\"#c7c7c7\",\"#ffbb78\",\"#8c564b\",\"#ffbb78\",\"#c7c7c7\",\"#f7b6d2\",\"#2ca02c\",\"#2ca02c\",\"#2ca02c\",\"#2ca02c\",\"#2ca02c\",\"#c7c7c7\",\"#c7c7c7\",\"#8c564b\",\"#c7c7c7\",\"#2ca02c\",\"#d62728\",\"#c7c7c7\",\"#c7c7c7\",\"#c7c7c7\",\"#ffbb78\",\"#98df8a\",\"#c7c7c7\",\"#d62728\",\"#c7c7c7\",\"#c7c7c7\",\"#c7c7c7\",\"#2ca02c\",\"#f7b6d2\"],\"names\":[\"the\",\"<unk>\",\"N\",\"of\",\"to\",\"a\",\"in\",\"and\",\"'s\",\"that\",\"for\",\"$\",\"is\",\"it\",\"said\",\"on\",\"by\",\"at\",\"as\",\"from\",\"million\",\"with\",\"mr.\",\"was\",\"be\",\"are\",\"its\",\"he\",\"but\",\"has\",\"an\",\"n't\",\"will\",\"have\",\"new\",\"or\",\"company\",\"they\",\"this\",\"year\",\"which\",\"would\",\"about\",\"says\",\"more\",\"were\",\"market\",\"billion\",\"his\",\"had\",\"their\",\"up\",\"u.s.\",\"one\",\"than\",\"who\",\"some\",\"been\",\"also\",\"stock\",\"other\",\"share\",\"not\",\"we\",\"corp.\",\"if\",\"when\",\"i\",\"last\",\"president\",\"shares\",\"years\",\"all\",\"first\",\"two\",\"because\",\"trading\",\"after\",\"could\",\"inc.\",\"sales\",\"&\",\"there\",\"out\",\"business\",\"only\",\"do\",\"such\",\"can\",\"most\",\"into\",\"york\",\"may\",\"over\",\"co.\",\"group\",\"many\",\"government\",\"now\",\"federal\",\"companies\",\"no\",\"time\",\"bank\",\"so\",\"any\",\"cents\",\"people\",\"quarter\",\"you\",\"exchange\",\"prices\",\"even\",\"what\",\"price\",\"investors\",\"say\",\"down\",\"rose\",\"while\",\"much\",\"yesterday\",\"week\",\"under\",\"securities\",\"months\",\"them\",\"bonds\",\"big\",\"next\",\"interest\",\"three\",\"earlier\",\"'\",\"net\",\"earnings\",\"make\",\"major\",\"state\",\"american\",\"chairman\",\"financial\",\"did\",\"these\",\"investment\",\"board\",\"still\",\"through\",\"stocks\",\"those\",\"chief\",\"just\",\"industry\",\"executive\",\"since\",\"program\",\"before\",\"rate\",\"made\",\"officials\",\"money\",\"national\",\"she\",\"house\",\"analysts\",\"like\",\"unit\",\"month\",\"expected\",\"off\",\"days\",\"rates\",\"japanese\",\"against\",\"does\",\"plan\",\"profit\",\"between\",\"both\",\"capital\",\"recent\",\"sell\",\"buy\",\"income\",\"issue\",\"revenue\",\"general\",\"get\",\"products\",\"markets\",\"firm\",\"back\",\"funds\",\"own\",\"ago\",\"average\",\"international\",\"during\",\"well\",\"her\",\"part\",\"fell\",\"japan\",\"should\",\"another\",\"higher\",\"debt\",\"offer\",\"take\",\"including\",\"among\",\"court\",\"being\",\"according\",\"each\",\"index\",\"tax\",\"trade\",\"world\",\"reported\",\"work\",\"operations\",\"then\",\"past\",\"computer\",\"sale\",\"our\",\"however\",\"way\",\"lower\",\"vice\",\"plans\",\"economic\",\"yield\",\"end\",\"department\",\"report\",\"sold\",\"insurance\",\"high\",\"growth\",\"how\",\"increase\",\"foreign\",\"less\",\"common\",\"closed\",\"several\",\"banks\",\"issues\",\"where\",\"very\",\"loss\",\"pay\",\"yen\",\"bush\",\"bid\",\"five\",\"due\",\"few\",\"bill\",\"used\",\"good\",\"current\",\"management\",\"early\",\"cash\",\"use\",\"oil\",\"costs\",\"bond\",\"day\",\"system\",\"public\",\"director\",\"'re\",\"third\",\"might\",\"law\",\"traders\",\"treasury\",\"friday\",\"added\",\"office\",\"city\",\"congress\",\"concern\",\"futures\",\"far\",\"officer\",\"late\",\"fund\",\"already\",\"number\",\"assets\",\"least\",\"california\",\"operating\",\"spokesman\",\"him\",\"small\",\"agency\",\"british\",\"based\",\"too\",\"san\",\"case\",\"real\",\"news\",\"value\",\"september\",\"same\",\"oct.\",\"until\",\"contract\",\"think\",\"research\",\"close\",\"street\",\"home\",\"stake\",\"union\",\"services\",\"going\",\"today\",\"little\",\"ended\",\"though\",\"move\",\"wall\",\"agreement\",\"dollar\",\"help\",\"second\",\"put\",\"service\",\"former\",\"power\",\"maker\",\"period\",\"called\",\"results\",\"total\",\"agreed\",\"administration\",\"four\",\"here\",\"third-quarter\",\"without\",\"long\",\"control\",\"corporate\",\"economy\",\"credit\",\"problems\",\"offering\",\"country\",\"want\",\"production\",\"cost\",\"buying\",\"loans\",\"six\",\"analyst\",\"firms\",\"although\",\"annual\",\"whether\",\"increased\",\"likely\",\"compared\",\"recently\",\"point\",\"committee\",\"policy\",\"notes\",\"cut\",\"see\",\"west\",\"large\",\"monday\",\"right\",\"soviet\",\"continue\",\"go\",\"around\",\"set\",\"half\",\"political\",\"life\",\"further\",\"losses\",\"old\",\"points\",\"volume\",\"yet\",\"august\",\"paper\",\"selling\",\"john\",\"plant\",\"judge\",\"strong\",\"must\",\"expects\",\"my\",\"nov.\",\"ual\",\"london\",\"result\",\"announced\",\"largest\",\"declined\",\"support\",\"held\",\"fiscal\",\"systems\",\"wo\",\"francisco\",\"times\",\"weeks\",\"takeover\",\"making\",\"priced\",\"certain\",\"earthquake\",\"workers\",\"become\",\"composite\",\"change\",\"gain\",\"problem\",\"come\",\"businesses\",\"south\",\"demand\",\"industrial\",\"give\",\"record\",\"nearly\",\"senior\",\"association\",\"development\",\"white\",\"series\",\"inc\",\"dow\",\"area\",\"members\",\"took\",\"estimated\",\"data\",\"air\",\"official\",\"orders\",\"employees\",\"trust\",\"estate\",\"jones\",\"decline\",\"level\",\"show\",\"senate\",\"line\",\"later\",\"latest\",\"health\",\"example\",\"acquisition\",\"drop\",\"comment\",\"junk\",\"tuesday\",\"meeting\",\"commission\",\"holding\",\"commercial\",\"know\",\"need\",\"ford\",\"texas\",\"building\",\"your\",\"chicago\",\"despite\",\"ms.\",\"currently\",\"addition\",\"paid\",\"proposal\",\"executives\",\"offered\",\"possible\",\"others\",\"once\",\"proposed\",\"purchase\",\"rise\",\"deal\",\"better\",\"loan\",\"return\",\"technology\",\"us\",\"investor\",\"nation\",\"future\",\"spending\",\"nine\",\"drug\",\"almost\",\"washington\",\"robert\",\"changes\",\"received\",\"often\",\"damage\",\"terms\",\"product\",\"east\",\"named\",\"october\",\"expect\",\"top\",\"customers\",\"filed\",\"charge\",\"information\",\"decision\",\"order\",\"within\",\"position\",\"force\",\"include\",\"rights\",\"defense\",\"division\",\"every\",\"gas\",\"america\",\"amount\",\"began\",\"enough\",\"came\",\"trying\",\"outstanding\",\"europe\",\"equipment\",\"private\",\"told\",\"found\",\"gains\",\"industries\",\"again\",\"ltd.\",\"dropped\",\"makes\",\"james\",\"united\",\"previous\",\"programs\",\"july\",\"transaction\",\"fed\",\"computers\",\"ca\",\"banking\",\"european\",\"budget\",\"following\",\"finance\",\"co\",\"warner\",\"local\",\"provide\",\"never\",\"'ve\",\"jaguar\",\"consumer\",\"additional\",\"mortgage\",\"lot\",\"managers\",\"corp\",\"keep\",\"able\",\"shareholders\",\"action\",\"buy-out\",\"important\",\"great\",\"university\",\"got\",\"instead\",\"claims\",\"charges\",\"steel\",\"away\",\"units\",\"best\",\"states\",\"car\",\"financing\",\"dollars\",\"tokyo\",\"construction\",\"things\",\"continued\",\"manager\",\"marketing\",\"run\",\"bills\",\"asked\",\"auto\",\"low\",\"fall\",\"march\",\"inflation\",\"family\",\"food\",\"equity\",\"whose\",\"believe\",\"june\",\"advertising\",\"above\",\"sept.\",\"raise\",\"below\",\"personal\",\"full\",\"posted\",\"account\",\"getting\",\"lost\",\"suit\",\"china\",\"head\",\"soon\",\"taken\",\"los\",\"rather\",\"stores\",\"risk\",\"via\",\"contracts\",\"western\",\"potential\",\"included\",\"security\",\"boston\",\"special\",\"figures\",\"restructuring\",\"legal\",\"options\",\"gold\",\"led\",\"mrs.\",\"reports\",\"subsidiary\",\"tv\",\"using\",\"place\",\"noted\",\"face\",\"fact\",\"dealers\",\"open\",\"working\",\"meanwhile\",\"countries\",\"d.\",\"holders\",\"network\",\"effort\",\"find\",\"probably\",\"portfolio\",\"approved\",\"cases\",\"itself\",\"bought\",\"available\",\"statement\",\"pacific\",\"ibm\",\"long-term\",\"lawyers\",\"effect\",\"#\",\"david\",\"short\",\"reached\",\"ad\",\"increases\",\"left\",\"cars\",\"labor\",\"efforts\",\"airlines\",\"along\",\"remain\",\"domestic\",\"either\",\"dividend\",\"germany\",\"similar\",\"known\",\"hard\",\"talks\",\"reduce\",\"look\",\"having\",\"previously\",\"saying\",\"groups\",\"secretary\",\"chemical\",\"reserve\",\"school\",\"center\",\"calls\",\"approval\",\"canada\",\"telephone\",\"payments\",\"party\",\"clear\",\"given\",\"parent\",\"gained\",\"looking\",\"eastern\",\"individual\",\"standard\",\"manufacturing\",\"north\",\"profits\",\"canadian\",\"biggest\",\"investments\",\"savings\",\"acquired\",\"helped\",\"slightly\",\"directors\",\"raised\",\"angeles\",\"strategy\",\"machines\",\"marks\",\"black\",\"attorney\",\"percentage\",\"institute\",\"act\",\"why\",\"television\",\"military\",\"coming\",\"bay\",\"medical\",\"makers\",\"performance\",\"clients\",\"airline\",\"team\",\"different\",\"energy\",\"heavy\",\"britain\",\"german\",\"interests\",\"growing\",\"hit\",\"particularly\",\"william\",\"magazine\",\"failed\",\"lead\",\"something\",\"remains\",\"communications\",\"estimates\",\"fees\",\"completed\",\"went\",\"levels\",\"call\",\"job\",\"limited\",\"process\",\"question\",\"includes\",\"joint\",\"role\",\"hong\",\"michael\",\"year-earlier\",\"legislation\",\"project\",\"goods\",\"activity\",\"view\",\"district\",\"lines\",\"free\",\"property\",\"leading\",\"toward\",\"me\",\"columbia\",\"merrill\",\"name\",\"seeking\",\"venture\",\"leaders\",\"institutions\",\"deficit\",\"ever\",\"wants\",\"reserves\",\"currency\",\"rep.\",\"huge\",\"independent\",\"concerns\",\"'m\",\"owns\",\"scheduled\",\"turn\",\"involved\",\"taking\",\"s&p\",\"lynch\",\"doing\",\"outside\",\"kong\",\"hold\",\"young\",\"build\",\"really\",\"transportation\",\"pressure\",\"buyers\",\"vote\",\"gm\",\"april\",\"begin\",\"producers\",\"measure\",\"always\",\"calif.\",\"basis\",\"leader\",\"especially\",\"daily\",\"staff\",\"care\",\"brokerage\",\"related\",\"key\",\"means\",\"plants\",\"competition\",\"acquire\",\"richard\",\"disclosed\",\"themselves\",\"aid\",\"projects\",\"adds\",\"areas\",\"range\",\"conference\",\"reason\",\"central\",\"campaign\",\"try\",\"impact\",\"drexel\",\"j.\",\"poor\",\"bad\",\"significant\",\"holdings\",\"started\",\"hours\",\"abortion\",\"largely\",\"estimate\",\"meet\",\"allow\",\"start\",\"issued\",\"thing\",\"man\",\"seems\",\"french\",\"test\",\"reduced\",\"course\",\"accounts\",\"rules\",\"majority\",\"retail\",\"morgan\",\"seven\",\"wednesday\",\"quickly\",\"needed\",\"press\",\"fourth\",\"congressional\",\"journal\",\"longer\",\"partners\",\"seen\",\"settlement\",\"yields\",\"traded\",\"generally\",\"december\",\"community\",\"'ll\",\"done\",\"manufacturers\",\"dec.\",\"consider\",\"supply\",\"volatility\",\"study\",\"parts\",\"electric\",\"beginning\",\"receive\",\"shearson\",\"women\",\"thursday\",\"form\",\"a.\",\"men\",\"kind\",\"thought\",\"imports\",\"simply\",\"situation\",\"plc\",\"protection\",\"taxes\",\"turned\",\"near\",\"note\",\"convertible\",\"brokers\",\"prime\",\"planned\",\"eight\",\"short-term\",\"auction\",\"subject\",\"filing\",\"history\",\"democratic\",\"recession\",\"boost\",\"space\",\"required\",\"changed\",\"ahead\",\"rally\",\"sen.\",\"stock-index\",\"dr.\",\"base\",\"worth\",\"summer\",\"produce\",\"perhaps\",\"became\",\"seek\",\"war\",\"returns\",\"arbitrage\",\"caused\",\"considered\",\"motor\",\"showed\",\"increasing\",\"software\",\"de\",\"advanced\",\"benefits\",\"moody\",\"exports\",\"france\",\"creditors\",\"anything\",\"delivery\"],\"x1\":{\"__ndarray__\":\"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\",\"dtype\":\"float32\",\"shape\":[1000]},\"x2\":{\"__ndarray__\":\"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\",\"dtype\":\"float32\",\"shape\":[1000]}}},\"id\":\"0c5eef67-7113-4da3-8717-bb910752fb30\",\"type\":\"ColumnDataSource\"},{\"attributes\":{\"data_source\":{\"id\":\"0c5eef67-7113-4da3-8717-bb910752fb30\",\"type\":\"ColumnDataSource\"},\"glyph\":{\"id\":\"b68aa6a5-7498-44c5-9834-6f4f4e6bf84c\",\"type\":\"Circle\"},\"hover_glyph\":null,\"muted_glyph\":null,\"nonselection_glyph\":{\"id\":\"4c5e2078-d1fe-4a73-90c3-e20f510a1b3c\",\"type\":\"Circle\"},\"selection_glyph\":null,\"view\":{\"id\":\"37822a0b-e8e2-4d07-a83a-77321a6d72a4\",\"type\":\"CDSView\"}},\"id\":\"6677ebe1-51e6-458d-b0f1-1fcd88e2304d\",\"type\":\"GlyphRenderer\"},{\"attributes\":{\"formatter\":{\"id\":\"19e4ba2a-5433-4a90-a342-bab70ce60e2d\",\"type\":\"BasicTickFormatter\"},\"plot\":{\"id\":\"f4a2f3fc-09be-4d08-acf7-634df2731f03\",\"subtype\":\"Figure\",\"type\":\"Plot\"},\"ticker\":{\"id\":\"045e5955-cdf1-48d3-a75a-4528d49318a7\",\"type\":\"BasicTicker\"}},\"id\":\"f8629d5d-2a46-405f-8ce1-c0b453ab8f46\",\"type\":\"LinearAxis\"},{\"attributes\":{},\"id\":\"bffe0b79-79cd-4d02-a620-393576f25941\",\"type\":\"BasicTicker\"},{\"attributes\":{},\"id\":\"045e5955-cdf1-48d3-a75a-4528d49318a7\",\"type\":\"BasicTicker\"},{\"attributes\":{},\"id\":\"7cc969a8-e5ee-4ad9-b971-f6ad7544631f\",\"type\":\"BasicTickFormatter\"},{\"attributes\":{\"fill_color\":{\"field\":\"colors\"},\"line_color\":{\"field\":\"colors\"},\"size\":{\"units\":\"screen\",\"value\":8},\"x\":{\"field\":\"x1\"},\"y\":{\"field\":\"x2\"}},\"id\":\"b68aa6a5-7498-44c5-9834-6f4f4e6bf84c\",\"type\":\"Circle\"},{\"attributes\":{\"formatter\":{\"id\":\"7cc969a8-e5ee-4ad9-b971-f6ad7544631f\",\"type\":\"BasicTickFormatter\"},\"plot\":{\"id\":\"f4a2f3fc-09be-4d08-acf7-634df2731f03\",\"subtype\":\"Figure\",\"type\":\"Plot\"},\"ticker\":{\"id\":\"bffe0b79-79cd-4d02-a620-393576f25941\",\"type\":\"BasicTicker\"}},\"id\":\"1331d38c-9719-491a-b741-cd67de7a82c2\",\"type\":\"LinearAxis\"},{\"attributes\":{\"fill_alpha\":{\"value\":0.1},\"fill_color\":{\"value\":\"#1f77b4\"},\"line_alpha\":{\"value\":0.1},\"line_color\":{\"value\":\"#1f77b4\"},\"size\":{\"units\":\"screen\",\"value\":8},\"x\":{\"field\":\"x1\"},\"y\":{\"field\":\"x2\"}},\"id\":\"4c5e2078-d1fe-4a73-90c3-e20f510a1b3c\",\"type\":\"Circle\"},{\"attributes\":{\"source\":{\"id\":\"0c5eef67-7113-4da3-8717-bb910752fb30\",\"type\":\"ColumnDataSource\"}},\"id\":\"37822a0b-e8e2-4d07-a83a-77321a6d72a4\",\"type\":\"CDSView\"},{\"attributes\":{\"plot\":null,\"text\":\"T-SNE for most common words\"},\"id\":\"b3b26a24-a842-4f11-80ae-6e6dc9273e5d\",\"type\":\"Title\"},{\"attributes\":{},\"id\":\"51c7423a-771d-4fc6-ad11-31030c254fc8\",\"type\":\"ResetTool\"},{\"attributes\":{\"callback\":null},\"id\":\"13392215-5301-4e53-b730-ef3fd588d38d\",\"type\":\"DataRange1d\"},{\"attributes\":{\"dimension\":1,\"plot\":{\"id\":\"f4a2f3fc-09be-4d08-acf7-634df2731f03\",\"subtype\":\"Figure\",\"type\":\"Plot\"},\"ticker\":{\"id\":\"045e5955-cdf1-48d3-a75a-4528d49318a7\",\"type\":\"BasicTicker\"}},\"id\":\"e5d79fd6-4126-4e49-9f72-2e93108c6c90\",\"type\":\"Grid\"}],\"root_ids\":[\"f4a2f3fc-09be-4d08-acf7-634df2731f03\"]},\"title\":\"Bokeh Application\",\"version\":\"0.12.7\"}};\n",
       "            var render_items = [{\"docid\":\"cc0cea24-a95e-4042-90b6-78d8a663d84c\",\"elementid\":\"e8111307-0e1c-4e42-880f-160b6790a317\",\"modelid\":\"f4a2f3fc-09be-4d08-acf7-634df2731f03\"}];\n",
       "            \n",
       "            Bokeh.embed.embed_items(docs_json, render_items);\n",
       "          };\n",
       "          if (document.readyState != \"loading\") fn();\n",
       "          else document.addEventListener(\"DOMContentLoaded\", fn);\n",
       "        })();\n",
       "      },\n",
       "      function(Bokeh) {\n",
       "      }\n",
       "    ];\n",
       "  \n",
       "    function run_inline_js() {\n",
       "      \n",
       "      if ((root.Bokeh !== undefined) || (force === true)) {\n",
       "        for (var i = 0; i < inline_js.length; i++) {\n",
       "          inline_js[i].call(root, root.Bokeh);\n",
       "        }if (force === true) {\n",
       "          display_loaded();\n",
       "        }} else if (Date.now() < root._bokeh_timeout) {\n",
       "        setTimeout(run_inline_js, 100);\n",
       "      } else if (!root._bokeh_failed_load) {\n",
       "        console.log(\"Bokeh: BokehJS failed to load within specified timeout.\");\n",
       "        root._bokeh_failed_load = true;\n",
       "      } else if (force !== true) {\n",
       "        var cell = $(document.getElementById(\"e8111307-0e1c-4e42-880f-160b6790a317\")).parents('.cell').data().cell;\n",
       "        cell.output_area.append_execute_result(NB_LOAD_WARNING)\n",
       "      }\n",
       "  \n",
       "    }\n",
       "  \n",
       "    if (root._bokeh_is_loading === 0) {\n",
       "      console.log(\"Bokeh: BokehJS loaded, going straight to plotting\");\n",
       "      run_inline_js();\n",
       "    } else {\n",
       "      load_libs(js_urls, function() {\n",
       "        console.log(\"Bokeh: BokehJS plotting callback run at\", now());\n",
       "        run_inline_js();\n",
       "      });\n",
       "    }\n",
       "  }(window));\n",
       "</script>"
      ]
     },
     "metadata": {},
     "output_type": "display_data"
    }
   ],
   "source": [
    "ptb_top_words = [k for k,v in ptb_counts.most_common(1000)]\n",
    "ptb_top_vecs = ptb_model[ptb_top_words]\n",
    "\n",
    "emb_scatter(ptb_top_vecs, ptb_top_words, N=20)"
   ]
  },
  {
   "cell_type": "markdown",
   "metadata": {},
   "source": [
    "## Ted talks\n",
    "\n",
    "Let's check this out with this some other dataset made up of a load of TedX talks:"
   ]
  },
  {
   "cell_type": "code",
   "execution_count": 20,
   "metadata": {},
   "outputs": [
    {
     "name": "stdout",
     "output_type": "stream",
     "text": [
      "CPU times: user 3.18 s, sys: 185 ms, total: 3.37 s\n",
      "Wall time: 3.39 s\n"
     ]
    }
   ],
   "source": [
    "train_file = \"data/ted-cleaned.txt\"\n",
    "\n",
    "# This way w2i will automatically assigns\n",
    "# the next availlable integer to each new word:\n",
    "w2i = defaultdict(lambda: len(w2i))\n",
    "UNK = w2i[\"<unk>\"] # So: UNK = 0\n",
    "\n",
    "# Time how long this takes\n",
    "%time ted_data, ted_counts, ted_w2i = read(train_file, w2i)\n",
    "\n",
    "# Now w2i returns UNK as default\n",
    "w2i = defaultdict(lambda: UNK, ted_w2i)\n",
    "nwords = len(ted_w2i)\n",
    "\n",
    "# Also construct the inverse dictionary i2w\n",
    "ted_i2w = dict()\n",
    "for w, i in ted_w2i.items():\n",
    "    ted_i2w[i] = w"
   ]
  },
  {
   "cell_type": "code",
   "execution_count": 22,
   "metadata": {},
   "outputs": [],
   "source": [
    "ted_model = Word2Vec(ted_data, size=100, window=5, min_count=5, workers=4)"
   ]
  },
  {
   "cell_type": "code",
   "execution_count": 23,
   "metadata": {},
   "outputs": [
    {
     "name": "stdout",
     "output_type": "stream",
     "text": [
      "finding clusters\n",
      "fitting tsne\n"
     ]
    },
    {
     "data": {
      "text/html": [
       "\n",
       "\n",
       "    <div class=\"bk-root\">\n",
       "        <div class=\"bk-plotdiv\" id=\"11552ffb-afcb-439e-9db6-903d794ee2f7\"></div>\n",
       "    </div>\n",
       "<script type=\"text/javascript\">\n",
       "  \n",
       "  (function(root) {\n",
       "    function now() {\n",
       "      return new Date();\n",
       "    }\n",
       "  \n",
       "    var force = false;\n",
       "  \n",
       "    if (typeof (root._bokeh_onload_callbacks) === \"undefined\" || force === true) {\n",
       "      root._bokeh_onload_callbacks = [];\n",
       "      root._bokeh_is_loading = undefined;\n",
       "    }\n",
       "  \n",
       "  \n",
       "    \n",
       "    if (typeof (root._bokeh_timeout) === \"undefined\" || force === true) {\n",
       "      root._bokeh_timeout = Date.now() + 0;\n",
       "      root._bokeh_failed_load = false;\n",
       "    }\n",
       "  \n",
       "    var NB_LOAD_WARNING = {'data': {'text/html':\n",
       "       \"<div style='background-color: #fdd'>\\n\"+\n",
       "       \"<p>\\n\"+\n",
       "       \"BokehJS does not appear to have successfully loaded. If loading BokehJS from CDN, this \\n\"+\n",
       "       \"may be due to a slow or bad network connection. Possible fixes:\\n\"+\n",
       "       \"</p>\\n\"+\n",
       "       \"<ul>\\n\"+\n",
       "       \"<li>re-rerun `output_notebook()` to attempt to load from CDN again, or</li>\\n\"+\n",
       "       \"<li>use INLINE resources instead, as so:</li>\\n\"+\n",
       "       \"</ul>\\n\"+\n",
       "       \"<code>\\n\"+\n",
       "       \"from bokeh.resources import INLINE\\n\"+\n",
       "       \"output_notebook(resources=INLINE)\\n\"+\n",
       "       \"</code>\\n\"+\n",
       "       \"</div>\"}};\n",
       "  \n",
       "    function display_loaded() {\n",
       "      if (root.Bokeh !== undefined) {\n",
       "        var el = document.getElementById(\"11552ffb-afcb-439e-9db6-903d794ee2f7\");\n",
       "        if (el != null) {\n",
       "          el.textContent = \"BokehJS \" + Bokeh.version + \" successfully loaded.\";\n",
       "        }\n",
       "      } else if (Date.now() < root._bokeh_timeout) {\n",
       "        setTimeout(display_loaded, 100)\n",
       "      }\n",
       "    }\n",
       "  \n",
       "  \n",
       "    function run_callbacks() {\n",
       "      try {\n",
       "        root._bokeh_onload_callbacks.forEach(function(callback) { callback() });\n",
       "      }\n",
       "      finally {\n",
       "        delete root._bokeh_onload_callbacks\n",
       "      }\n",
       "      console.info(\"Bokeh: all callbacks have finished\");\n",
       "    }\n",
       "  \n",
       "    function load_libs(js_urls, callback) {\n",
       "      root._bokeh_onload_callbacks.push(callback);\n",
       "      if (root._bokeh_is_loading > 0) {\n",
       "        console.log(\"Bokeh: BokehJS is being loaded, scheduling callback at\", now());\n",
       "        return null;\n",
       "      }\n",
       "      if (js_urls == null || js_urls.length === 0) {\n",
       "        run_callbacks();\n",
       "        return null;\n",
       "      }\n",
       "      console.log(\"Bokeh: BokehJS not loaded, scheduling load and callback at\", now());\n",
       "      root._bokeh_is_loading = js_urls.length;\n",
       "      for (var i = 0; i < js_urls.length; i++) {\n",
       "        var url = js_urls[i];\n",
       "        var s = document.createElement('script');\n",
       "        s.src = url;\n",
       "        s.async = false;\n",
       "        s.onreadystatechange = s.onload = function() {\n",
       "          root._bokeh_is_loading--;\n",
       "          if (root._bokeh_is_loading === 0) {\n",
       "            console.log(\"Bokeh: all BokehJS libraries loaded\");\n",
       "            run_callbacks()\n",
       "          }\n",
       "        };\n",
       "        s.onerror = function() {\n",
       "          console.warn(\"failed to load library \" + url);\n",
       "        };\n",
       "        console.log(\"Bokeh: injecting script tag for BokehJS library: \", url);\n",
       "        document.getElementsByTagName(\"head\")[0].appendChild(s);\n",
       "      }\n",
       "    };var element = document.getElementById(\"11552ffb-afcb-439e-9db6-903d794ee2f7\");\n",
       "    if (element == null) {\n",
       "      console.log(\"Bokeh: ERROR: autoload.js configured with elementid '11552ffb-afcb-439e-9db6-903d794ee2f7' but no matching script tag was found. \")\n",
       "      return false;\n",
       "    }\n",
       "  \n",
       "    var js_urls = [];\n",
       "  \n",
       "    var inline_js = [\n",
       "      function(Bokeh) {\n",
       "        (function() {\n",
       "          var fn = function() {\n",
       "            var docs_json = {\"644e0e4d-2306-43b1-8d9e-c100bf3af80d\":{\"roots\":{\"references\":[{\"attributes\":{\"callback\":null},\"id\":\"fa36dba9-45e5-4d50-b00d-92124849060f\",\"type\":\"DataRange1d\"},{\"attributes\":{},\"id\":\"2a2d8804-2f18-4147-91cb-490aa7dceecb\",\"type\":\"BasicTickFormatter\"},{\"attributes\":{},\"id\":\"a1113df4-00db-4381-b1b4-a7b0938ed49e\",\"type\":\"LinearScale\"},{\"attributes\":{\"plot\":null,\"text\":\"T-SNE for most common words\"},\"id\":\"16f5f397-bb52-403f-8a3f-d0eae27c752c\",\"type\":\"Title\"},{\"attributes\":{\"dimension\":1,\"plot\":{\"id\":\"3f73be1c-5b62-4ab8-9614-db3bc0a91f9d\",\"subtype\":\"Figure\",\"type\":\"Plot\"},\"ticker\":{\"id\":\"4c65f3b0-ccf0-4ec1-a575-a8df46b0bb03\",\"type\":\"BasicTicker\"}},\"id\":\"5160a817-76cb-46f3-b35a-0cd9553cbf66\",\"type\":\"Grid\"},{\"attributes\":{\"formatter\":{\"id\":\"03aeb18c-818b-4876-ac58-93517c577c66\",\"type\":\"BasicTickFormatter\"},\"plot\":{\"id\":\"3f73be1c-5b62-4ab8-9614-db3bc0a91f9d\",\"subtype\":\"Figure\",\"type\":\"Plot\"},\"ticker\":{\"id\":\"ad8a97c7-8845-4c39-b2d3-6416ccda7e31\",\"type\":\"BasicTicker\"}},\"id\":\"6c385832-29f6-4790-85cc-3d8323742442\",\"type\":\"LinearAxis\"},{\"attributes\":{},\"id\":\"ad8a97c7-8845-4c39-b2d3-6416ccda7e31\",\"type\":\"BasicTicker\"},{\"attributes\":{},\"id\":\"4c65f3b0-ccf0-4ec1-a575-a8df46b0bb03\",\"type\":\"BasicTicker\"},{\"attributes\":{\"callback\":null,\"column_names\":[\"x1\",\"x2\",\"names\",\"colors\"],\"data\":{\"colors\":[\"#dbdb8d\",\"#bcbd22\",\"#9edae5\",\"#7f7f7f\",\"#8c564b\",\"#bcbd22\",\"#2ca02c\",\"#c49c94\",\"#bcbd22\",\"#9edae5\",\"#9edae5\",\"#1f77b4\",\"#1f77b4\",\"#e377c2\",\"#bcbd22\",\"#9edae5\",\"#f7b6d2\",\"#bcbd22\",\"#aec7e8\",\"#9467bd\",\"#bcbd22\",\"#8c564b\",\"#dbdb8d\",\"#ff9896\",\"#ff7f0e\",\"#bcbd22\",\"#bcbd22\",\"#bcbd22\",\"#9467bd\",\"#bcbd22\",\"#bcbd22\",\"#aec7e8\",\"#bcbd22\",\"#17becf\",\"#2ca02c\",\"#e377c2\",\"#9467bd\",\"#9edae5\",\"#bcbd22\",\"#bcbd22\",\"#c49c94\",\"#bcbd22\",\"#7f7f7f\",\"#2ca02c\",\"#8c564b\",\"#bcbd22\",\"#aec7e8\",\"#8c564b\",\"#bcbd22\",\"#bcbd22\",\"#bcbd22\",\"#2ca02c\",\"#dbdb8d\",\"#c49c94\",\"#9edae5\",\"#9edae5\",\"#17becf\",\"#dbdb8d\",\"#c5b0d5\",\"#f7b6d2\",\"#bcbd22\",\"#17becf\",\"#9edae5\",\"#f7b6d2\",\"#17becf\",\"#8c564b\",\"#9edae5\",\"#7f7f7f\",\"#ff7f0e\",\"#e377c2\",\"#bcbd22\",\"#9467bd\",\"#aec7e8\",\"#dbdb8d\",\"#e377c2\",\"#7f7f7f\",\"#9edae5\",\"#e377c2\",\"#aec7e8\",\"#1f77b4\",\"#ffbb78\",\"#bcbd22\",\"#dbdb8d\",\"#e377c2\",\"#bcbd22\",\"#ff7f0e\",\"#d62728\",\"#aec7e8\",\"#9edae5\",\"#8c564b\",\"#ff7f0e\",\"#9467bd\",\"#98df8a\",\"#c5b0d5\",\"#f7b6d2\",\"#9467bd\",\"#bcbd22\",\"#2ca02c\",\"#17becf\",\"#8c564b\",\"#aec7e8\",\"#c49c94\",\"#c7c7c7\",\"#bcbd22\",\"#98df8a\",\"#bcbd22\",\"#9467bd\",\"#7f7f7f\",\"#e377c2\",\"#e377c2\",\"#f7b6d2\",\"#dbdb8d\",\"#dbdb8d\",\"#aec7e8\",\"#17becf\",\"#bcbd22\",\"#2ca02c\",\"#e377c2\",\"#bcbd22\",\"#9467bd\",\"#aec7e8\",\"#9467bd\",\"#c5b0d5\",\"#f7b6d2\",\"#e377c2\",\"#e377c2\",\"#bcbd22\",\"#98df8a\",\"#dbdb8d\",\"#8c564b\",\"#98df8a\",\"#dbdb8d\",\"#ff7f0e\",\"#ff7f0e\",\"#2ca02c\",\"#dbdb8d\",\"#98df8a\",\"#8c564b\",\"#9467bd\",\"#ff7f0e\",\"#d62728\",\"#d62728\",\"#c7c7c7\",\"#9467bd\",\"#ff9896\",\"#9467bd\",\"#f7b6d2\",\"#8c564b\",\"#bcbd22\",\"#d62728\",\"#f7b6d2\",\"#f7b6d2\",\"#17becf\",\"#17becf\",\"#98df8a\",\"#7f7f7f\",\"#9467bd\",\"#ffbb78\",\"#bcbd22\",\"#17becf\",\"#9467bd\",\"#f7b6d2\",\"#8c564b\",\"#e377c2\",\"#98df8a\",\"#c49c94\",\"#7f7f7f\",\"#bcbd22\",\"#7f7f7f\",\"#8c564b\",\"#ff7f0e\",\"#bcbd22\",\"#9467bd\",\"#17becf\",\"#f7b6d2\",\"#ff7f0e\",\"#98df8a\",\"#c7c7c7\",\"#e377c2\",\"#c5b0d5\",\"#aec7e8\",\"#bcbd22\",\"#e377c2\",\"#dbdb8d\",\"#dbdb8d\",\"#e377c2\",\"#e377c2\",\"#7f7f7f\",\"#2ca02c\",\"#1f77b4\",\"#8c564b\",\"#9467bd\",\"#17becf\",\"#98df8a\",\"#f7b6d2\",\"#e377c2\",\"#f7b6d2\",\"#7f7f7f\",\"#c7c7c7\",\"#e377c2\",\"#c49c94\",\"#c5b0d5\",\"#e377c2\",\"#7f7f7f\",\"#9edae5\",\"#bcbd22\",\"#2ca02c\",\"#17becf\",\"#7f7f7f\",\"#dbdb8d\",\"#ff9896\",\"#e377c2\",\"#bcbd22\",\"#f7b6d2\",\"#17becf\",\"#ffbb78\",\"#e377c2\",\"#e377c2\",\"#c7c7c7\",\"#f7b6d2\",\"#e377c2\",\"#c7c7c7\",\"#98df8a\",\"#c5b0d5\",\"#8c564b\",\"#2ca02c\",\"#17becf\",\"#e377c2\",\"#9467bd\",\"#17becf\",\"#7f7f7f\",\"#9edae5\",\"#bcbd22\",\"#c5b0d5\",\"#ff7f0e\",\"#8c564b\",\"#dbdb8d\",\"#17becf\",\"#17becf\",\"#c5b0d5\",\"#c7c7c7\",\"#ff9896\",\"#9467bd\",\"#8c564b\",\"#c7c7c7\",\"#c49c94\",\"#ff9896\",\"#e377c2\",\"#ff9896\",\"#7f7f7f\",\"#9edae5\",\"#1f77b4\",\"#7f7f7f\",\"#f7b6d2\",\"#d62728\",\"#98df8a\",\"#7f7f7f\",\"#c7c7c7\",\"#9edae5\",\"#2ca02c\",\"#9467bd\",\"#9467bd\",\"#98df8a\",\"#7f7f7f\",\"#ff9896\",\"#98df8a\",\"#dbdb8d\",\"#ff9896\",\"#7f7f7f\",\"#bcbd22\",\"#2ca02c\",\"#bcbd22\",\"#c49c94\",\"#8c564b\",\"#e377c2\",\"#f7b6d2\",\"#1f77b4\",\"#7f7f7f\",\"#bcbd22\",\"#bcbd22\",\"#dbdb8d\",\"#ff9896\",\"#7f7f7f\",\"#17becf\",\"#ff9896\",\"#7f7f7f\",\"#7f7f7f\",\"#dbdb8d\",\"#17becf\",\"#98df8a\",\"#17becf\",\"#c7c7c7\",\"#bcbd22\",\"#98df8a\",\"#9467bd\",\"#8c564b\",\"#9edae5\",\"#aec7e8\",\"#ff9896\",\"#98df8a\",\"#2ca02c\",\"#e377c2\",\"#d62728\",\"#dbdb8d\",\"#e377c2\",\"#c7c7c7\",\"#9467bd\",\"#dbdb8d\",\"#dbdb8d\",\"#bcbd22\",\"#f7b6d2\",\"#9467bd\",\"#bcbd22\",\"#bcbd22\",\"#9467bd\",\"#ff9896\",\"#9edae5\",\"#c7c7c7\",\"#e377c2\",\"#1f77b4\",\"#f7b6d2\",\"#ff9896\",\"#f7b6d2\",\"#17becf\",\"#2ca02c\",\"#dbdb8d\",\"#98df8a\",\"#7f7f7f\",\"#aec7e8\",\"#8c564b\",\"#e377c2\",\"#bcbd22\",\"#bcbd22\",\"#2ca02c\",\"#d62728\",\"#8c564b\",\"#17becf\",\"#98df8a\",\"#1f77b4\",\"#1f77b4\",\"#9467bd\",\"#c49c94\",\"#e377c2\",\"#e377c2\",\"#9467bd\",\"#17becf\",\"#c49c94\",\"#7f7f7f\",\"#dbdb8d\",\"#8c564b\",\"#c7c7c7\",\"#98df8a\",\"#e377c2\",\"#e377c2\",\"#17becf\",\"#7f7f7f\",\"#e377c2\",\"#aec7e8\",\"#8c564b\",\"#aec7e8\",\"#17becf\",\"#c49c94\",\"#bcbd22\",\"#bcbd22\",\"#c49c94\",\"#f7b6d2\",\"#2ca02c\",\"#c7c7c7\",\"#98df8a\",\"#7f7f7f\",\"#7f7f7f\",\"#7f7f7f\",\"#7f7f7f\",\"#8c564b\",\"#dbdb8d\",\"#bcbd22\",\"#7f7f7f\",\"#ff9896\",\"#bcbd22\",\"#dbdb8d\",\"#2ca02c\",\"#9467bd\",\"#bcbd22\",\"#e377c2\",\"#bcbd22\",\"#e377c2\",\"#bcbd22\",\"#bcbd22\",\"#c49c94\",\"#c49c94\",\"#2ca02c\",\"#2ca02c\",\"#dbdb8d\",\"#d62728\",\"#aec7e8\",\"#1f77b4\",\"#98df8a\",\"#c49c94\",\"#98df8a\",\"#c49c94\",\"#c49c94\",\"#9467bd\",\"#d62728\",\"#aec7e8\",\"#e377c2\",\"#f7b6d2\",\"#bcbd22\",\"#e377c2\",\"#ffbb78\",\"#c7c7c7\",\"#17becf\",\"#7f7f7f\",\"#ffbb78\",\"#7f7f7f\",\"#c7c7c7\",\"#aec7e8\",\"#c49c94\",\"#c49c94\",\"#dbdb8d\",\"#7f7f7f\",\"#8c564b\",\"#f7b6d2\",\"#c49c94\",\"#2ca02c\",\"#9467bd\",\"#9edae5\",\"#98df8a\",\"#dbdb8d\",\"#f7b6d2\",\"#c7c7c7\",\"#c5b0d5\",\"#7f7f7f\",\"#bcbd22\",\"#7f7f7f\",\"#c49c94\",\"#e377c2\",\"#e377c2\",\"#7f7f7f\",\"#dbdb8d\",\"#bcbd22\",\"#9467bd\",\"#8c564b\",\"#c7c7c7\",\"#aec7e8\",\"#e377c2\",\"#f7b6d2\",\"#7f7f7f\",\"#9467bd\",\"#2ca02c\",\"#c5b0d5\",\"#c49c94\",\"#e377c2\",\"#8c564b\",\"#ff9896\",\"#1f77b4\",\"#f7b6d2\",\"#bcbd22\",\"#aec7e8\",\"#7f7f7f\",\"#bcbd22\",\"#7f7f7f\",\"#c49c94\",\"#9edae5\",\"#98df8a\",\"#17becf\",\"#7f7f7f\",\"#8c564b\",\"#c49c94\",\"#7f7f7f\",\"#aec7e8\",\"#1f77b4\",\"#2ca02c\",\"#8c564b\",\"#e377c2\",\"#1f77b4\",\"#9edae5\",\"#ff9896\",\"#17becf\",\"#c49c94\",\"#9edae5\",\"#ff7f0e\",\"#7f7f7f\",\"#bcbd22\",\"#aec7e8\",\"#9edae5\",\"#2ca02c\",\"#d62728\",\"#7f7f7f\",\"#dbdb8d\",\"#2ca02c\",\"#7f7f7f\",\"#ffbb78\",\"#f7b6d2\",\"#7f7f7f\",\"#bcbd22\",\"#aec7e8\",\"#c49c94\",\"#7f7f7f\",\"#f7b6d2\",\"#d62728\",\"#aec7e8\",\"#dbdb8d\",\"#bcbd22\",\"#c7c7c7\",\"#c49c94\",\"#c49c94\",\"#dbdb8d\",\"#9edae5\",\"#bcbd22\",\"#e377c2\",\"#c49c94\",\"#e377c2\",\"#c7c7c7\",\"#c49c94\",\"#7f7f7f\",\"#bcbd22\",\"#c7c7c7\",\"#2ca02c\",\"#aec7e8\",\"#9467bd\",\"#bcbd22\",\"#aec7e8\",\"#98df8a\",\"#98df8a\",\"#e377c2\",\"#ff9896\",\"#c49c94\",\"#ffbb78\",\"#f7b6d2\",\"#e377c2\",\"#c49c94\",\"#c49c94\",\"#aec7e8\",\"#dbdb8d\",\"#e377c2\",\"#dbdb8d\",\"#7f7f7f\",\"#f7b6d2\",\"#c7c7c7\",\"#f7b6d2\",\"#f7b6d2\",\"#9467bd\",\"#dbdb8d\",\"#c7c7c7\",\"#98df8a\",\"#dbdb8d\",\"#aec7e8\",\"#dbdb8d\",\"#7f7f7f\",\"#98df8a\",\"#c49c94\",\"#1f77b4\",\"#aec7e8\",\"#8c564b\",\"#c49c94\",\"#7f7f7f\",\"#ff9896\",\"#98df8a\",\"#f7b6d2\",\"#7f7f7f\",\"#dbdb8d\",\"#2ca02c\",\"#ff9896\",\"#c49c94\",\"#7f7f7f\",\"#c49c94\",\"#9edae5\",\"#8c564b\",\"#f7b6d2\",\"#1f77b4\",\"#7f7f7f\",\"#e377c2\",\"#bcbd22\",\"#c5b0d5\",\"#ff9896\",\"#2ca02c\",\"#c49c94\",\"#f7b6d2\",\"#7f7f7f\",\"#c49c94\",\"#9edae5\",\"#e377c2\",\"#9467bd\",\"#dbdb8d\",\"#7f7f7f\",\"#aec7e8\",\"#dbdb8d\",\"#7f7f7f\",\"#c7c7c7\",\"#98df8a\",\"#f7b6d2\",\"#d62728\",\"#dbdb8d\",\"#f7b6d2\",\"#aec7e8\",\"#98df8a\",\"#9467bd\",\"#bcbd22\",\"#dbdb8d\",\"#98df8a\",\"#ff7f0e\",\"#9467bd\",\"#98df8a\",\"#c49c94\",\"#c5b0d5\",\"#dbdb8d\",\"#dbdb8d\",\"#dbdb8d\",\"#7f7f7f\",\"#ff9896\",\"#7f7f7f\",\"#dbdb8d\",\"#f7b6d2\",\"#7f7f7f\",\"#d62728\",\"#f7b6d2\",\"#e377c2\",\"#dbdb8d\",\"#f7b6d2\",\"#c49c94\",\"#98df8a\",\"#dbdb8d\",\"#e377c2\",\"#98df8a\",\"#dbdb8d\",\"#9467bd\",\"#7f7f7f\",\"#ffbb78\",\"#8c564b\",\"#9edae5\",\"#ff9896\",\"#7f7f7f\",\"#7f7f7f\",\"#17becf\",\"#e377c2\",\"#c49c94\",\"#98df8a\",\"#ff9896\",\"#2ca02c\",\"#7f7f7f\",\"#1f77b4\",\"#c7c7c7\",\"#f7b6d2\",\"#c49c94\",\"#7f7f7f\",\"#c7c7c7\",\"#7f7f7f\",\"#dbdb8d\",\"#dbdb8d\",\"#98df8a\",\"#c49c94\",\"#7f7f7f\",\"#2ca02c\",\"#aec7e8\",\"#7f7f7f\",\"#9467bd\",\"#7f7f7f\",\"#e377c2\",\"#c7c7c7\",\"#2ca02c\",\"#f7b6d2\",\"#7f7f7f\",\"#7f7f7f\",\"#7f7f7f\",\"#98df8a\",\"#9467bd\",\"#7f7f7f\",\"#7f7f7f\",\"#7f7f7f\",\"#d62728\",\"#bcbd22\",\"#aec7e8\",\"#8c564b\",\"#dbdb8d\",\"#9467bd\",\"#98df8a\",\"#bcbd22\",\"#17becf\",\"#f7b6d2\",\"#9467bd\",\"#dbdb8d\",\"#aec7e8\",\"#e377c2\",\"#e377c2\",\"#17becf\",\"#c49c94\",\"#aec7e8\",\"#f7b6d2\",\"#7f7f7f\",\"#7f7f7f\",\"#dbdb8d\",\"#aec7e8\",\"#7f7f7f\",\"#dbdb8d\",\"#ff9896\",\"#9467bd\",\"#7f7f7f\",\"#1f77b4\",\"#bcbd22\",\"#17becf\",\"#ff9896\",\"#9467bd\",\"#98df8a\",\"#dbdb8d\",\"#dbdb8d\",\"#f7b6d2\",\"#7f7f7f\",\"#2ca02c\",\"#c7c7c7\",\"#9467bd\",\"#d62728\",\"#aec7e8\",\"#ff9896\",\"#7f7f7f\",\"#e377c2\",\"#7f7f7f\",\"#c49c94\",\"#aec7e8\",\"#c49c94\",\"#e377c2\",\"#7f7f7f\",\"#dbdb8d\",\"#e377c2\",\"#8c564b\",\"#dbdb8d\",\"#7f7f7f\",\"#e377c2\",\"#e377c2\",\"#7f7f7f\",\"#98df8a\",\"#c7c7c7\",\"#f7b6d2\",\"#e377c2\",\"#9467bd\",\"#aec7e8\",\"#dbdb8d\",\"#98df8a\",\"#7f7f7f\",\"#ff9896\",\"#98df8a\",\"#c49c94\",\"#98df8a\",\"#9edae5\",\"#8c564b\",\"#e377c2\",\"#9467bd\",\"#ff9896\",\"#98df8a\",\"#f7b6d2\",\"#c49c94\",\"#f7b6d2\",\"#7f7f7f\",\"#1f77b4\",\"#e377c2\",\"#dbdb8d\",\"#e377c2\",\"#f7b6d2\",\"#e377c2\",\"#bcbd22\",\"#7f7f7f\",\"#ff9896\",\"#7f7f7f\",\"#bcbd22\",\"#aec7e8\",\"#dbdb8d\",\"#ff9896\",\"#d62728\",\"#c49c94\",\"#7f7f7f\",\"#c7c7c7\",\"#c49c94\",\"#aec7e8\",\"#c49c94\",\"#dbdb8d\",\"#9467bd\",\"#9467bd\",\"#9467bd\",\"#7f7f7f\",\"#9467bd\",\"#c49c94\",\"#7f7f7f\",\"#e377c2\",\"#98df8a\",\"#dbdb8d\",\"#e377c2\",\"#2ca02c\",\"#e377c2\",\"#aec7e8\",\"#dbdb8d\",\"#1f77b4\",\"#9467bd\",\"#dbdb8d\",\"#9467bd\",\"#9467bd\",\"#ffbb78\",\"#7f7f7f\",\"#8c564b\",\"#7f7f7f\",\"#7f7f7f\",\"#aec7e8\",\"#8c564b\",\"#dbdb8d\",\"#9467bd\",\"#7f7f7f\",\"#7f7f7f\",\"#7f7f7f\",\"#e377c2\",\"#98df8a\",\"#aec7e8\",\"#98df8a\",\"#9467bd\",\"#7f7f7f\",\"#e377c2\",\"#c49c94\",\"#c49c94\",\"#7f7f7f\",\"#7f7f7f\",\"#bcbd22\",\"#ff9896\",\"#e377c2\",\"#c49c94\",\"#7f7f7f\",\"#1f77b4\",\"#bcbd22\",\"#ffbb78\",\"#bcbd22\",\"#17becf\",\"#c7c7c7\",\"#7f7f7f\",\"#aec7e8\",\"#f7b6d2\",\"#ff9896\",\"#bcbd22\",\"#dbdb8d\",\"#d62728\",\"#7f7f7f\",\"#98df8a\",\"#ff9896\",\"#dbdb8d\",\"#9467bd\",\"#e377c2\",\"#7f7f7f\",\"#c49c94\",\"#7f7f7f\",\"#7f7f7f\",\"#7f7f7f\",\"#2ca02c\",\"#7f7f7f\",\"#dbdb8d\",\"#bcbd22\",\"#c49c94\",\"#dbdb8d\",\"#7f7f7f\",\"#9467bd\",\"#9467bd\",\"#9467bd\",\"#bcbd22\",\"#c49c94\",\"#17becf\",\"#c7c7c7\",\"#bcbd22\",\"#f7b6d2\",\"#bcbd22\",\"#17becf\",\"#e377c2\",\"#c7c7c7\",\"#dbdb8d\",\"#ff9896\",\"#f7b6d2\",\"#7f7f7f\",\"#c49c94\",\"#c7c7c7\",\"#7f7f7f\",\"#aec7e8\",\"#c7c7c7\",\"#7f7f7f\",\"#bcbd22\",\"#aec7e8\",\"#c49c94\",\"#e377c2\",\"#7f7f7f\",\"#dbdb8d\",\"#aec7e8\",\"#8c564b\",\"#dbdb8d\",\"#bcbd22\",\"#2ca02c\",\"#9467bd\",\"#1f77b4\",\"#aec7e8\",\"#c49c94\",\"#c7c7c7\",\"#7f7f7f\",\"#9467bd\",\"#bcbd22\",\"#7f7f7f\",\"#bcbd22\",\"#bcbd22\",\"#7f7f7f\",\"#2ca02c\",\"#7f7f7f\",\"#7f7f7f\",\"#dbdb8d\",\"#7f7f7f\",\"#aec7e8\",\"#d62728\",\"#9467bd\",\"#c49c94\",\"#ff9896\",\"#2ca02c\",\"#17becf\",\"#c49c94\",\"#7f7f7f\",\"#9467bd\",\"#e377c2\",\"#dbdb8d\",\"#aec7e8\",\"#9467bd\",\"#9467bd\",\"#7f7f7f\",\"#bcbd22\",\"#e377c2\",\"#c7c7c7\",\"#7f7f7f\",\"#dbdb8d\",\"#c49c94\",\"#f7b6d2\",\"#7f7f7f\",\"#c5b0d5\",\"#bcbd22\",\"#e377c2\",\"#aec7e8\",\"#dbdb8d\",\"#9467bd\",\"#7f7f7f\",\"#9467bd\",\"#bcbd22\",\"#7f7f7f\",\"#7f7f7f\",\"#c49c94\",\"#ff9896\",\"#c49c94\",\"#7f7f7f\",\"#dbdb8d\",\"#9467bd\",\"#bcbd22\",\"#9467bd\",\"#aec7e8\",\"#c7c7c7\",\"#98df8a\",\"#f7b6d2\",\"#aec7e8\",\"#aec7e8\",\"#e377c2\",\"#c49c94\",\"#c49c94\",\"#98df8a\",\"#bcbd22\",\"#98df8a\",\"#9467bd\",\"#7f7f7f\",\"#e377c2\",\"#dbdb8d\",\"#2ca02c\",\"#e377c2\",\"#dbdb8d\",\"#7f7f7f\",\"#9467bd\",\"#2ca02c\",\"#2ca02c\",\"#c49c94\",\"#2ca02c\",\"#7f7f7f\",\"#aec7e8\",\"#98df8a\",\"#ff9896\",\"#dbdb8d\",\"#aec7e8\",\"#bcbd22\",\"#c49c94\",\"#e377c2\",\"#aec7e8\",\"#c5b0d5\",\"#aec7e8\",\"#c5b0d5\",\"#bcbd22\",\"#7f7f7f\",\"#9edae5\",\"#c49c94\",\"#9467bd\",\"#dbdb8d\",\"#ff9896\",\"#dbdb8d\",\"#c7c7c7\",\"#aec7e8\",\"#e377c2\",\"#dbdb8d\",\"#ff9896\",\"#aec7e8\",\"#f7b6d2\"],\"names\":[\"the\",\"and\",\"to\",\"of\",\"a\",\"that\",\"i\",\"in\",\"it\",\"you\",\"we\",\"is\",\"s\",\"this\",\"so\",\"they\",\"was\",\"for\",\"are\",\"have\",\"but\",\"what\",\"on\",\"with\",\"can\",\"t\",\"about\",\"there\",\"be\",\"as\",\"at\",\"all\",\"not\",\"do\",\"my\",\"one\",\"re\",\"people\",\"like\",\"if\",\"from\",\"now\",\"our\",\"he\",\"an\",\"just\",\"these\",\"or\",\"when\",\"because\",\"very\",\"me\",\"out\",\"by\",\"them\",\"how\",\"know\",\"up\",\"going\",\"had\",\"more\",\"think\",\"who\",\"were\",\"see\",\"your\",\"their\",\"which\",\"would\",\"here\",\"really\",\"get\",\"ve\",\"then\",\"m\",\"world\",\"us\",\"time\",\"some\",\"has\",\"don\",\"actually\",\"into\",\"way\",\"where\",\"will\",\"years\",\"things\",\"other\",\"no\",\"could\",\"go\",\"well\",\"want\",\"been\",\"make\",\"right\",\"she\",\"said\",\"something\",\"those\",\"first\",\"two\",\"than\",\"much\",\"also\",\"look\",\"new\",\"thing\",\"little\",\"got\",\"back\",\"over\",\"most\",\"say\",\"even\",\"his\",\"life\",\"only\",\"work\",\"many\",\"take\",\"need\",\"did\",\"lot\",\"kind\",\"why\",\"good\",\"around\",\"every\",\"different\",\"down\",\"ll\",\"let\",\"her\",\"through\",\"same\",\"being\",\"come\",\"d\",\"day\",\"year\",\"three\",\"use\",\"doing\",\"put\",\"called\",\"any\",\"today\",\"percent\",\"made\",\"after\",\"thank\",\"tell\",\"great\",\"human\",\"find\",\"didn\",\"fact\",\"talk\",\"change\",\"started\",\"another\",\"idea\",\"big\",\"last\",\"own\",\"before\",\"its\",\"never\",\"should\",\"better\",\"give\",\"thought\",\"went\",\"might\",\"important\",\"000\",\"again\",\"able\",\"together\",\"still\",\"problem\",\"off\",\"next\",\"part\",\"course\",\"system\",\"him\",\"does\",\"each\",\"start\",\"show\",\"long\",\"ago\",\"story\",\"came\",\"brain\",\"few\",\"bit\",\"between\",\"used\",\"place\",\"technology\",\"women\",\"too\",\"old\",\"mean\",\"data\",\"water\",\"looking\",\"question\",\"maybe\",\"found\",\"love\",\"doesn\",\"end\",\"example\",\"10\",\"done\",\"point\",\"four\",\"real\",\"wanted\",\"ever\",\"school\",\"understand\",\"sort\",\"live\",\"call\",\"whole\",\"children\",\"always\",\"trying\",\"may\",\"person\",\"away\",\"believe\",\"feel\",\"try\",\"million\",\"working\",\"help\",\"everything\",\"five\",\"country\",\"thinking\",\"second\",\"using\",\"information\",\"money\",\"means\",\"power\",\"took\",\"times\",\"high\",\"space\",\"number\",\"kids\",\"home\",\"become\",\"create\",\"small\",\"design\",\"making\",\"best\",\"left\",\"getting\",\"future\",\"enough\",\"man\",\"quite\",\"city\",\"without\",\"sense\",\"happened\",\"comes\",\"social\",\"probably\",\"less\",\"light\",\"talking\",\"energy\",\"am\",\"building\",\"science\",\"food\",\"body\",\"told\",\"interesting\",\"ask\",\"half\",\"pretty\",\"hard\",\"play\",\"anything\",\"lives\",\"countries\",\"coming\",\"such\",\"family\",\"stuff\",\"dollars\",\"earth\",\"moment\",\"20\",\"imagine\",\"across\",\"side\",\"while\",\"saw\",\"happen\",\"once\",\"okay\",\"build\",\"having\",\"men\",\"later\",\"experience\",\"makes\",\"asked\",\"living\",\"seen\",\"says\",\"room\",\"hand\",\"simple\",\"health\",\"ways\",\"else\",\"case\",\"yet\",\"almost\",\"young\",\"days\",\"nothing\",\"care\",\"bad\",\"happens\",\"goes\",\"move\",\"states\",\"reason\",\"computer\",\"open\",\"learn\",\"africa\",\"process\",\"inside\",\"someone\",\"six\",\"far\",\"mind\",\"project\",\"remember\",\"single\",\"picture\",\"both\",\"whether\",\"problems\",\"saying\",\"community\",\"basically\",\"already\",\"within\",\"looked\",\"myself\",\"billion\",\"often\",\"possible\",\"business\",\"planet\",\"global\",\"everybody\",\"top\",\"sure\",\"public\",\"set\",\"wrong\",\"car\",\"book\",\"keep\",\"yes\",\"answer\",\"oh\",\"hope\",\"sometimes\",\"true\",\"history\",\"war\",\"guy\",\"child\",\"instead\",\"months\",\"ideas\",\"looks\",\"matter\",\"government\",\"amazing\",\"united\",\"since\",\"bring\",\"age\",\"cells\",\"job\",\"heard\",\"until\",\"face\",\"wasn\",\"100\",\"read\",\"control\",\"isn\",\"research\",\"30\",\"words\",\"u\",\"group\",\"under\",\"self\",\"somebody\",\"built\",\"state\",\"woman\",\"turn\",\"friends\",\"beautiful\",\"line\",\"knew\",\"couple\",\"order\",\"form\",\"yeah\",\"internet\",\"middle\",\"music\",\"piece\",\"nature\",\"head\",\"though\",\"stop\",\"everyone\",\"50\",\"places\",\"video\",\"learned\",\"language\",\"run\",\"night\",\"decided\",\"study\",\"word\",\"cancer\",\"taking\",\"works\",\"became\",\"exactly\",\"species\",\"society\",\"completely\",\"education\",\"against\",\"stories\",\"large\",\"share\",\"level\",\"heart\",\"america\",\"model\",\"questions\",\"gets\",\"mother\",\"god\",\"company\",\"turns\",\"ourselves\",\"happening\",\"hear\",\"art\",\"themselves\",\"must\",\"itself\",\"rather\",\"kinds\",\"students\",\"name\",\"hours\",\"disease\",\"front\",\"house\",\"huge\",\"couldn\",\"created\",\"universe\",\"ok\",\"animals\",\"american\",\"environment\",\"worked\",\"minutes\",\"ones\",\"black\",\"perhaps\",\"1\",\"past\",\"third\",\"along\",\"others\",\"finally\",\"sound\",\"early\",\"game\",\"thousands\",\"century\",\"based\",\"least\",\"per\",\"ted\",\"lots\",\"figure\",\"free\",\"guys\",\"particular\",\"happy\",\"news\",\"learning\",\"entire\",\"won\",\"gave\",\"machine\",\"india\",\"during\",\"systems\",\"air\",\"difference\",\"outside\",\"natural\",\"taken\",\"seven\",\"given\",\"changed\",\"leave\",\"cell\",\"15\",\"close\",\"behind\",\"cities\",\"full\",\"scale\",\"difficult\",\"china\",\"takes\",\"companies\",\"yourself\",\"area\",\"reality\",\"seeing\",\"easy\",\"turned\",\"cost\",\"eyes\",\"team\",\"moving\",\"population\",\"culture\",\"york\",\"hands\",\"whatever\",\"began\",\"needs\",\"terms\",\"image\",\"simply\",\"needed\",\"beginning\",\"father\",\"local\",\"realized\",\"media\",\"death\",\"parents\",\"view\",\"walk\",\"white\",\"market\",\"parts\",\"ocean\",\"economic\",\"eight\",\"powerful\",\"known\",\"week\",\"size\",\"felt\",\"humans\",\"certain\",\"spend\",\"longer\",\"phone\",\"wonderful\",\"cannot\",\"grow\",\"common\",\"center\",\"tried\",\"fish\",\"land\",\"oil\",\"political\",\"interested\",\"deal\",\"red\",\"gone\",\"amount\",\"weeks\",\"spent\",\"opportunity\",\"paper\",\"lost\",\"national\",\"quickly\",\"blue\",\"step\",\"poor\",\"green\",\"buy\",\"growth\",\"wouldn\",\"either\",\"patients\",\"sitting\",\"ability\",\"changes\",\"write\",\"challenge\",\"south\",\"low\",\"growing\",\"friend\",\"field\",\"shows\",\"2\",\"born\",\"rest\",\"climate\",\"40\",\"test\",\"street\",\"surface\",\"incredible\",\"average\",\"physical\",\"morning\",\"scientists\",\"program\",\"pay\",\"value\",\"feeling\",\"hundreds\",\"girl\",\"met\",\"behavior\",\"economy\",\"dna\",\"complex\",\"access\",\"risk\",\"animal\",\"structure\",\"feet\",\"attention\",\"areas\",\"anyone\",\"deep\",\"watch\",\"short\",\"absolutely\",\"speak\",\"brought\",\"die\",\"bottom\",\"numbers\",\"audience\",\"stage\",\"realize\",\"law\",\"images\",\"wrote\",\"understanding\",\"knowledge\",\"literally\",\"books\",\"movement\",\"ground\",\"giving\",\"eat\",\"force\",\"seems\",\"alone\",\"telling\",\"starting\",\"hold\",\"nice\",\"forward\",\"sea\",\"developed\",\"individual\",\"kid\",\"millions\",\"support\",\"miles\",\"tools\",\"running\",\"online\",\"result\",\"act\",\"medical\",\"technologies\",\"north\",\"lab\",\"development\",\"blood\",\"fear\",\"nobody\",\"map\",\"personal\",\"issue\",\"voice\",\"material\",\"key\",\"12\",\"recently\",\"theory\",\"cut\",\"cars\",\"sun\",\"fast\",\"changing\",\"playing\",\"clear\",\"especially\",\"soon\",\"girls\",\"patient\",\"choice\",\"fly\",\"creating\",\"normal\",\"discovered\",\"europe\",\"talked\",\"relationship\",\"gives\",\"generation\",\"dark\",\"type\",\"showed\",\"chance\",\"seem\",\"industry\",\"asking\",\"rate\",\"fun\",\"issues\",\"color\",\"designed\",\"hour\",\"university\",\"innovation\",\"several\",\"class\",\"computers\",\"english\",\"tiny\",\"allow\",\"save\",\"focus\",\"digital\",\"solve\",\"developing\",\"network\",\"film\",\"special\",\"wall\",\"situation\",\"baby\",\"solution\",\"reasons\",\"box\",\"knows\",\"meet\",\"dead\",\"stand\",\"begin\",\"haven\",\"impact\",\"anybody\",\"term\",\"beyond\",\"pictures\",\"please\",\"ice\",\"produce\",\"shape\",\"non\",\"resources\",\"robot\",\"cool\",\"groups\",\"likely\",\"stay\",\"available\",\"truth\",\"rights\",\"major\",\"cause\",\"evidence\",\"obviously\",\"writing\",\"experiment\",\"modern\",\"drug\",\"becomes\",\"incredibly\",\"aren\",\"bigger\",\"guess\",\"nine\",\"product\",\"drugs\",\"lived\",\"involved\",\"perfect\",\"google\",\"month\",\"effect\",\"similar\",\"putting\",\"eye\",\"pick\",\"message\",\"quality\",\"violence\",\"web\",\"evolution\",\"security\",\"office\",\"basic\",\"solar\",\"indeed\",\"general\",\"towards\",\"present\",\"drive\",\"send\",\"listen\",\"worth\",\"revolution\",\"explain\",\"hundred\",\"certainly\",\"died\",\"ready\",\"teach\",\"journey\",\"25\",\"hit\",\"walking\",\"led\",\"approach\",\"international\",\"200\",\"scientific\",\"games\",\"60\",\"potential\",\"crazy\",\"communities\",\"chinese\",\"device\",\"source\",\"camera\",\"rules\",\"sex\",\"carbon\",\"sounds\",\"boy\",\"reach\",\"starts\",\"examples\",\"west\",\"3\",\"success\",\"measure\",\"particularly\",\"software\",\"totally\",\"suddenly\",\"action\",\"college\",\"higher\",\"code\",\"eventually\",\"democracy\",\"among\",\"minute\",\"sit\",\"largest\",\"showing\",\"hospital\",\"notice\",\"period\",\"mass\",\"develop\",\"dream\",\"onto\",\"plants\",\"break\",\"add\",\"memory\",\"everywhere\",\"favorite\",\"11\",\"zero\",\"speed\",\"schools\",\"moved\",\"response\",\"wants\",\"extremely\",\"movie\",\"individuals\",\"table\",\"wait\",\"medicine\",\"follow\",\"anyway\",\"trust\",\"plant\",\"biggest\",\"watching\",\"organization\",\"creative\",\"road\",\"choose\",\"worse\",\"lead\",\"results\",\"500\",\"exciting\",\"grew\",\"materials\",\"jobs\",\"plan\",\"east\",\"poverty\",\"positive\",\"safe\",\"strong\",\"fall\",\"essentially\",\"object\",\"door\",\"son\",\"vision\",\"further\",\"happiness\",\"continue\",\"student\",\"doctor\",\"including\",\"named\",\"role\",\"objects\",\"extraordinary\",\"standing\",\"skin\",\"leaders\",\"usually\",\"african\",\"conversation\",\"projects\",\"allowed\",\"models\",\"supposed\",\"faster\",\"interest\",\"families\",\"police\",\"fight\",\"tree\",\"connected\",\"screen\",\"5\",\"cases\",\"goal\",\"somewhere\",\"finding\",\"buildings\",\"shown\"],\"x1\":{\"__ndarray__\":\"qauxQbZSF8E4yMRBlLoHQnPf2kGHIyLALf+xv/kuCEFPC8xA2qgDwQcD/8DF9idA2s1kQKc+s785Y0HBeLP+wEKHx8BXTUVAFRqSwUbuCEGg4S3B6vl2wZKVRsGudoJAXhuuQQZg58Bn649ADhfVPfr+SEGS1HdBcx10QfIhKcF/0CFBp7F1QOVA9cGrkNhBTBuNwa9wUcHv/GA+hXDyQIK+skBrqZbA8G7bQRLL5MEDieNBsx61wKvQ6cAnIErBDPr/QHiwMMGEmtXA6aLlwbmbhsHYtnpAebo5wWZ9VcGv/fu/EwFrwdf8YkFnGvRA1Nz2wb6+isD705bB6aOTwT501TyFYxHB3otCwVTdGMAcFpxBKDmXwIY30sCi3BJBOc4TQfNGMsHupi/BDQiQQSTUMsGTX+pBsqrgvxJO+UC7KQDCLu6YwL0cRsGcuUNBzWHlwOYZukFqtojBzmTLvxxDJr5hI9e/mWqgQVUoiEA9loXB5TlqQcFckMFzBWdBLgSbP4pD48HThPjAQBr9wbE26sDy7b9BdA1tP0BYPbpejanBnmWswOG80sDR0utAsWilQdhud8HpdJ7BlcR5wXn3i0AeORXBIxnCwM5q6EB1z/jBhqa8QbqViMCgRqtBLef0v5Wc/ECjY2tBA7yJwOpwQ8BhoPJBYI5NwXlIzD8nwptA23U5QAkJRj9xc3nBKMm7QeH5WkBO2e/Bb7FXweU2k78OLCBBce9dQPbOlkGyF3fBVdaAwaC1Bj8u/EFBYw6+wAeU40ACCqbAzOpvwbUlVUHCUybBZUNHwUsM70DULUTA0q9IwIEsK0AhhcZAv48+QWrx+8GvyqJBE+CTwPCJbkHpFYy/G6rcQTKLmkGmGla9re2/QQy7+EB0a91Aij4RQICxWkCp36tBytTowVynF0ECLhDBfSynwZzqrkH9/pdAoS0LweDgIsElsWRB8yOXP1abnMB4441BwZd7weeBxEG5JXxBokdLQYCxRUEggOXB7zbDQIq4E0ActstAK2wlP92jt0GV+7dAFd3DQUsTpMGm7rDByHgcQOS30UGb78tA4tgPwWIilUFufixBhWFdwZd368D62NLBiRqKwOPa+EFXPAfBKyfWwCICnUEvYNpAvJAqwe2OfkECzAHCXHYQwb1cvEFltS7AyM9GwYCx3kFkEqo8Qke5QHnATUFfe1lAyDmywXlP8T/1pPJBkLtqP1fKMcBsYoRAFxZjwTGLeMAFxV1BHdSwQW4lwMH3JH7Bi9xfwF1QDkGnmVRBkNQLwSqijsG0xQZBL/f/waKohr8W44dB0sBPwZFc0UFugx/BzM34QbIbm8AvYBlBFkEXQdkgSsB2I13BtjeHQSPkwkCAP5M+colrwRj3pMHAwTBBF7pRQTF+/7/sTHxBtQhHwajirkHaR47BmtdTwTFQCkEpVI/AlE7Uwchf1cBFtjhBqKsFwflKTEEiUh/BAPwwQLzIgkFhcfdA/tj0wXiGG8Fwyk3BxdJywC+mL8F8uclAacGRQTEfqsAD5KzB9VgiwVmljUAlOkE+e/KzvxnC6sAWDe0/qwWKQAev/cGryCbBAsTwwN5dlMGA52xBAf6XwfTprL/JzzHBxNOCwXoK5EF+a3XAgtOEvnR6m0DAlbzBFguKwcwezMC9b1ZBfIzVQBPYQj94KVFB55xlwRCSX8Fpe71Ap4S0QXferr6CqxzBIBQowVZWTMHR4/vA2nKtwfzLuMEeXBpALYheQVX/178h0O/BAQmeQQV1e8Av09LA/uyRwbhUfMGC2v7B38VpwEhUyj/tnZo9XbQhQD7vrUB84XxBgc2uQQGWkEGugGPA2qBgQJJAeUGcRVVBLwZiwcp6A8IAZIO/7wekwXVGxMHQBpBBFUL/vwqKc0BCj7xBw3AhwVMSWsFTP++/+njrwCdYb0HPWG/Aiwc9wI+J3UCg7NnAlV3hv5m0DcHuY/vA1y9CQaZ+WkElAYPBKg5tQdAnAcJI3iHBoyqHv7xSTUEZNnRBXeMGwAFnocHsEbdBmM7SQHNC7L6IrZVB+vwHv2WMZUHmRdbA+q42QWK5yUHGP2xB4zvawV84wMGm7ovBzG17wQ9VhL+3/ZtArkEcQdPbM0EBwYdA02pZQaFXCUGLPhFBawsTQS/1ncGeDNhBbjZGwTLY9EA5FqjBJd3ywS7crMCBOKm/TvBZQZEo8sGWHZ9BD+1nwPbptD5Jx1RBLkeEQYJXP8H9STFBIzcDwibLOMGEdklBqyfPwaYpw0CJEIzBPCzPPxQRScFXpQzBPVsbQA1Rj0GIb7RA51LMPa1rs0DhuDxBu+urQUZ0yUHc+CJBZDekwalMuEA2WsJADhcBwiYXk8BwcLzAsQCsQcA8NMGsXotBnKWwQMFSgcF7Bj5BDrCdQY6rnkEoJgBC7RtowcCflkAo47TAvqNcwN7q/MCpn09BPdGMwADHVEEK4ONA7rdZv/K7+r9vnZVAsCLRwOeissFs7m9BkH93Qf/Vnj5RgAdAzMDTwYCgTj8H1INBzOSSwdvmJsGwL3bAdpdDwGVtmkEDTzTBNWStQVIpNkBEy+zB4G1WwNUme8HVALhB6TRlweMhAEInw5PBLwOlwZoXoD7Ar/bB7bM5wUQpDEFKgYg/1hriwBu7QEFq/DpBkaSNwdneasEyd6jAs8RLwZaR50AsNNnAtpu5Qcsn0kHbglrBbJEmwWB8IcEuv9JA3KhBQanooUGV2CTAw7KcQWEQn0HIwjlBGnriwC4ENMDg4DTA114/QV9jPMB02WrBPfeNQFRjsL9cgzBBslTjQFdsPEBpz/bB8IFVwF6pl0HQE3FB2igBQXHNisA2wAnBHpNeQUrTYsHKzpNAFMKKwTVj6r9ODmPBKthmwYa7gUCsDJrBxO47wAWdnsFQnVXBCBvhwMYR2cD3B6TAlXLjP+sybUEl8Ro/KuHwwJiUC8HXGHQ/LNk8QXUEl8BuY9g/auyQwdxdO78JeKrBpvSCQV4ji8HylH5Bwr9BQc7FlcGk7qrBuPtWwQV9HL/LphlBnzf5QAcct0FNZanAaQE4QUZLS0FRBdDBsc46QSBXEMFv24lBapbiQMv/icG/S7XBeJd5QGcjTMFiFR9BwoaLwPYs/cDv9HxBDhUKwOrUcEA5SRnBfPBwwXgmpb+kAPjAD1P5wB3HuD+MaxdBAhbPwb9Nk8GQSyBA6MKtQRX+IUElSiVAZS6Wwa1kPEE/v+nALoPHwCiqp8CnKl9B/ZHhQFlfhUHef1XBC5KLwUj67EEoh3fBecOFwUABekGWfoDBjOB0wYrRS0GhppvBHidWwcpJtEGbzxbBfWxewQWqAEHz2HxBm/v2wZYbVsHtmznBDeiOwaIKkEEB03VAJwGbv2oih0HhL1lBaFaIQZyOl8HJQ8fBxVLgQElaXcDyt8vAQ3+DwabvwEElbIhB+MWJwFBshEFsxoLBR2gNwfXGe0Al6L3A7PCdQOCggMGL9x/BEZiIQRjOBUG+JxJByZkzQbv7I8AeANPB/hVowdKvLUEOmXpBSlteQHYzhECFXCVBhYMtQcilGD8QhaJAiflKwQzVuUGIsK3Al2L8waRpvMA3xy5Aea+1Qc8URcD6SRpAQKV/wYJlrkBlzRzBWeNzwPQToEFxjGLANFESwJVyOUGEZwDApNm4wA12GEHpmxxBQI/1wDsTCr/GlzVBvVEwwZb/XMHm3tRAR94SQe8A4UBJmczAU88vwflxSEFsyNlAuOm+PpPYdkCp5QfBbx07wVLDBD808M7BCYojwKm+FkG86EjBDw8pwGIYiMH8qNE/9KBsQZhQLkE+Sz1BW8QVwPwlV0G81ZJByaxxQZbqnsE3UzdBUrP6wTGemUDnieRAR5uOQbnFrUGK+J5ApCZgQEhYScCEajdBJHYbQS7xvEBDkrzAIaIOwfemocFC/3FALsJnwf9XTT4BkgvBCz+WwTOyb8FbqbrBNgxVQZLsoUA58ifBetfMv1YcMME5+mVBFY4+wclbY0HcNR+/MPbUQdNZxcD1015B8zzJwLmAakH8P+9AzU8qQS0TNsGbhSNBF17Sv0FdB8Dsno3B/RUZwfXJWMGlXqXB99d0QaCO/78F6ShBsyRSwBxmkEFUpm/BJWoKQf4DEEH8NZtB3LXrQBBkOkFe7/ZAudW+QKWZpkEXSPI/FuKBwblDk0EPVdfBDdOJQdBesEGwP3LBqhj1QBSKcEChtkTBuzRlQD9U4UC0JevBDSeTQRre+sEKgc1BTHSdQDJiz7+xly5AkeEKwaUUNkEnAZ9A+7AgQM5Qj8AsIpxBdMnvPrQaCcH3tJk+yGegQIs07b+F5z1BGPINQVrfnkHFchtB41seQRTeLcCn6E7BvPWjQfVjGEGsCx1BnkTkPyvO78ALv+3B05zjwZJOcsC7dyXAoJZhQcBg48Cy7XbBb2zdQJLKw7/XBJDAyjhvwf6okUHCEbY/z8RlwaV3osHOIQBBDEqsQYxmAEEskBhBCUeuQMSNFkH54UpBv9ijwcDNhEDJ6HjAI0QqwEGsJ0F0UJtAvbnmQKDYykDI2gFBMu5TQIoHc0DKwJtBCdX4P1Kl7r9FQmrAurxwwX6XNEEGUy5APX6KQbsfhMApmIY/n02JwfTTccGotnlBeldHQcOWl8DyVINBWp6UP6cZmcDAsxJBjdcpvxuGFcGqzyRBMFSdQckP/ECkX4rB0XoswO0r+8CqX4fA25PJQMgL0sHYgNhAHXAtPxlhI8CSClZBYyC7wGa2REH750lBYnMFwYxBc0GITYjAijsRwbeFJ0GhPqvBZ2fewcyEbkEg4R/BPuBCQUICzED00mTB0RBYQIwVp0EJ/IjAZ7+lwcCulL/IOKtBjKciP50kLUF/bnlBO+lXweg6vcAyrb1ARIUKQXBoT0Hv8tXAOY/BQZZBa8CQaQXAbAH8wKjCBcGaSIbBlzZZQcv+E0EvcOvA0ZKlQaDvD8HksYvBGnHsPyCPOEHWjZRAUJC0wBAs20Bzfj8+o0isQb/NZMEwTWJBqn6cQHdrPcGWO7VAriPmwQ4LDUFhlkbAd2S8wAmufkAQ5pnB/CyAwBfy7sDT+X1BPcJRQec9GUFCjYVA80o/wAtQQEDrc59ApzRXwDidsUG5SpTB5mTOwcMAZEHYYtvBRwg4QaNA8EAmFrHBr7fEwb1cy0BAm7TBFOdgQfcJjcChQ3NAPdCNwevcnsEaVBbBN8fTwHJIP0Hw6YVBkdJSwELuPUFYlFDAKtZEQcY04MH2JVFBfTYkwV3jHkHCauVAoypMwWGEBMF0+4TBFi2vwEEhosCwOIBBsSpbwb8YL8GnfajASdJBwQ==\",\"dtype\":\"float32\",\"shape\":[1000]},\"x2\":{\"__ndarray__\":\"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\",\"dtype\":\"float32\",\"shape\":[1000]}}},\"id\":\"e61aae95-3518-41d5-86fe-990c1483ef7a\",\"type\":\"ColumnDataSource\"},{\"attributes\":{\"data_source\":{\"id\":\"e61aae95-3518-41d5-86fe-990c1483ef7a\",\"type\":\"ColumnDataSource\"},\"glyph\":{\"id\":\"bb4cb28b-c8ba-4eb6-a6b0-1668d23fe9dd\",\"type\":\"Circle\"},\"hover_glyph\":null,\"muted_glyph\":null,\"nonselection_glyph\":{\"id\":\"70003cd2-ab50-4b5c-a955-d4cf0e3480b0\",\"type\":\"Circle\"},\"selection_glyph\":null,\"view\":{\"id\":\"b99daade-8b6c-4e71-9477-d13cc24c3a82\",\"type\":\"CDSView\"}},\"id\":\"4d9b38c8-c07a-4ae3-b72a-3542c0081d07\",\"type\":\"GlyphRenderer\"},{\"attributes\":{\"formatter\":{\"id\":\"2a2d8804-2f18-4147-91cb-490aa7dceecb\",\"type\":\"BasicTickFormatter\"},\"plot\":{\"id\":\"3f73be1c-5b62-4ab8-9614-db3bc0a91f9d\",\"subtype\":\"Figure\",\"type\":\"Plot\"},\"ticker\":{\"id\":\"4c65f3b0-ccf0-4ec1-a575-a8df46b0bb03\",\"type\":\"BasicTicker\"}},\"id\":\"c2550952-320b-4435-a450-d128ed76611c\",\"type\":\"LinearAxis\"},{\"attributes\":{},\"id\":\"dfe26006-9e6c-4ef8-9aef-8852ba3790c3\",\"type\":\"PanTool\"},{\"attributes\":{\"source\":{\"id\":\"e61aae95-3518-41d5-86fe-990c1483ef7a\",\"type\":\"ColumnDataSource\"}},\"id\":\"b99daade-8b6c-4e71-9477-d13cc24c3a82\",\"type\":\"CDSView\"},{\"attributes\":{},\"id\":\"54c0a595-5cd6-4dbe-921a-650c52e19166\",\"type\":\"WheelZoomTool\"},{\"attributes\":{},\"id\":\"de2460f9-9ef8-405b-be99-a54076cceca5\",\"type\":\"ResetTool\"},{\"attributes\":{},\"id\":\"bf497ba6-1070-4343-a929-05eff3f59153\",\"type\":\"SaveTool\"},{\"attributes\":{\"fill_alpha\":{\"value\":0.1},\"fill_color\":{\"value\":\"#1f77b4\"},\"line_alpha\":{\"value\":0.1},\"line_color\":{\"value\":\"#1f77b4\"},\"size\":{\"units\":\"screen\",\"value\":8},\"x\":{\"field\":\"x1\"},\"y\":{\"field\":\"x2\"}},\"id\":\"70003cd2-ab50-4b5c-a955-d4cf0e3480b0\",\"type\":\"Circle\"},{\"attributes\":{\"callback\":null},\"id\":\"bd388afc-c1e0-42f6-9518-e4732d2c3fc1\",\"type\":\"DataRange1d\"},{\"attributes\":{},\"id\":\"891a6349-9d00-4874-a9d2-bc3ae7b76eb3\",\"type\":\"LinearScale\"},{\"attributes\":{\"plot\":{\"id\":\"3f73be1c-5b62-4ab8-9614-db3bc0a91f9d\",\"subtype\":\"Figure\",\"type\":\"Plot\"},\"ticker\":{\"id\":\"ad8a97c7-8845-4c39-b2d3-6416ccda7e31\",\"type\":\"BasicTicker\"}},\"id\":\"36677b79-ebd8-4b92-91b8-353d0309fb43\",\"type\":\"Grid\"},{\"attributes\":{},\"id\":\"03aeb18c-818b-4876-ac58-93517c577c66\",\"type\":\"BasicTickFormatter\"},{\"attributes\":{\"fill_color\":{\"field\":\"colors\"},\"line_color\":{\"field\":\"colors\"},\"size\":{\"units\":\"screen\",\"value\":8},\"x\":{\"field\":\"x1\"},\"y\":{\"field\":\"x2\"}},\"id\":\"bb4cb28b-c8ba-4eb6-a6b0-1668d23fe9dd\",\"type\":\"Circle\"},{\"attributes\":{\"plot\":{\"id\":\"3f73be1c-5b62-4ab8-9614-db3bc0a91f9d\",\"subtype\":\"Figure\",\"type\":\"Plot\"},\"source\":{\"id\":\"e61aae95-3518-41d5-86fe-990c1483ef7a\",\"type\":\"ColumnDataSource\"},\"text\":{\"field\":\"names\"},\"text_align\":\"center\",\"text_color\":{\"value\":\"#555555\"},\"text_font_size\":{\"value\":\"8pt\"},\"x\":{\"field\":\"x1\"},\"y\":{\"field\":\"x2\"},\"y_offset\":{\"value\":6}},\"id\":\"0f3f00f9-ceb6-4706-9c54-abc346d339be\",\"type\":\"LabelSet\"},{\"attributes\":{\"below\":[{\"id\":\"6c385832-29f6-4790-85cc-3d8323742442\",\"type\":\"LinearAxis\"}],\"left\":[{\"id\":\"c2550952-320b-4435-a450-d128ed76611c\",\"type\":\"LinearAxis\"}],\"renderers\":[{\"id\":\"6c385832-29f6-4790-85cc-3d8323742442\",\"type\":\"LinearAxis\"},{\"id\":\"36677b79-ebd8-4b92-91b8-353d0309fb43\",\"type\":\"Grid\"},{\"id\":\"c2550952-320b-4435-a450-d128ed76611c\",\"type\":\"LinearAxis\"},{\"id\":\"5160a817-76cb-46f3-b35a-0cd9553cbf66\",\"type\":\"Grid\"},{\"id\":\"4d9b38c8-c07a-4ae3-b72a-3542c0081d07\",\"type\":\"GlyphRenderer\"},{\"id\":\"0f3f00f9-ceb6-4706-9c54-abc346d339be\",\"type\":\"LabelSet\"}],\"title\":{\"id\":\"16f5f397-bb52-403f-8a3f-d0eae27c752c\",\"type\":\"Title\"},\"toolbar\":{\"id\":\"30f72478-6107-4b4b-a836-aac3d5939a67\",\"type\":\"Toolbar\"},\"toolbar_location\":\"above\",\"x_range\":{\"id\":\"fa36dba9-45e5-4d50-b00d-92124849060f\",\"type\":\"DataRange1d\"},\"x_scale\":{\"id\":\"a1113df4-00db-4381-b1b4-a7b0938ed49e\",\"type\":\"LinearScale\"},\"y_range\":{\"id\":\"bd388afc-c1e0-42f6-9518-e4732d2c3fc1\",\"type\":\"DataRange1d\"},\"y_scale\":{\"id\":\"891a6349-9d00-4874-a9d2-bc3ae7b76eb3\",\"type\":\"LinearScale\"}},\"id\":\"3f73be1c-5b62-4ab8-9614-db3bc0a91f9d\",\"subtype\":\"Figure\",\"type\":\"Plot\"},{\"attributes\":{\"active_drag\":\"auto\",\"active_inspect\":\"auto\",\"active_scroll\":\"auto\",\"active_tap\":\"auto\",\"tools\":[{\"id\":\"dfe26006-9e6c-4ef8-9aef-8852ba3790c3\",\"type\":\"PanTool\"},{\"id\":\"54c0a595-5cd6-4dbe-921a-650c52e19166\",\"type\":\"WheelZoomTool\"},{\"id\":\"de2460f9-9ef8-405b-be99-a54076cceca5\",\"type\":\"ResetTool\"},{\"id\":\"bf497ba6-1070-4343-a929-05eff3f59153\",\"type\":\"SaveTool\"}]},\"id\":\"30f72478-6107-4b4b-a836-aac3d5939a67\",\"type\":\"Toolbar\"}],\"root_ids\":[\"3f73be1c-5b62-4ab8-9614-db3bc0a91f9d\"]},\"title\":\"Bokeh Application\",\"version\":\"0.12.7\"}};\n",
       "            var render_items = [{\"docid\":\"644e0e4d-2306-43b1-8d9e-c100bf3af80d\",\"elementid\":\"11552ffb-afcb-439e-9db6-903d794ee2f7\",\"modelid\":\"3f73be1c-5b62-4ab8-9614-db3bc0a91f9d\"}];\n",
       "            \n",
       "            Bokeh.embed.embed_items(docs_json, render_items);\n",
       "          };\n",
       "          if (document.readyState != \"loading\") fn();\n",
       "          else document.addEventListener(\"DOMContentLoaded\", fn);\n",
       "        })();\n",
       "      },\n",
       "      function(Bokeh) {\n",
       "      }\n",
       "    ];\n",
       "  \n",
       "    function run_inline_js() {\n",
       "      \n",
       "      if ((root.Bokeh !== undefined) || (force === true)) {\n",
       "        for (var i = 0; i < inline_js.length; i++) {\n",
       "          inline_js[i].call(root, root.Bokeh);\n",
       "        }if (force === true) {\n",
       "          display_loaded();\n",
       "        }} else if (Date.now() < root._bokeh_timeout) {\n",
       "        setTimeout(run_inline_js, 100);\n",
       "      } else if (!root._bokeh_failed_load) {\n",
       "        console.log(\"Bokeh: BokehJS failed to load within specified timeout.\");\n",
       "        root._bokeh_failed_load = true;\n",
       "      } else if (force !== true) {\n",
       "        var cell = $(document.getElementById(\"11552ffb-afcb-439e-9db6-903d794ee2f7\")).parents('.cell').data().cell;\n",
       "        cell.output_area.append_execute_result(NB_LOAD_WARNING)\n",
       "      }\n",
       "  \n",
       "    }\n",
       "  \n",
       "    if (root._bokeh_is_loading === 0) {\n",
       "      console.log(\"Bokeh: BokehJS loaded, going straight to plotting\");\n",
       "      run_inline_js();\n",
       "    } else {\n",
       "      load_libs(js_urls, function() {\n",
       "        console.log(\"Bokeh: BokehJS plotting callback run at\", now());\n",
       "        run_inline_js();\n",
       "      });\n",
       "    }\n",
       "  }(window));\n",
       "</script>"
      ]
     },
     "metadata": {},
     "output_type": "display_data"
    }
   ],
   "source": [
    "ted_top_words = [k for k,v in ted_counts.most_common(1000)]\n",
    "ted_top_vecs = ted_model[ted_top_words]\n",
    "\n",
    "emb_scatter(ted_top_vecs, ted_top_words, N=20)"
   ]
  },
  {
   "cell_type": "markdown",
   "metadata": {},
   "source": [
    "## Wikipedia dataset\n",
    "\n",
    "The more data the better. And this dataset is pretty big."
   ]
  },
  {
   "cell_type": "code",
   "execution_count": 25,
   "metadata": {},
   "outputs": [
    {
     "name": "stdout",
     "output_type": "stream",
     "text": [
      "CPU times: user 1min 6s, sys: 3.92 s, total: 1min 10s\n",
      "Wall time: 1min 10s\n"
     ]
    }
   ],
   "source": [
    "train_file = \"data/wiki-cleaned.txt\"\n",
    "\n",
    "# This way w2i will automatically assigns\n",
    "# the next availlable integer to each new word:\n",
    "w2i = defaultdict(lambda: len(w2i))\n",
    "UNK = w2i[\"<unk>\"] # So: UNK = 0\n",
    "\n",
    "# Time how long this takes\n",
    "%time wiki_data, wiki_counts, wiki_w2i = read(train_file, w2i)\n",
    "\n",
    "# Now w2i returns UNK as default\n",
    "w2i = defaultdict(lambda: UNK, wiki_w2i)\n",
    "nwords = len(wiki_w2i)\n",
    "\n",
    "# Also construct the inverse dictionary i2w\n",
    "ted_i2w = dict()\n",
    "for w, i in wiki_w2i.items():\n",
    "    ted_i2w[i] = w"
   ]
  },
  {
   "cell_type": "code",
   "execution_count": 26,
   "metadata": {},
   "outputs": [],
   "source": [
    "wiki_model = Word2Vec(wiki_data, size=100, window=5, min_count=5, workers=4)"
   ]
  },
  {
   "cell_type": "code",
   "execution_count": 28,
   "metadata": {},
   "outputs": [
    {
     "name": "stdout",
     "output_type": "stream",
     "text": [
      "finding clusters\n",
      "fitting tsne\n"
     ]
    },
    {
     "data": {
      "text/html": [
       "\n",
       "\n",
       "    <div class=\"bk-root\">\n",
       "        <div class=\"bk-plotdiv\" id=\"4a0774d0-3101-4bf7-9833-52b155aba2be\"></div>\n",
       "    </div>\n",
       "<script type=\"text/javascript\">\n",
       "  \n",
       "  (function(root) {\n",
       "    function now() {\n",
       "      return new Date();\n",
       "    }\n",
       "  \n",
       "    var force = false;\n",
       "  \n",
       "    if (typeof (root._bokeh_onload_callbacks) === \"undefined\" || force === true) {\n",
       "      root._bokeh_onload_callbacks = [];\n",
       "      root._bokeh_is_loading = undefined;\n",
       "    }\n",
       "  \n",
       "  \n",
       "    \n",
       "    if (typeof (root._bokeh_timeout) === \"undefined\" || force === true) {\n",
       "      root._bokeh_timeout = Date.now() + 0;\n",
       "      root._bokeh_failed_load = false;\n",
       "    }\n",
       "  \n",
       "    var NB_LOAD_WARNING = {'data': {'text/html':\n",
       "       \"<div style='background-color: #fdd'>\\n\"+\n",
       "       \"<p>\\n\"+\n",
       "       \"BokehJS does not appear to have successfully loaded. If loading BokehJS from CDN, this \\n\"+\n",
       "       \"may be due to a slow or bad network connection. Possible fixes:\\n\"+\n",
       "       \"</p>\\n\"+\n",
       "       \"<ul>\\n\"+\n",
       "       \"<li>re-rerun `output_notebook()` to attempt to load from CDN again, or</li>\\n\"+\n",
       "       \"<li>use INLINE resources instead, as so:</li>\\n\"+\n",
       "       \"</ul>\\n\"+\n",
       "       \"<code>\\n\"+\n",
       "       \"from bokeh.resources import INLINE\\n\"+\n",
       "       \"output_notebook(resources=INLINE)\\n\"+\n",
       "       \"</code>\\n\"+\n",
       "       \"</div>\"}};\n",
       "  \n",
       "    function display_loaded() {\n",
       "      if (root.Bokeh !== undefined) {\n",
       "        var el = document.getElementById(\"4a0774d0-3101-4bf7-9833-52b155aba2be\");\n",
       "        if (el != null) {\n",
       "          el.textContent = \"BokehJS \" + Bokeh.version + \" successfully loaded.\";\n",
       "        }\n",
       "      } else if (Date.now() < root._bokeh_timeout) {\n",
       "        setTimeout(display_loaded, 100)\n",
       "      }\n",
       "    }\n",
       "  \n",
       "  \n",
       "    function run_callbacks() {\n",
       "      try {\n",
       "        root._bokeh_onload_callbacks.forEach(function(callback) { callback() });\n",
       "      }\n",
       "      finally {\n",
       "        delete root._bokeh_onload_callbacks\n",
       "      }\n",
       "      console.info(\"Bokeh: all callbacks have finished\");\n",
       "    }\n",
       "  \n",
       "    function load_libs(js_urls, callback) {\n",
       "      root._bokeh_onload_callbacks.push(callback);\n",
       "      if (root._bokeh_is_loading > 0) {\n",
       "        console.log(\"Bokeh: BokehJS is being loaded, scheduling callback at\", now());\n",
       "        return null;\n",
       "      }\n",
       "      if (js_urls == null || js_urls.length === 0) {\n",
       "        run_callbacks();\n",
       "        return null;\n",
       "      }\n",
       "      console.log(\"Bokeh: BokehJS not loaded, scheduling load and callback at\", now());\n",
       "      root._bokeh_is_loading = js_urls.length;\n",
       "      for (var i = 0; i < js_urls.length; i++) {\n",
       "        var url = js_urls[i];\n",
       "        var s = document.createElement('script');\n",
       "        s.src = url;\n",
       "        s.async = false;\n",
       "        s.onreadystatechange = s.onload = function() {\n",
       "          root._bokeh_is_loading--;\n",
       "          if (root._bokeh_is_loading === 0) {\n",
       "            console.log(\"Bokeh: all BokehJS libraries loaded\");\n",
       "            run_callbacks()\n",
       "          }\n",
       "        };\n",
       "        s.onerror = function() {\n",
       "          console.warn(\"failed to load library \" + url);\n",
       "        };\n",
       "        console.log(\"Bokeh: injecting script tag for BokehJS library: \", url);\n",
       "        document.getElementsByTagName(\"head\")[0].appendChild(s);\n",
       "      }\n",
       "    };var element = document.getElementById(\"4a0774d0-3101-4bf7-9833-52b155aba2be\");\n",
       "    if (element == null) {\n",
       "      console.log(\"Bokeh: ERROR: autoload.js configured with elementid '4a0774d0-3101-4bf7-9833-52b155aba2be' but no matching script tag was found. \")\n",
       "      return false;\n",
       "    }\n",
       "  \n",
       "    var js_urls = [];\n",
       "  \n",
       "    var inline_js = [\n",
       "      function(Bokeh) {\n",
       "        (function() {\n",
       "          var fn = function() {\n",
       "            var docs_json = {\"efff86e7-9132-4d31-9a6f-b4a9803d5973\":{\"roots\":{\"references\":[{\"attributes\":{\"plot\":{\"id\":\"528a4c51-f887-4b71-a1d9-388ae6e7a19a\",\"subtype\":\"Figure\",\"type\":\"Plot\"},\"ticker\":{\"id\":\"e9ee13d4-1ab5-4ef3-ae8a-8fa62a681173\",\"type\":\"BasicTicker\"}},\"id\":\"f0ce16f4-5cce-41dd-9108-86b3b41ae453\",\"type\":\"Grid\"},{\"attributes\":{\"formatter\":{\"id\":\"2c78e9c6-82f3-451d-9756-3c6b36699798\",\"type\":\"BasicTickFormatter\"},\"plot\":{\"id\":\"528a4c51-f887-4b71-a1d9-388ae6e7a19a\",\"subtype\":\"Figure\",\"type\":\"Plot\"},\"ticker\":{\"id\":\"e9ee13d4-1ab5-4ef3-ae8a-8fa62a681173\",\"type\":\"BasicTicker\"}},\"id\":\"3ed37fec-d329-472f-8be5-01f412a81363\",\"type\":\"LinearAxis\"},{\"attributes\":{\"below\":[{\"id\":\"3ed37fec-d329-472f-8be5-01f412a81363\",\"type\":\"LinearAxis\"}],\"left\":[{\"id\":\"8f411709-534a-4fa9-a5b2-7a9236a5db4b\",\"type\":\"LinearAxis\"}],\"renderers\":[{\"id\":\"3ed37fec-d329-472f-8be5-01f412a81363\",\"type\":\"LinearAxis\"},{\"id\":\"f0ce16f4-5cce-41dd-9108-86b3b41ae453\",\"type\":\"Grid\"},{\"id\":\"8f411709-534a-4fa9-a5b2-7a9236a5db4b\",\"type\":\"LinearAxis\"},{\"id\":\"c3411e23-8bed-4dcd-98b6-aa044c9ec746\",\"type\":\"Grid\"},{\"id\":\"d1716ec9-21b0-45b0-8f8c-973972e909f9\",\"type\":\"GlyphRenderer\"},{\"id\":\"6665b357-992e-411c-ae17-0fd43ad50b58\",\"type\":\"LabelSet\"}],\"title\":{\"id\":\"b60c7a7d-6a7a-4640-9f27-a47da4bb1a84\",\"type\":\"Title\"},\"toolbar\":{\"id\":\"464fa14f-70d4-4441-aaf9-aa9e90ef065e\",\"type\":\"Toolbar\"},\"toolbar_location\":\"above\",\"x_range\":{\"id\":\"23178808-0554-47e2-a3b9-0887e2eb1344\",\"type\":\"DataRange1d\"},\"x_scale\":{\"id\":\"839c730d-17f0-4bb1-a54d-1d721a33ad99\",\"type\":\"LinearScale\"},\"y_range\":{\"id\":\"fc9bd992-4a0d-43a3-b6c8-f132e58b31f5\",\"type\":\"DataRange1d\"},\"y_scale\":{\"id\":\"f5b20a9d-430a-435b-bf58-bb775b07149b\",\"type\":\"LinearScale\"}},\"id\":\"528a4c51-f887-4b71-a1d9-388ae6e7a19a\",\"subtype\":\"Figure\",\"type\":\"Plot\"},{\"attributes\":{},\"id\":\"e9ee13d4-1ab5-4ef3-ae8a-8fa62a681173\",\"type\":\"BasicTicker\"},{\"attributes\":{\"formatter\":{\"id\":\"5dcac51c-15d2-40c4-ac4d-eb121cbead13\",\"type\":\"BasicTickFormatter\"},\"plot\":{\"id\":\"528a4c51-f887-4b71-a1d9-388ae6e7a19a\",\"subtype\":\"Figure\",\"type\":\"Plot\"},\"ticker\":{\"id\":\"3fa4d926-f7b5-47fc-ba49-268a5e76c944\",\"type\":\"BasicTicker\"}},\"id\":\"8f411709-534a-4fa9-a5b2-7a9236a5db4b\",\"type\":\"LinearAxis\"},{\"attributes\":{},\"id\":\"3fa4d926-f7b5-47fc-ba49-268a5e76c944\",\"type\":\"BasicTicker\"},{\"attributes\":{\"dimension\":1,\"plot\":{\"id\":\"528a4c51-f887-4b71-a1d9-388ae6e7a19a\",\"subtype\":\"Figure\",\"type\":\"Plot\"},\"ticker\":{\"id\":\"3fa4d926-f7b5-47fc-ba49-268a5e76c944\",\"type\":\"BasicTicker\"}},\"id\":\"c3411e23-8bed-4dcd-98b6-aa044c9ec746\",\"type\":\"Grid\"},{\"attributes\":{},\"id\":\"5dcac51c-15d2-40c4-ac4d-eb121cbead13\",\"type\":\"BasicTickFormatter\"},{\"attributes\":{\"data_source\":{\"id\":\"bfa22b17-e40b-4b37-97f1-814ef6b38eb1\",\"type\":\"ColumnDataSource\"},\"glyph\":{\"id\":\"30bf3b72-1768-4c9e-89cb-dfded697dc97\",\"type\":\"Circle\"},\"hover_glyph\":null,\"muted_glyph\":null,\"nonselection_glyph\":{\"id\":\"5a376678-f67c-47f7-a7c4-bb7f92f27264\",\"type\":\"Circle\"},\"selection_glyph\":null,\"view\":{\"id\":\"51dda4c8-1394-4ca7-b3a4-a94235d4ae4d\",\"type\":\"CDSView\"}},\"id\":\"d1716ec9-21b0-45b0-8f8c-973972e909f9\",\"type\":\"GlyphRenderer\"},{\"attributes\":{},\"id\":\"dbed8bfd-7397-408e-8346-011b6546118f\",\"type\":\"PanTool\"},{\"attributes\":{\"source\":{\"id\":\"bfa22b17-e40b-4b37-97f1-814ef6b38eb1\",\"type\":\"ColumnDataSource\"}},\"id\":\"51dda4c8-1394-4ca7-b3a4-a94235d4ae4d\",\"type\":\"CDSView\"},{\"attributes\":{},\"id\":\"ecfbd7b8-bc10-4c18-a156-13f36e37e1aa\",\"type\":\"WheelZoomTool\"},{\"attributes\":{},\"id\":\"5ac0a3d8-065a-4dcb-b5a8-98e02e6f0c75\",\"type\":\"ResetTool\"},{\"attributes\":{},\"id\":\"ce8b10e8-3cc2-4d94-b6e3-3ceecddda6af\",\"type\":\"SaveTool\"},{\"attributes\":{\"fill_alpha\":{\"value\":0.1},\"fill_color\":{\"value\":\"#1f77b4\"},\"line_alpha\":{\"value\":0.1},\"line_color\":{\"value\":\"#1f77b4\"},\"size\":{\"units\":\"screen\",\"value\":8},\"x\":{\"field\":\"x1\"},\"y\":{\"field\":\"x2\"}},\"id\":\"5a376678-f67c-47f7-a7c4-bb7f92f27264\",\"type\":\"Circle\"},{\"attributes\":{\"fill_color\":{\"field\":\"colors\"},\"line_color\":{\"field\":\"colors\"},\"size\":{\"units\":\"screen\",\"value\":8},\"x\":{\"field\":\"x1\"},\"y\":{\"field\":\"x2\"}},\"id\":\"30bf3b72-1768-4c9e-89cb-dfded697dc97\",\"type\":\"Circle\"},{\"attributes\":{},\"id\":\"2c78e9c6-82f3-451d-9756-3c6b36699798\",\"type\":\"BasicTickFormatter\"},{\"attributes\":{\"active_drag\":\"auto\",\"active_inspect\":\"auto\",\"active_scroll\":\"auto\",\"active_tap\":\"auto\",\"tools\":[{\"id\":\"dbed8bfd-7397-408e-8346-011b6546118f\",\"type\":\"PanTool\"},{\"id\":\"ecfbd7b8-bc10-4c18-a156-13f36e37e1aa\",\"type\":\"WheelZoomTool\"},{\"id\":\"5ac0a3d8-065a-4dcb-b5a8-98e02e6f0c75\",\"type\":\"ResetTool\"},{\"id\":\"ce8b10e8-3cc2-4d94-b6e3-3ceecddda6af\",\"type\":\"SaveTool\"}]},\"id\":\"464fa14f-70d4-4441-aaf9-aa9e90ef065e\",\"type\":\"Toolbar\"},{\"attributes\":{\"callback\":null,\"column_names\":[\"x1\",\"x2\",\"names\",\"colors\"],\"data\":{\"colors\":[\"#1f77b4\",\"#1f77b4\",\"#1f77b4\",\"#9edae5\",\"#9edae5\",\"#1f77b4\",\"#17becf\",\"#e377c2\",\"#9edae5\",\"#17becf\",\"#9edae5\",\"#9467bd\",\"#9edae5\",\"#9edae5\",\"#17becf\",\"#9467bd\",\"#9edae5\",\"#9467bd\",\"#9edae5\",\"#9467bd\",\"#17becf\",\"#1f77b4\",\"#9467bd\",\"#1f77b4\",\"#d62728\",\"#9467bd\",\"#9467bd\",\"#17becf\",\"#ff7f0e\",\"#9467bd\",\"#1f77b4\",\"#9edae5\",\"#ff7f0e\",\"#9467bd\",\"#1f77b4\",\"#1f77b4\",\"#9467bd\",\"#8c564b\",\"#9467bd\",\"#9467bd\",\"#dbdb8d\",\"#1f77b4\",\"#17becf\",\"#9467bd\",\"#9467bd\",\"#9edae5\",\"#c5b0d5\",\"#ff7f0e\",\"#8c564b\",\"#ffbb78\",\"#9edae5\",\"#8c564b\",\"#9467bd\",\"#9467bd\",\"#9edae5\",\"#9edae5\",\"#9467bd\",\"#c5b0d5\",\"#9467bd\",\"#ff7f0e\",\"#9edae5\",\"#8c564b\",\"#8c564b\",\"#9467bd\",\"#9edae5\",\"#9edae5\",\"#ff7f0e\",\"#17becf\",\"#9467bd\",\"#8c564b\",\"#ff9896\",\"#ffbb78\",\"#9edae5\",\"#c49c94\",\"#98df8a\",\"#9467bd\",\"#1f77b4\",\"#ff7f0e\",\"#c5b0d5\",\"#9edae5\",\"#aec7e8\",\"#c7c7c7\",\"#c49c94\",\"#8c564b\",\"#9edae5\",\"#9467bd\",\"#98df8a\",\"#9467bd\",\"#9edae5\",\"#9467bd\",\"#ff9896\",\"#8c564b\",\"#ff9896\",\"#9edae5\",\"#7f7f7f\",\"#ff9896\",\"#8c564b\",\"#c5b0d5\",\"#7f7f7f\",\"#17becf\",\"#7f7f7f\",\"#f7b6d2\",\"#8c564b\",\"#1f77b4\",\"#ffbb78\",\"#8c564b\",\"#aec7e8\",\"#1f77b4\",\"#8c564b\",\"#ff7f0e\",\"#9edae5\",\"#bcbd22\",\"#7f7f7f\",\"#ff9896\",\"#c49c94\",\"#9467bd\",\"#ff9896\",\"#ff7f0e\",\"#2ca02c\",\"#aec7e8\",\"#98df8a\",\"#9467bd\",\"#aec7e8\",\"#ffbb78\",\"#ffbb78\",\"#17becf\",\"#f7b6d2\",\"#9edae5\",\"#9467bd\",\"#98df8a\",\"#9467bd\",\"#9467bd\",\"#98df8a\",\"#1f77b4\",\"#9467bd\",\"#ff7f0e\",\"#aec7e8\",\"#ff7f0e\",\"#9edae5\",\"#1f77b4\",\"#1f77b4\",\"#aec7e8\",\"#dbdb8d\",\"#9467bd\",\"#2ca02c\",\"#ff9896\",\"#c49c94\",\"#ff7f0e\",\"#7f7f7f\",\"#aec7e8\",\"#1f77b4\",\"#9edae5\",\"#9edae5\",\"#ff7f0e\",\"#8c564b\",\"#ff9896\",\"#f7b6d2\",\"#17becf\",\"#9467bd\",\"#7f7f7f\",\"#9467bd\",\"#7f7f7f\",\"#ff7f0e\",\"#bcbd22\",\"#9edae5\",\"#c49c94\",\"#aec7e8\",\"#f7b6d2\",\"#c49c94\",\"#bcbd22\",\"#17becf\",\"#e377c2\",\"#9467bd\",\"#ffbb78\",\"#7f7f7f\",\"#bcbd22\",\"#c49c94\",\"#7f7f7f\",\"#17becf\",\"#ff9896\",\"#c49c94\",\"#c49c94\",\"#c5b0d5\",\"#c49c94\",\"#c5b0d5\",\"#ff7f0e\",\"#9467bd\",\"#e377c2\",\"#c49c94\",\"#1f77b4\",\"#98df8a\",\"#9edae5\",\"#1f77b4\",\"#f7b6d2\",\"#98df8a\",\"#dbdb8d\",\"#e377c2\",\"#bcbd22\",\"#c5b0d5\",\"#9467bd\",\"#9467bd\",\"#bcbd22\",\"#c7c7c7\",\"#17becf\",\"#c49c94\",\"#7f7f7f\",\"#f7b6d2\",\"#98df8a\",\"#dbdb8d\",\"#8c564b\",\"#dbdb8d\",\"#c49c94\",\"#ff9896\",\"#ff9896\",\"#9467bd\",\"#2ca02c\",\"#f7b6d2\",\"#2ca02c\",\"#f7b6d2\",\"#1f77b4\",\"#9edae5\",\"#ff7f0e\",\"#1f77b4\",\"#7f7f7f\",\"#2ca02c\",\"#e377c2\",\"#9467bd\",\"#ff9896\",\"#c7c7c7\",\"#dbdb8d\",\"#7f7f7f\",\"#ff9896\",\"#98df8a\",\"#ff7f0e\",\"#ff7f0e\",\"#c7c7c7\",\"#c7c7c7\",\"#e377c2\",\"#ff9896\",\"#c5b0d5\",\"#ff7f0e\",\"#9467bd\",\"#d62728\",\"#1f77b4\",\"#ff7f0e\",\"#c5b0d5\",\"#9467bd\",\"#9467bd\",\"#c7c7c7\",\"#17becf\",\"#9467bd\",\"#1f77b4\",\"#ff9896\",\"#dbdb8d\",\"#c7c7c7\",\"#7f7f7f\",\"#c5b0d5\",\"#1f77b4\",\"#7f7f7f\",\"#aec7e8\",\"#ff7f0e\",\"#bcbd22\",\"#c49c94\",\"#9edae5\",\"#9467bd\",\"#98df8a\",\"#c49c94\",\"#98df8a\",\"#c5b0d5\",\"#1f77b4\",\"#bcbd22\",\"#1f77b4\",\"#d62728\",\"#17becf\",\"#c7c7c7\",\"#e377c2\",\"#c7c7c7\",\"#ff9896\",\"#aec7e8\",\"#aec7e8\",\"#7f7f7f\",\"#bcbd22\",\"#ff9896\",\"#9467bd\",\"#1f77b4\",\"#17becf\",\"#c5b0d5\",\"#c5b0d5\",\"#c5b0d5\",\"#7f7f7f\",\"#9467bd\",\"#e377c2\",\"#17becf\",\"#c5b0d5\",\"#ffbb78\",\"#e377c2\",\"#7f7f7f\",\"#1f77b4\",\"#1f77b4\",\"#9edae5\",\"#f7b6d2\",\"#7f7f7f\",\"#17becf\",\"#aec7e8\",\"#2ca02c\",\"#d62728\",\"#bcbd22\",\"#c5b0d5\",\"#7f7f7f\",\"#8c564b\",\"#7f7f7f\",\"#17becf\",\"#17becf\",\"#ff9896\",\"#17becf\",\"#ff9896\",\"#f7b6d2\",\"#98df8a\",\"#17becf\",\"#c7c7c7\",\"#1f77b4\",\"#e377c2\",\"#d62728\",\"#aec7e8\",\"#f7b6d2\",\"#c7c7c7\",\"#7f7f7f\",\"#98df8a\",\"#bcbd22\",\"#7f7f7f\",\"#bcbd22\",\"#e377c2\",\"#aec7e8\",\"#9467bd\",\"#aec7e8\",\"#aec7e8\",\"#9edae5\",\"#9467bd\",\"#bcbd22\",\"#f7b6d2\",\"#ff9896\",\"#1f77b4\",\"#c5b0d5\",\"#ff9896\",\"#c7c7c7\",\"#7f7f7f\",\"#e377c2\",\"#9467bd\",\"#f7b6d2\",\"#ff9896\",\"#1f77b4\",\"#98df8a\",\"#aec7e8\",\"#98df8a\",\"#1f77b4\",\"#f7b6d2\",\"#c5b0d5\",\"#17becf\",\"#98df8a\",\"#dbdb8d\",\"#ff9896\",\"#2ca02c\",\"#7f7f7f\",\"#c7c7c7\",\"#7f7f7f\",\"#8c564b\",\"#aec7e8\",\"#c5b0d5\",\"#c7c7c7\",\"#9467bd\",\"#ff9896\",\"#d62728\",\"#9467bd\",\"#17becf\",\"#d62728\",\"#dbdb8d\",\"#c49c94\",\"#ff9896\",\"#ff7f0e\",\"#17becf\",\"#c7c7c7\",\"#9edae5\",\"#9edae5\",\"#9467bd\",\"#9edae5\",\"#dbdb8d\",\"#9467bd\",\"#aec7e8\",\"#e377c2\",\"#9467bd\",\"#9467bd\",\"#ff9896\",\"#aec7e8\",\"#17becf\",\"#dbdb8d\",\"#c5b0d5\",\"#1f77b4\",\"#9edae5\",\"#dbdb8d\",\"#ff9896\",\"#9edae5\",\"#ff9896\",\"#8c564b\",\"#ff9896\",\"#9edae5\",\"#c49c94\",\"#f7b6d2\",\"#1f77b4\",\"#e377c2\",\"#8c564b\",\"#d62728\",\"#7f7f7f\",\"#98df8a\",\"#7f7f7f\",\"#ff7f0e\",\"#17becf\",\"#7f7f7f\",\"#17becf\",\"#c49c94\",\"#bcbd22\",\"#f7b6d2\",\"#aec7e8\",\"#8c564b\",\"#e377c2\",\"#7f7f7f\",\"#e377c2\",\"#1f77b4\",\"#7f7f7f\",\"#9467bd\",\"#2ca02c\",\"#bcbd22\",\"#7f7f7f\",\"#2ca02c\",\"#2ca02c\",\"#8c564b\",\"#9edae5\",\"#e377c2\",\"#c5b0d5\",\"#aec7e8\",\"#ff9896\",\"#2ca02c\",\"#98df8a\",\"#dbdb8d\",\"#c5b0d5\",\"#f7b6d2\",\"#7f7f7f\",\"#c5b0d5\",\"#bcbd22\",\"#bcbd22\",\"#7f7f7f\",\"#ffbb78\",\"#ff9896\",\"#f7b6d2\",\"#aec7e8\",\"#98df8a\",\"#9edae5\",\"#98df8a\",\"#98df8a\",\"#f7b6d2\",\"#bcbd22\",\"#1f77b4\",\"#aec7e8\",\"#17becf\",\"#17becf\",\"#1f77b4\",\"#ffbb78\",\"#f7b6d2\",\"#98df8a\",\"#bcbd22\",\"#7f7f7f\",\"#ff9896\",\"#c5b0d5\",\"#17becf\",\"#98df8a\",\"#ff9896\",\"#e377c2\",\"#dbdb8d\",\"#ff9896\",\"#17becf\",\"#e377c2\",\"#9467bd\",\"#9edae5\",\"#f7b6d2\",\"#2ca02c\",\"#aec7e8\",\"#1f77b4\",\"#ff9896\",\"#7f7f7f\",\"#bcbd22\",\"#bcbd22\",\"#1f77b4\",\"#c5b0d5\",\"#d62728\",\"#f7b6d2\",\"#c5b0d5\",\"#c5b0d5\",\"#98df8a\",\"#17becf\",\"#7f7f7f\",\"#ff9896\",\"#7f7f7f\",\"#9467bd\",\"#ff7f0e\",\"#ff7f0e\",\"#ffbb78\",\"#9edae5\",\"#7f7f7f\",\"#98df8a\",\"#98df8a\",\"#1f77b4\",\"#98df8a\",\"#e377c2\",\"#e377c2\",\"#ff7f0e\",\"#c5b0d5\",\"#d62728\",\"#1f77b4\",\"#e377c2\",\"#1f77b4\",\"#f7b6d2\",\"#d62728\",\"#98df8a\",\"#7f7f7f\",\"#17becf\",\"#9467bd\",\"#c7c7c7\",\"#1f77b4\",\"#1f77b4\",\"#9edae5\",\"#c7c7c7\",\"#1f77b4\",\"#1f77b4\",\"#aec7e8\",\"#e377c2\",\"#ff9896\",\"#ff9896\",\"#aec7e8\",\"#98df8a\",\"#1f77b4\",\"#c7c7c7\",\"#17becf\",\"#7f7f7f\",\"#7f7f7f\",\"#ff7f0e\",\"#c49c94\",\"#1f77b4\",\"#7f7f7f\",\"#f7b6d2\",\"#7f7f7f\",\"#d62728\",\"#e377c2\",\"#dbdb8d\",\"#aec7e8\",\"#9edae5\",\"#bcbd22\",\"#c5b0d5\",\"#bcbd22\",\"#e377c2\",\"#ff9896\",\"#ff9896\",\"#9467bd\",\"#ff9896\",\"#c5b0d5\",\"#d62728\",\"#98df8a\",\"#c7c7c7\",\"#9467bd\",\"#ffbb78\",\"#ff9896\",\"#f7b6d2\",\"#98df8a\",\"#e377c2\",\"#9467bd\",\"#c7c7c7\",\"#c5b0d5\",\"#ffbb78\",\"#ff7f0e\",\"#d62728\",\"#ffbb78\",\"#dbdb8d\",\"#c5b0d5\",\"#1f77b4\",\"#c7c7c7\",\"#c5b0d5\",\"#98df8a\",\"#ff9896\",\"#17becf\",\"#c5b0d5\",\"#ff9896\",\"#9467bd\",\"#17becf\",\"#e377c2\",\"#aec7e8\",\"#bcbd22\",\"#ff7f0e\",\"#98df8a\",\"#f7b6d2\",\"#e377c2\",\"#c49c94\",\"#17becf\",\"#c49c94\",\"#ff9896\",\"#8c564b\",\"#ff7f0e\",\"#2ca02c\",\"#e377c2\",\"#c5b0d5\",\"#98df8a\",\"#bcbd22\",\"#17becf\",\"#aec7e8\",\"#e377c2\",\"#7f7f7f\",\"#98df8a\",\"#c7c7c7\",\"#ff7f0e\",\"#bcbd22\",\"#aec7e8\",\"#ff7f0e\",\"#c7c7c7\",\"#c49c94\",\"#f7b6d2\",\"#e377c2\",\"#bcbd22\",\"#ff7f0e\",\"#f7b6d2\",\"#2ca02c\",\"#9467bd\",\"#1f77b4\",\"#ff9896\",\"#1f77b4\",\"#c49c94\",\"#c7c7c7\",\"#c5b0d5\",\"#ff7f0e\",\"#17becf\",\"#1f77b4\",\"#ff7f0e\",\"#ff9896\",\"#bcbd22\",\"#ff9896\",\"#ff7f0e\",\"#c5b0d5\",\"#17becf\",\"#1f77b4\",\"#7f7f7f\",\"#17becf\",\"#17becf\",\"#ffbb78\",\"#e377c2\",\"#d62728\",\"#9edae5\",\"#ff9896\",\"#9467bd\",\"#1f77b4\",\"#f7b6d2\",\"#d62728\",\"#f7b6d2\",\"#ffbb78\",\"#17becf\",\"#1f77b4\",\"#ff9896\",\"#7f7f7f\",\"#9467bd\",\"#1f77b4\",\"#f7b6d2\",\"#bcbd22\",\"#2ca02c\",\"#c7c7c7\",\"#e377c2\",\"#ffbb78\",\"#bcbd22\",\"#dbdb8d\",\"#ff7f0e\",\"#17becf\",\"#ff9896\",\"#d62728\",\"#e377c2\",\"#1f77b4\",\"#1f77b4\",\"#17becf\",\"#c5b0d5\",\"#1f77b4\",\"#7f7f7f\",\"#aec7e8\",\"#9467bd\",\"#e377c2\",\"#7f7f7f\",\"#ffbb78\",\"#1f77b4\",\"#e377c2\",\"#f7b6d2\",\"#1f77b4\",\"#17becf\",\"#1f77b4\",\"#17becf\",\"#bcbd22\",\"#bcbd22\",\"#1f77b4\",\"#bcbd22\",\"#e377c2\",\"#c5b0d5\",\"#17becf\",\"#e377c2\",\"#7f7f7f\",\"#c7c7c7\",\"#1f77b4\",\"#17becf\",\"#f7b6d2\",\"#1f77b4\",\"#e377c2\",\"#d62728\",\"#bcbd22\",\"#2ca02c\",\"#7f7f7f\",\"#d62728\",\"#c7c7c7\",\"#7f7f7f\",\"#ff9896\",\"#1f77b4\",\"#17becf\",\"#c5b0d5\",\"#dbdb8d\",\"#bcbd22\",\"#98df8a\",\"#ffbb78\",\"#e377c2\",\"#9467bd\",\"#17becf\",\"#ffbb78\",\"#e377c2\",\"#ff9896\",\"#9467bd\",\"#17becf\",\"#1f77b4\",\"#9467bd\",\"#aec7e8\",\"#aec7e8\",\"#ff7f0e\",\"#e377c2\",\"#bcbd22\",\"#ff7f0e\",\"#ff9896\",\"#17becf\",\"#ffbb78\",\"#9467bd\",\"#7f7f7f\",\"#bcbd22\",\"#ff9896\",\"#c7c7c7\",\"#1f77b4\",\"#1f77b4\",\"#17becf\",\"#2ca02c\",\"#9467bd\",\"#1f77b4\",\"#aec7e8\",\"#9467bd\",\"#bcbd22\",\"#98df8a\",\"#e377c2\",\"#dbdb8d\",\"#17becf\",\"#17becf\",\"#1f77b4\",\"#d62728\",\"#1f77b4\",\"#1f77b4\",\"#ff9896\",\"#9edae5\",\"#aec7e8\",\"#bcbd22\",\"#e377c2\",\"#9467bd\",\"#17becf\",\"#9edae5\",\"#1f77b4\",\"#c5b0d5\",\"#bcbd22\",\"#bcbd22\",\"#c5b0d5\",\"#bcbd22\",\"#17becf\",\"#c5b0d5\",\"#ff9896\",\"#17becf\",\"#17becf\",\"#17becf\",\"#c7c7c7\",\"#7f7f7f\",\"#17becf\",\"#7f7f7f\",\"#ff9896\",\"#e377c2\",\"#17becf\",\"#f7b6d2\",\"#17becf\",\"#c7c7c7\",\"#e377c2\",\"#bcbd22\",\"#bcbd22\",\"#aec7e8\",\"#bcbd22\",\"#dbdb8d\",\"#1f77b4\",\"#e377c2\",\"#e377c2\",\"#ff7f0e\",\"#7f7f7f\",\"#c5b0d5\",\"#7f7f7f\",\"#ff9896\",\"#17becf\",\"#bcbd22\",\"#1f77b4\",\"#17becf\",\"#c7c7c7\",\"#dbdb8d\",\"#ff9896\",\"#d62728\",\"#17becf\",\"#1f77b4\",\"#7f7f7f\",\"#ff9896\",\"#1f77b4\",\"#1f77b4\",\"#ff9896\",\"#98df8a\",\"#f7b6d2\",\"#1f77b4\",\"#2ca02c\",\"#ff9896\",\"#e377c2\",\"#d62728\",\"#ff7f0e\",\"#17becf\",\"#c5b0d5\",\"#aec7e8\",\"#ff9896\",\"#d62728\",\"#1f77b4\",\"#17becf\",\"#9467bd\",\"#ffbb78\",\"#bcbd22\",\"#c5b0d5\",\"#2ca02c\",\"#f7b6d2\",\"#1f77b4\",\"#e377c2\",\"#17becf\",\"#bcbd22\",\"#f7b6d2\",\"#7f7f7f\",\"#ff9896\",\"#ff9896\",\"#8c564b\",\"#c5b0d5\",\"#17becf\",\"#c7c7c7\",\"#aec7e8\",\"#17becf\",\"#c49c94\",\"#7f7f7f\",\"#9edae5\",\"#dbdb8d\",\"#17becf\",\"#1f77b4\",\"#bcbd22\",\"#1f77b4\",\"#98df8a\",\"#dbdb8d\",\"#e377c2\",\"#c5b0d5\",\"#ff9896\",\"#ff9896\",\"#98df8a\",\"#1f77b4\",\"#1f77b4\",\"#1f77b4\",\"#17becf\",\"#1f77b4\",\"#17becf\",\"#d62728\",\"#aec7e8\",\"#9467bd\",\"#7f7f7f\",\"#17becf\",\"#9edae5\",\"#17becf\",\"#2ca02c\",\"#ffbb78\",\"#ff9896\",\"#c7c7c7\",\"#9edae5\",\"#d62728\",\"#dbdb8d\",\"#aec7e8\",\"#98df8a\",\"#1f77b4\",\"#ffbb78\",\"#17becf\",\"#98df8a\",\"#9467bd\",\"#ffbb78\",\"#1f77b4\",\"#ff7f0e\",\"#ff9896\",\"#c5b0d5\",\"#98df8a\",\"#e377c2\",\"#1f77b4\",\"#c5b0d5\",\"#e377c2\",\"#17becf\",\"#c7c7c7\",\"#bcbd22\",\"#d62728\",\"#aec7e8\",\"#1f77b4\",\"#9467bd\",\"#c7c7c7\",\"#9467bd\",\"#7f7f7f\",\"#ff9896\",\"#98df8a\",\"#aec7e8\",\"#c5b0d5\",\"#bcbd22\",\"#7f7f7f\",\"#f7b6d2\",\"#d62728\",\"#98df8a\",\"#ff9896\",\"#c7c7c7\",\"#1f77b4\",\"#98df8a\",\"#9467bd\",\"#bcbd22\",\"#dbdb8d\",\"#c7c7c7\",\"#9467bd\",\"#17becf\",\"#ff9896\",\"#1f77b4\",\"#ff9896\",\"#17becf\",\"#9467bd\",\"#1f77b4\",\"#c7c7c7\",\"#e377c2\",\"#ff9896\",\"#ff7f0e\",\"#e377c2\",\"#aec7e8\",\"#ff9896\",\"#ff9896\",\"#9467bd\",\"#98df8a\",\"#1f77b4\",\"#1f77b4\",\"#aec7e8\",\"#8c564b\",\"#1f77b4\",\"#d62728\",\"#9467bd\",\"#dbdb8d\",\"#9edae5\",\"#f7b6d2\",\"#17becf\",\"#e377c2\",\"#9467bd\",\"#7f7f7f\",\"#e377c2\",\"#ff9896\",\"#98df8a\",\"#9467bd\",\"#17becf\",\"#d62728\",\"#aec7e8\",\"#17becf\",\"#f7b6d2\",\"#98df8a\",\"#ff9896\",\"#bcbd22\",\"#f7b6d2\",\"#9edae5\",\"#1f77b4\",\"#ff9896\",\"#d62728\",\"#17becf\",\"#c7c7c7\",\"#9467bd\",\"#7f7f7f\",\"#bcbd22\",\"#9467bd\",\"#d62728\",\"#17becf\",\"#d62728\",\"#ff9896\"],\"names\":[\"the\",\"of\",\"and\",\"in\",\"to\",\"a\",\"was\",\"s\",\"on\",\"as\",\"for\",\"that\",\"with\",\"by\",\"is\",\"his\",\"at\",\"he\",\"from\",\"it\",\"were\",\"an\",\"had\",\"which\",\"be\",\"this\",\"but\",\"are\",\"first\",\"not\",\"their\",\"after\",\"one\",\"her\",\"also\",\"its\",\"they\",\"two\",\"or\",\"have\",\"who\",\"new\",\"been\",\"has\",\"she\",\"when\",\"time\",\"during\",\"other\",\"would\",\"into\",\"all\",\"i\",\"more\",\"while\",\"over\",\"him\",\"game\",\"only\",\"later\",\"up\",\"most\",\"three\",\"about\",\"out\",\"between\",\"th\",\"than\",\"there\",\"some\",\"film\",\"may\",\"before\",\"year\",\"made\",\"no\",\"such\",\"second\",\"season\",\"where\",\"world\",\"war\",\"years\",\"both\",\"then\",\"however\",\"used\",\"being\",\"through\",\"them\",\"song\",\"these\",\"series\",\"against\",\"m\",\"album\",\"many\",\"team\",\"city\",\"part\",\"north\",\"became\",\"number\",\"including\",\"can\",\"several\",\"united\",\"well\",\"four\",\"early\",\"under\",\"state\",\"south\",\"music\",\"day\",\"so\",\"episode\",\"following\",\"said\",\"states\",\"known\",\"although\",\"american\",\"could\",\"did\",\"work\",\"began\",\"until\",\"because\",\"released\",\"like\",\"t\",\"called\",\"high\",\"people\",\"end\",\"british\",\"since\",\"around\",\"long\",\"each\",\"national\",\"life\",\"if\",\"found\",\"best\",\"september\",\"same\",\"west\",\"us\",\"million\",\"back\",\"along\",\"another\",\"five\",\"show\",\"took\",\"use\",\"you\",\"km\",\"any\",\"area\",\"final\",\"group\",\"off\",\"august\",\"century\",\"received\",\"october\",\"school\",\"due\",\"john\",\"what\",\"will\",\"line\",\"government\",\"june\",\"east\",\"system\",\"single\",\"march\",\"july\",\"home\",\"november\",\"games\",\"third\",\"much\",\"general\",\"april\",\"large\",\"set\",\"down\",\"major\",\"left\",\"based\",\"family\",\"york\",\"house\",\"place\",\"just\",\"we\",\"company\",\"army\",\"history\",\"december\",\"road\",\"played\",\"included\",\"name\",\"six\",\"king\",\"january\",\"band\",\"character\",\"now\",\"wrote\",\"won\",\"according\",\"led\",\"main\",\"within\",\"last\",\"own\",\"near\",\"described\",\"d\",\"those\",\"times\",\"men\",\"death\",\"river\",\"video\",\"named\",\"next\",\"st\",\"air\",\"battle\",\"de\",\"release\",\"record\",\"late\",\"still\",\"make\",\"original\",\"top\",\"league\",\"way\",\"very\",\"ship\",\"species\",\"even\",\"great\",\"production\",\"man\",\"force\",\"route\",\"club\",\"small\",\"storm\",\"u\",\"old\",\"public\",\"february\",\"again\",\"though\",\"built\",\"days\",\"held\",\"play\",\"among\",\"university\",\"further\",\"do\",\"role\",\"service\",\"b\",\"division\",\"book\",\"french\",\"german\",\"side\",\"members\",\"story\",\"having\",\"white\",\"power\",\"match\",\"point\",\"player\",\"water\",\"often\",\"h\",\"order\",\"career\",\"continued\",\"former\",\"park\",\"local\",\"black\",\"without\",\"came\",\"town\",\"despite\",\"england\",\"considered\",\"take\",\"party\",\"half\",\"island\",\"few\",\"county\",\"support\",\"form\",\"songs\",\"development\",\"version\",\"moved\",\"written\",\"period\",\"military\",\"different\",\"c\",\"become\",\"english\",\"lost\",\"forces\",\"building\",\"given\",\"court\",\"tropical\",\"president\",\"ii\",\"country\",\"little\",\"london\",\"international\",\"re\",\"my\",\"church\",\"gave\",\"performance\",\"similar\",\"lead\",\"tour\",\"attack\",\"street\",\"n\",\"never\",\"returned\",\"track\",\"using\",\"published\",\"royal\",\"produced\",\"short\",\"went\",\"position\",\"class\",\"recorded\",\"children\",\"television\",\"stated\",\"land\",\"aircraft\",\"highway\",\"total\",\"western\",\"run\",\"ships\",\"good\",\"live\",\"making\",\"how\",\"control\",\"include\",\"father\",\"week\",\"star\",\"per\",\"women\",\"fire\",\"throughout\",\"upon\",\"right\",\"once\",\"love\",\"himself\",\"australia\",\"head\",\"me\",\"less\",\"characters\",\"central\",\"design\",\"age\",\"players\",\"light\",\"instead\",\"young\",\"title\",\"away\",\"writing\",\"seven\",\"rock\",\"across\",\"months\",\"remained\",\"red\",\"r\",\"ten\",\"return\",\"sea\",\"developed\",\"station\",\"previous\",\"result\",\"ft\",\"political\",\"night\",\"law\",\"died\",\"southern\",\"eight\",\"e\",\"hurricane\",\"james\",\"low\",\"center\",\"too\",\"reported\",\"office\",\"areas\",\"felt\",\"noted\",\"various\",\"eventually\",\"william\",\"race\",\"america\",\"style\",\"announced\",\"created\",\"son\",\"field\",\"reached\",\"miles\",\"win\",\"act\",\"college\",\"construction\",\"should\",\"award\",\"sent\",\"japanese\",\"seen\",\"together\",\"followed\",\"performed\",\"served\",\"member\",\"full\",\"northern\",\"range\",\"level\",\"common\",\"able\",\"killed\",\"taken\",\"campaign\",\"mm\",\"works\",\"points\",\"action\",\"established\",\"chart\",\"originally\",\"born\",\"success\",\"body\",\"george\",\"others\",\"front\",\"appeared\",\"thought\",\"australian\",\"modern\",\"features\",\"located\",\"project\",\"post\",\"special\",\"playing\",\"get\",\"started\",\"stage\",\"football\",\"caused\",\"addition\",\"bridge\",\"critics\",\"feet\",\"rather\",\"present\",\"fourth\",\"decided\",\"behind\",\"site\",\"formed\",\"added\",\"heavy\",\"sold\",\"o\",\"f\",\"every\",\"championship\",\"go\",\"popular\",\"director\",\"strong\",\"saw\",\"see\",\"completed\",\"damage\",\"population\",\"almost\",\"command\",\"important\",\"close\",\"soon\",\"fleet\",\"initially\",\"open\",\"eastern\",\"david\",\"art\",\"awards\",\"kingdom\",\"opened\",\"non\",\"guns\",\"case\",\"ground\",\"region\",\"leading\",\"weeks\",\"free\",\"coast\",\"worked\",\"mi\",\"working\",\"l\",\"mother\",\"france\",\"towards\",\"hall\",\"event\",\"union\",\"michael\",\"recording\",\"scene\",\"ever\",\"sound\",\"scored\",\"help\",\"provided\",\"training\",\"least\",\"wanted\",\"records\",\"brought\",\"featured\",\"henry\",\"either\",\"navy\",\"cup\",\"allowed\",\"average\",\"put\",\"does\",\"wife\",\"victory\",\"generally\",\"troops\",\"hit\",\"placed\",\"studio\",\"events\",\"runs\",\"magazine\",\"far\",\"example\",\"washington\",\"europe\",\"council\",\"mid\",\"designed\",\"joined\",\"co\",\"summer\",\"human\",\"hours\",\"list\",\"nine\",\"opening\",\"believed\",\"robert\",\"start\",\"replaced\",\"official\",\"media\",\"japan\",\"al\",\"base\",\"involved\",\"squadron\",\"earlier\",\"police\",\"european\",\"rest\",\"operation\",\"minutes\",\"finished\",\"brown\",\"society\",\"successful\",\"met\",\"saying\",\"possible\",\"x\",\"radio\",\"significant\",\"month\",\"crew\",\"shot\",\"highest\",\"particularly\",\"big\",\"largest\",\"review\",\"association\",\"films\",\"beginning\",\"test\",\"process\",\"available\",\"mph\",\"change\",\"research\",\"forced\",\"captain\",\"taking\",\"outside\",\"cast\",\"better\",\"increased\",\"turned\",\"come\",\"ended\",\"must\",\"social\",\"stone\",\"reviews\",\"section\",\"real\",\"lower\",\"passed\",\"community\",\"praised\",\"units\",\"san\",\"going\",\"business\",\"relationship\",\"middle\",\"future\",\"appearance\",\"move\",\"charles\",\"above\",\"thus\",\"space\",\"goal\",\"additional\",\"hill\",\"canada\",\"enough\",\"chief\",\"winds\",\"ordered\",\"previously\",\"thomas\",\"signed\",\"cross\",\"elements\",\"gold\",\"rights\",\"board\",\"program\",\"positive\",\"staff\",\"california\",\"round\",\"parts\",\"g\",\"lake\",\"infantry\",\"critical\",\"interest\",\"spent\",\"female\",\"don\",\"give\",\"plan\",\"told\",\"castle\",\"find\",\"gun\",\"lines\",\"musical\",\"overall\",\"type\",\"attempt\",\"brother\",\"committee\",\"directed\",\"failed\",\"paul\",\"money\",\"groups\",\"required\",\"v\",\"news\",\"hand\",\"evidence\",\"itself\",\"sometimes\",\"india\",\"germany\",\"prior\",\"grand\",\"district\",\"entire\",\"cover\",\"term\",\"asked\",\"personal\",\"port\",\"election\",\"reception\",\"battalion\",\"whose\",\"room\",\"study\",\"claimed\",\"already\",\"complete\",\"uk\",\"our\",\"bill\",\"introduced\",\"smith\",\"whom\",\"plot\",\"background\",\"square\",\"turn\",\"green\",\"usually\",\"novel\",\"past\",\"indian\",\"students\",\"p\",\"person\",\"idea\",\"quickly\",\"limited\",\"score\",\"education\",\"governor\",\"loss\",\"press\",\"effects\",\"speed\",\"stars\",\"response\",\"movement\",\"issue\",\"flight\",\"surface\",\"food\",\"ny\",\"debut\",\"k\",\"especially\",\"arrived\",\"anti\",\"commander\",\"peter\",\"minister\",\"decision\",\"britain\",\"services\",\"woman\",\"blue\",\"la\",\"mark\",\"fifth\",\"village\",\"teams\",\"bay\",\"shows\",\"structure\",\"department\",\"larger\",\"industry\",\"operations\",\"queen\",\"episodes\",\"becoming\",\"science\",\"earth\",\"centre\",\"voice\",\"length\",\"remaining\",\"material\",\"carried\",\"defeated\",\"living\",\"estimated\",\"writer\",\"richard\",\"cut\",\"latter\",\"pressure\",\"car\",\"civil\",\"scenes\",\"leaving\",\"commercial\",\"changes\",\"god\",\"might\",\"virginia\",\"running\",\"suggested\",\"entered\",\"nearly\",\"los\",\"influence\",\"report\",\"appointed\",\"depression\",\"date\",\"pop\",\"approximately\",\"winning\",\"language\",\"naval\",\"empire\",\"view\",\"shortly\",\"islands\",\"finally\",\"child\",\"self\",\"today\",\"network\",\"dark\",\"proposed\",\"daughter\",\"leader\",\"course\",\"tracks\",\"hot\",\"destroyed\",\"higher\",\"percent\",\"wide\",\"experience\",\"current\",\"size\",\"provide\",\"spanish\",\"fact\",\"railway\",\"nature\",\"subsequently\",\"lack\",\"compared\",\"intended\",\"producer\",\"brigade\",\"immediately\",\"face\",\"married\",\"soviet\",\"supported\",\"regular\",\"agreed\",\"cost\",\"awarded\",\"whether\",\"helped\",\"natural\",\"nd\",\"fans\",\"contract\",\"planned\",\"manager\",\"related\",\"professional\",\"chicago\",\"health\",\"officer\",\"museum\",\"create\",\"chinese\",\"upper\",\"longer\",\"soldiers\",\"your\",\"fort\",\"guitar\",\"done\",\"trade\",\"ball\",\"plans\",\"buildings\",\"captured\",\"appear\",\"changed\",\"jackson\",\"corps\",\"private\",\"associated\",\"yet\",\"federal\",\"friends\",\"officers\",\"something\",\"effect\",\"feature\",\"mostly\",\"singles\",\"remains\",\"themselves\",\"cm\",\"regiment\",\"edward\",\"billboard\",\"initial\",\"lord\",\"countries\",\"lyrics\",\"books\",\"probably\",\"extended\",\"mixed\",\"key\",\"pacific\",\"numerous\",\"minor\",\"moving\",\"really\",\"friend\",\"forward\",\"got\",\"information\",\"johnson\",\"always\",\"location\",\"j\",\"copies\",\"issued\",\"difficult\",\"energy\",\"leave\",\"atlantic\",\"status\",\"ran\",\"includes\",\"singer\",\"conference\",\"suffered\",\"via\",\"christian\",\"dance\",\"pass\",\"problems\",\"unit\",\"likely\",\"florida\",\"meeting\",\"dead\",\"know\",\"increase\",\"fight\",\"edition\"],\"x1\":{\"__ndarray__\":\"gR0Gv0J/3T94iaE+m4eYQMZyKMC3OhjASxHewdLdrsHezWVAOOzXv5wXGEBe8w/BbYm9P3Fsq0Ao8t3BReOfwd2WKEF8XGjBA7uOQEKKFMGlidTBcn4pwEVrV8HnIcrAmDlzwQUCBcEp1PzAOqHUwfSOlUBQDvjA4YeSwcODuT9t0vm+mDegwZ88b8C51g8+yQF4wWK0nsFUxgnBoMxrwZ7q4cGQsN9AhpaAwSFPWsGLWGjBeOVqwB8plEE3Y3xAI82NwZAVYML/o9ZAK/hxwTefhsFDBk/Bv72VPZ2G/0BK/JPBROTOQaXqxsCbOgQ/6aUZQaaGBsEzCqTBBtQGQTciDkG0p8dAXj4IQemEHsEDlvnAgviFwe8TR8Dk0lvCNaa+P+WgtkFdnhrCg04AwYGpb8GwwrBA/sixQWtynMCevgJCh+0EQlu20UEDpHjBSegGPtID5cDV10jCfAlnwTb55EAUt4vBwAsawcw2hsHCiWXA/zEAwpwrqEG6HiXB3dWIwQ0bwkHQQPBB/E66wZrK7kEBFw/CSoKowWKx9cG/mmbCEBaTwQwmKUIl8G3BYKunwdCgQkGMdL1A2a/ZQU487UFdeBbBHKurQbMvQMF5blvAv4vjPwA5YsKQsCtC7mhMwsGE4MD+9B5CYw5jwkUxZcIWTwLAzAgXwtzMAEANI/3AgyYgwiYqZcG39GnBYIFJwm/c30ChPWdBxMhZQZJXJUIWBorATH0GQWOh3cAVaCvAM7wGQo0LnsAv3hrBxSxQwimeJ0DwjYVBvzr1v2VM40FEmvNBeHSXwbKV60DoAxdBOEgWwPrXpsG+Q4zABCAXwj0MVMG5CIHBAM7fQTfXAMFbB/RBQzlWQDpnjUGXkgNBr/mLQZ/bVEH+pD3C5kd8QZECpkFE6rvA/vhIQWyGMsEPRGTCbhTMQUReyEG35YtBxqbkQebAh0CQKsbAbheAQeErhkEdPYNBm5p/QZ7IzkGB9KBAzYFHwbf300FCt4dBujuTQMAWL8JwgQVBhkHMv7PGC8LMaRTB0aoAQbvWBEJlBcFBj9laQTnOQcFS14DB+LOHQQVyMUJrCaLAcg+CQYAGAkLoLBTCPEMVwku5icFUPp7BPNhaQYSAdEF5tDDB3fVAP1rCpcCU4WHCDU0AwkAnO8JzlSHC5Y+CQGoE1kD3Z2ZANKpIQBA8IUGeJFPCWoWCQYLugcG/YJrAiTE8QvGn1kBrtwlCOyGjwJGGRsJUNT1AqgQQQR2IFkL2RghCRhepQXS6TcG36Y1B2g9LQUiKvsAXoPDB/GbwP+y0bkAjoMtBV96bwXdPOMEYhyRCsV4cQNq4HcEQlSbBelxmP3DkK0GWHC5Cm/4EQrfwv0F/a5FAOEU9QiSO8EGimtO/H0d6Qa7LcUHbHZc/9qXnwAUtOsKqHtFBVEUywmSDycHTBTLAqmqrQQ19yb8d283BJAINQBXmBUKCD5lBzJMpQhmz3r/bNihCUJEjQvuGoEHJl8VBbzQWv42oW8GY3A5B+oFlQaEdmkEY1JlBnuzIQXx5e0H4ldjAvpeiQb+pocHU5wXB515bwtb3NEEW+t1BcauGQfcJC0Ez53g/82cgwu5u70FaWr/AXZgQQuMDT8LxSvbBRsyZQclLBEEALhlCx/WewVwC6kFWfanBkfutPyN/CsEFaak/9ZA4wQc6I8IW5ijC96+ZQWasH0K3HpbBZ7eQQbcVC8IxQy5CwskJwsJkMUJXtMRBmZk5whJJkEGX80FCpoPbQclPa0G76AJCT081wSHhD0Lz+gZCcki+P54wlsFt+bFB1O87wt0sG8EpuAHBB/O1wTold0Hk9xFC5Pv3QR3bnEHa6uDApJQewkh4AMFN30/B9HknwmKcJ0JZxSjCdVLdwPwYI8KvFVJB5hadQDt7IcJ9KFNB71wOvyAVYMLrYelB4rAbQhHQBkLJhpbBgFvjQa996cHq1iNC6hA2wcYm4sCjsBjCl9U1wfC+ZEF3+/nB7bsHQTdfskG+pIDBgfmBwXiTYEGlQhVCeRiUQAQiRkAOupvBwAMQwFXngsH7RJXBrh4TQoDol0CD3YDBVxxOwbvxHz/4s9xBxG1KPz+og0Fi/MRBuygCQUEW2756VhxBJU2JwbPg8UD9A3hAuxOhwYo0NsG3YgFBS4LRQWy2C8K0DfVApkucQZsIqMGjV8/BU+gWQo9KMcI9vNZBBtlXv/qLucFOjMBBzsBbQYGipUGUjIBBJKQowmJb6EEHf5nB3D+MQZUUPkKxqUdBRdffQNRhzUGIXTzBCChZwurWrEGFe/FB30VewsupWsKfHpLB+l08v32ZY0HSdY9BcOkbQj5/rsBso2PCWQUzwsikFkGrf65BjfofwpMr3UEcr+fButxlQVGMqEH/F8RBiJ9gwn4nx78WIjXCga8kQlzdSMIORhpB9wYlwqU3HsLZHhXCLJjOQULrer5UX+lBzdqsQa8Yk0HMI8bAh0ZOwrQBMMJ9fTHCaegJQu1dpUHzfgHAB+qdQY7SMEHJNDfCkPPFwEldP8AVNSvCrs32wAWQakCEXFRBaIZ+wWYLpUFfMhjCBmdUwg1oHUJdrLvACQQPwsOOOsJwFy5AeiqlQUqZUT8DLMnBNjLmwSSRFcLIdHdBWDy+QdE4IMLSDy7BB3gCQrX7ML47esBBNiJPwbWB1cDnh6BAfnFZwrca9kBtMdZBb+01wtq3McJ5J1PAooQpwig3jUGaZY9BMt4owFiBqUG43ePBCAaxwNIu2UDZv0fAFY4WwqTh2sEZLSfCNardwaC+AEK+hN1Ar0M6QqpbcsBOzsNAM/8yvwQ7JkIISyLA1PWoQMGP40H6AjRB/yoIwW7Hyb8FuCtC4bMlwqMImMC0XRlCu2Xbvxbsq0HgAfdB9Jb6wV2UzEEbJnxAB5cdQq42EsJ4xt1BKmvwwIaEk0Gwbw1B1EQSQsH8/EAjgclBlQ+MQVuzqUHvwyJBJYdDwbBxx76yVc/AbaL6wNzZAMLmTavBcXo6wi/JDUIWKMLAIqldwoT3jUED4SzCmz4XwlIJa0GmpvLAOZ8hQqBmqkENFE7CnJKIwbgHLcIxkWbCIAUbQQYx5MGKq7jAWy80Qipk+sEyFDbC6HdJwZk/ikGQTObB+zBRQDNiVMG4NbTAOvIGQpkgDkK8OcNBAO9QQbuvRsLg9xrC8coeQVJEnUGiWGG/ZhrUQc5ks8Ff2J3By7EUQLHjVcLgB0ZBKdNlQfL+KsIMe/9BOd4kQNlmC0IQOihBf6C6QQlfBsJWWSZCkGZPv18gPkJIFRhCl56IQMHNDkKUIdZBQ7YOwm7uG0H+YaJBJHWmwEnfGMI9pGfCZvIcwWySeUEJfF29TR8XwDCttUEm+i5C6VX9wa4WuMHsJd/AnYxTwUIRuMHmrArBVCemQfHGPMDpimtBixAJQjCvHkAvmRvBmtsyQkOiwsHSntU/RlVSwq1P40FCNBXCaT3xQPfBv78r9z3BcLLVwSu+J8KGTurBCzMSwk2HYsLK7VpBhhgjwS3VIsHWr8tBPu2sP7d/9UBaTybCE/KeQQkcWcIoTRpCQjAUQv0zJcL48I5BTkvoQHZsYUFaqiRA48wlwawr3cGGxWBBEMwPQTtK+77y15JBSczZwXgXJ0DL7u1B7cQHQnDZQMHWiNhB6g44QscGVMIpoIjAZJpWQYzTHsIBWOVAj/YSwDhNy0CFlzdB457JQVuWbEDabTHB6v0yQlZiDkI+SlJBVYwAwHEGkkE2LApCxvgsQmTqKcE7VcDAxMYQwiSZHEFKY/tAjJLywfNG5cHO1GPCGA/hQezC5MEvZBhCNB3KQWhhE8HUy5c/kw8+QJvCocHYRQxBPbHEQabsLMImqF3CNSsuQaQtncHI04dBHCBMwv6dgEFe4fA/gKKjwb1TOcBXi0e/71jbwNnJFkKeARFCVXofQOxg5kFkZudBZI1qQNKm7sCdR6FBoVddwtuGAUDMqRJCTsGeQe1+IcHnYyhCVQG0wYHWvEGvcMo/JmdawnJMlMCcI3a+Yw0HQpRRj8GN5FdBHvUxwhzCLUFm6OHBYl6lvu4DnMBrJHDBuPHYwTkVCUHQTsrAu+C9vyYZO0CGFB9C+Od6QWsgj0GYaDNBxKYiwI7chr+joYe/hxHRwRtPlUGPyt1BSHzjwfsOKUDD7qzBWBaXQXyRgMFCqirB5hGYQVEAbb/4jRZCw6+NQdmzbUGdQAZC3Ow4wSKAl0F6z9bA/KoZwlRt80Efk+RBgNApQUEY2UExo9jBBEQRQjcrBULIUi1BX+v8QBSypUGNeh1Bl2CuQN3+7kGOU8RBDksTQhD+ncCGJO4/A2rTQRRbzECVi45BJrsPQje4WUE841PA8akPwia4IECNk45BlPrMQT9S28DEuZ1BmdW6QNAwd8DJ2C7CQaIGwvpB3cBa4VnCsOqVQFC5T0FqV/jBOlyIP+DJiUFd9rVBi04eQm5Qxr4JKgvCjliGQTBvwcECIILB0XVewtOKDUJH6e/BviNbwjyiHcIzkuBAVdMNQtQdoMELf+HAC5k8woUoPkLexnZBo30vwSeuh8HTZfvBIMAyQuCJIEJk6A9C6AaOwMJxRL7JLBpCjBFJPjPKMUH3dYU/n6ujwAqJk0D2igJB12JBwi2EHkFYh9VBmLdkQcEwAcHnnerAomYxwnGY60BfWpHBofNnQLblrcCf0QBAoIueQWTb98EIDypCvV4cwHit2kHblkfAL5I2v5cIY8AIHjnCdplPworUwkA+oSlC/0q6PKAlqMEU5SrC+VwdQoZROsLhISw/4Y1ZwuaIkcHxwzzCvtQlwa6/XcJQKKS/5OMJQcSzukHvVQLCdkJQwtH3AkFO1gvBadG7QZVxCULP+pFBwLTnQRxTwEEcN/PBf2wlQkNvCkEhpUbByEg5QrXbk8FYD/9Bb28FwZWoRsItVpZBOOLIQPHg5cHzKsVBF00wwrbmCcHmAjDCPNoeQfgFL0IqX4NBSgUXwZyzG8GioNZBbtUzQctuOUJzMVbBaGqqwQEC9MBHIKDAmL3owF2su8AfH4jBLFGlQUuvKULqYW1BFtbVwCWi+T+rnYBBdT4JQlCNGcE4Dfm/czvowOp2LMKCPDbB7+Q6v2QAHkItwI/BPXiwv6oX7sF0JFvBgRItQbRE+0AY/B3CMFiewKmTM0FNpS/BIATXQXXDiEF6aXTB3So3wqBOH8FMmGdBNVPQwcGPHULnA0NBc6MewqbHD8J70SfBas6HQd+7EMKDX7hAzfQuQW9eJsEt0uHBx4e8wRZeGUIkEQLB34EOQuk7hkH+oopAf17XwRBb1cGm08jBKFo3wQ==\",\"dtype\":\"float32\",\"shape\":[1000]},\"x2\":{\"__ndarray__\":\"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\",\"dtype\":\"float32\",\"shape\":[1000]}}},\"id\":\"bfa22b17-e40b-4b37-97f1-814ef6b38eb1\",\"type\":\"ColumnDataSource\"},{\"attributes\":{\"callback\":null},\"id\":\"23178808-0554-47e2-a3b9-0887e2eb1344\",\"type\":\"DataRange1d\"},{\"attributes\":{},\"id\":\"839c730d-17f0-4bb1-a54d-1d721a33ad99\",\"type\":\"LinearScale\"},{\"attributes\":{\"callback\":null},\"id\":\"fc9bd992-4a0d-43a3-b6c8-f132e58b31f5\",\"type\":\"DataRange1d\"},{\"attributes\":{\"plot\":{\"id\":\"528a4c51-f887-4b71-a1d9-388ae6e7a19a\",\"subtype\":\"Figure\",\"type\":\"Plot\"},\"source\":{\"id\":\"bfa22b17-e40b-4b37-97f1-814ef6b38eb1\",\"type\":\"ColumnDataSource\"},\"text\":{\"field\":\"names\"},\"text_align\":\"center\",\"text_color\":{\"value\":\"#555555\"},\"text_font_size\":{\"value\":\"8pt\"},\"x\":{\"field\":\"x1\"},\"y\":{\"field\":\"x2\"},\"y_offset\":{\"value\":6}},\"id\":\"6665b357-992e-411c-ae17-0fd43ad50b58\",\"type\":\"LabelSet\"},{\"attributes\":{\"plot\":null,\"text\":\"T-SNE for most common words\"},\"id\":\"b60c7a7d-6a7a-4640-9f27-a47da4bb1a84\",\"type\":\"Title\"},{\"attributes\":{},\"id\":\"f5b20a9d-430a-435b-bf58-bb775b07149b\",\"type\":\"LinearScale\"}],\"root_ids\":[\"528a4c51-f887-4b71-a1d9-388ae6e7a19a\"]},\"title\":\"Bokeh Application\",\"version\":\"0.12.7\"}};\n",
       "            var render_items = [{\"docid\":\"efff86e7-9132-4d31-9a6f-b4a9803d5973\",\"elementid\":\"4a0774d0-3101-4bf7-9833-52b155aba2be\",\"modelid\":\"528a4c51-f887-4b71-a1d9-388ae6e7a19a\"}];\n",
       "            \n",
       "            Bokeh.embed.embed_items(docs_json, render_items);\n",
       "          };\n",
       "          if (document.readyState != \"loading\") fn();\n",
       "          else document.addEventListener(\"DOMContentLoaded\", fn);\n",
       "        })();\n",
       "      },\n",
       "      function(Bokeh) {\n",
       "      }\n",
       "    ];\n",
       "  \n",
       "    function run_inline_js() {\n",
       "      \n",
       "      if ((root.Bokeh !== undefined) || (force === true)) {\n",
       "        for (var i = 0; i < inline_js.length; i++) {\n",
       "          inline_js[i].call(root, root.Bokeh);\n",
       "        }if (force === true) {\n",
       "          display_loaded();\n",
       "        }} else if (Date.now() < root._bokeh_timeout) {\n",
       "        setTimeout(run_inline_js, 100);\n",
       "      } else if (!root._bokeh_failed_load) {\n",
       "        console.log(\"Bokeh: BokehJS failed to load within specified timeout.\");\n",
       "        root._bokeh_failed_load = true;\n",
       "      } else if (force !== true) {\n",
       "        var cell = $(document.getElementById(\"4a0774d0-3101-4bf7-9833-52b155aba2be\")).parents('.cell').data().cell;\n",
       "        cell.output_area.append_execute_result(NB_LOAD_WARNING)\n",
       "      }\n",
       "  \n",
       "    }\n",
       "  \n",
       "    if (root._bokeh_is_loading === 0) {\n",
       "      console.log(\"Bokeh: BokehJS loaded, going straight to plotting\");\n",
       "      run_inline_js();\n",
       "    } else {\n",
       "      load_libs(js_urls, function() {\n",
       "        console.log(\"Bokeh: BokehJS plotting callback run at\", now());\n",
       "        run_inline_js();\n",
       "      });\n",
       "    }\n",
       "  }(window));\n",
       "</script>"
      ]
     },
     "metadata": {},
     "output_type": "display_data"
    }
   ],
   "source": [
    "wiki_top_words = [k for k,v in wiki_counts.most_common(1000)]\n",
    "wiki_top_vecs = wiki_model[wiki_top_words]\n",
    "\n",
    "emb_scatter(wiki_top_vecs, wiki_top_words, N=20)"
   ]
  },
  {
   "cell_type": "markdown",
   "metadata": {},
   "source": [
    "## Nearest vectors with cosine similarity\n",
    "\n",
    "The Gensim implementation has the nice feature that you can query a trained model which word-vectors are nearest to a given word-vector. The distance is measured using the [cosine similarity](https://en.wikipedia.org/wiki/Cosine_similarity). \n",
    "\n",
    "Inspect the difference in quality of the resulting embeddings:"
   ]
  },
  {
   "cell_type": "code",
   "execution_count": 144,
   "metadata": {},
   "outputs": [
    {
     "data": {
      "text/plain": [
       "[('progress', 0.9617605209350586),\n",
       " ('danger', 0.9613274335861206),\n",
       " ('surely', 0.9609348177909851),\n",
       " ('priority', 0.9599844813346863),\n",
       " ('diversion', 0.9583083391189575),\n",
       " ('consistent', 0.9560381770133972),\n",
       " ('cfcs', 0.9550004005432129),\n",
       " ('rooms', 0.9544030427932739),\n",
       " ('delicious', 0.9541617035865784),\n",
       " ('obvious', 0.9538336992263794)]"
      ]
     },
     "execution_count": 144,
     "metadata": {},
     "output_type": "execute_result"
    }
   ],
   "source": [
    "ptb_model.most_similar(\"language\")"
   ]
  },
  {
   "cell_type": "code",
   "execution_count": 145,
   "metadata": {},
   "outputs": [
    {
     "data": {
      "text/plain": [
       "[('culture', 0.6662563681602478),\n",
       " ('english', 0.6344000101089478),\n",
       " ('discipline', 0.6286273002624512),\n",
       " ('nature', 0.616771399974823),\n",
       " ('empathy', 0.6132360100746155),\n",
       " ('mathematics', 0.6067396402359009),\n",
       " ('meaning', 0.6036574840545654),\n",
       " ('logic', 0.603035569190979),\n",
       " ('narrative', 0.5966923832893372),\n",
       " ('creativity', 0.5927315950393677)]"
      ]
     },
     "execution_count": 145,
     "metadata": {},
     "output_type": "execute_result"
    }
   ],
   "source": [
    "ted_model.most_similar(\"language\")"
   ]
  },
  {
   "cell_type": "code",
   "execution_count": 146,
   "metadata": {},
   "outputs": [
    {
     "data": {
      "text/plain": [
       "[('dialect', 0.7908326387405396),\n",
       " ('languages', 0.7729238271713257),\n",
       " ('vocabulary', 0.7686649560928345),\n",
       " ('phonology', 0.7616441249847412),\n",
       " ('syntax', 0.7473596334457397),\n",
       " ('orthography', 0.7317029237747192),\n",
       " ('sundanese', 0.7253890037536621),\n",
       " ('vernacular', 0.7225418090820312),\n",
       " ('colloquial', 0.7171159982681274),\n",
       " ('mandarin', 0.7134953737258911)]"
      ]
     },
     "execution_count": 146,
     "metadata": {},
     "output_type": "execute_result"
    }
   ],
   "source": [
    "wiki_model.most_similar(\"language\")"
   ]
  },
  {
   "cell_type": "markdown",
   "metadata": {},
   "source": [
    "I think the Wiki embeddings seem like the most meaningful. Inspect it some more:"
   ]
  },
  {
   "cell_type": "code",
   "execution_count": 147,
   "metadata": {},
   "outputs": [
    {
     "data": {
      "text/plain": [
       "[('balamb', 0.6359041929244995),\n",
       " ('dumbledore', 0.6249843239784241),\n",
       " ('rosh', 0.607549786567688),\n",
       " ('snape', 0.5927407741546631),\n",
       " ('gonville', 0.5868369340896606),\n",
       " ('caius', 0.5818954110145569),\n",
       " ('katara', 0.5635119676589966),\n",
       " ('dulwich', 0.5569760799407959),\n",
       " ('aang', 0.5506828427314758),\n",
       " ('eton', 0.5477432012557983)]"
      ]
     },
     "execution_count": 147,
     "metadata": {},
     "output_type": "execute_result"
    }
   ],
   "source": [
    "wiki_model.most_similar(\"hogwarts\") # A real univerity?"
   ]
  },
  {
   "cell_type": "code",
   "execution_count": 148,
   "metadata": {},
   "outputs": [
    {
     "data": {
      "text/plain": [
       "[('brussels', 0.8473321199417114),\n",
       " ('paris', 0.8179935812950134),\n",
       " ('copenhagen', 0.8024680614471436),\n",
       " ('rotterdam', 0.8021714687347412),\n",
       " ('stockholm', 0.7587275505065918),\n",
       " ('antwerp', 0.7397375106811523),\n",
       " ('bruges', 0.7171226143836975),\n",
       " ('berlin', 0.7119771838188171),\n",
       " ('vienna', 0.7091464996337891),\n",
       " ('prague', 0.70756995677948)]"
      ]
     },
     "execution_count": 148,
     "metadata": {},
     "output_type": "execute_result"
    }
   ],
   "source": [
    "wiki_model.most_similar(\"amsterdam\")"
   ]
  },
  {
   "cell_type": "code",
   "execution_count": 149,
   "metadata": {},
   "outputs": [
    {
     "data": {
      "text/plain": [
       "[('khrushchev', 0.8586050868034363),\n",
       " ('lenin', 0.8509545922279358),\n",
       " ('hitler', 0.8186794519424438),\n",
       " ('gorbachev', 0.8118611574172974),\n",
       " ('brezhnev', 0.8073111772537231),\n",
       " ('himmler', 0.7880926132202148),\n",
       " ('kosygin', 0.7761569023132324),\n",
       " ('goebbels', 0.773198127746582),\n",
       " ('mussolini', 0.7717257142066956),\n",
       " ('mao', 0.7672331929206848)]"
      ]
     },
     "execution_count": 149,
     "metadata": {},
     "output_type": "execute_result"
    }
   ],
   "source": [
    "wiki_model.most_similar(\"stalin\")"
   ]
  },
  {
   "cell_type": "code",
   "execution_count": 150,
   "metadata": {},
   "outputs": [
    {
     "data": {
      "text/plain": [
       "[('yellowish', 0.9638515710830688),\n",
       " ('grayish', 0.9523113369941711),\n",
       " ('pinkish', 0.9513583183288574),\n",
       " ('brownish', 0.950848400592804),\n",
       " ('greenish', 0.9315527081489563),\n",
       " ('whitish', 0.9270859956741333),\n",
       " ('bluish', 0.9249571561813354),\n",
       " ('greyish', 0.9191488027572632),\n",
       " ('buff', 0.9170758724212646),\n",
       " ('blackish', 0.9139665365219116)]"
      ]
     },
     "execution_count": 150,
     "metadata": {},
     "output_type": "execute_result"
    }
   ],
   "source": [
    "wiki_model.most_similar(\"reddish\")"
   ]
  },
  {
   "cell_type": "markdown",
   "metadata": {},
   "source": [
    "Gensim also provides for vector arithmetic with the embeddings. Let's see if Wikipedia agrees with us that\n",
    "\n",
    "$$king - man + woman \\approx queen$$\n",
    "$$Amsterdam - Netherlands + France \\approx Paris $$"
   ]
  },
  {
   "cell_type": "code",
   "execution_count": 151,
   "metadata": {},
   "outputs": [
    {
     "data": {
      "text/plain": [
       "[('queen', 0.770358145236969),\n",
       " ('monarch', 0.728584885597229),\n",
       " ('empress', 0.7106271982192993),\n",
       " ('tsar', 0.6899988651275635),\n",
       " ('prince', 0.671586275100708),\n",
       " ('isabella', 0.6688051819801331),\n",
       " ('regent', 0.66827392578125),\n",
       " ('dowager', 0.6503204703330994),\n",
       " ('noblewoman', 0.6491597294807434),\n",
       " ('consort', 0.6414600610733032)]"
      ]
     },
     "execution_count": 151,
     "metadata": {},
     "output_type": "execute_result"
    }
   ],
   "source": [
    "wiki_model.most_similar(positive=['woman', 'king'], negative=['man'])"
   ]
  },
  {
   "cell_type": "code",
   "execution_count": 152,
   "metadata": {},
   "outputs": [
    {
     "data": {
      "text/plain": [
       "[('paris', 0.7890597581863403),\n",
       " ('brussels', 0.6972391605377197),\n",
       " ('rotterdam', 0.6772001385688782),\n",
       " ('lisbon', 0.6623631715774536),\n",
       " ('bordeaux', 0.6591888070106506),\n",
       " ('algiers', 0.6387784481048584),\n",
       " ('antwerp', 0.6358806490898132),\n",
       " ('strasbourg', 0.6283596158027649),\n",
       " ('genoa', 0.6240521669387817),\n",
       " ('rouen', 0.6220749616622925)]"
      ]
     },
     "execution_count": 152,
     "metadata": {},
     "output_type": "execute_result"
    }
   ],
   "source": [
    "wiki_model.most_similar(positive=['amsterdam','france'], negative=['netherlands'])"
   ]
  },
  {
   "cell_type": "markdown",
   "metadata": {},
   "source": [
    "Play around with this and let us know about the best ones you find!\n",
    "\n",
    "The funniest ones I found are:"
   ]
  },
  {
   "cell_type": "code",
   "execution_count": 153,
   "metadata": {},
   "outputs": [
    {
     "data": {
      "text/plain": [
       "[('rates', 0.5408843755722046),\n",
       " ('cancer', 0.5374121069908142),\n",
       " ('disease', 0.528205931186676),\n",
       " ('hiv', 0.5195662975311279),\n",
       " ('breast', 0.5132015943527222),\n",
       " ('retirement', 0.5038480162620544),\n",
       " ('malaria', 0.499352365732193),\n",
       " ('males', 0.48933854699134827),\n",
       " ('antibiotics', 0.47545453906059265),\n",
       " ('rate', 0.469136118888855)]"
      ]
     },
     "execution_count": 153,
     "metadata": {},
     "output_type": "execute_result"
    }
   ],
   "source": [
    "ted_model.most_similar(positive=['sex'], negative=['love'])\n",
    "# which reveals that Ted talks are rather prude and moralising. Or realistic? sex - love = disease"
   ]
  },
  {
   "cell_type": "code",
   "execution_count": 154,
   "metadata": {},
   "outputs": [
    {
     "data": {
      "text/plain": [
       "[('meeting', 0.5937921404838562),\n",
       " ('conference', 0.5925645232200623),\n",
       " ('visit', 0.5016125440597534),\n",
       " ('ted', 0.4858279228210449),\n",
       " ('museum', 0.48003435134887695),\n",
       " ('class', 0.46813347935676575),\n",
       " ('university', 0.4609370231628418),\n",
       " ('stage', 0.42508798837661743),\n",
       " ('dinner', 0.42372316122055054),\n",
       " ('night', 0.4102555215358734)]"
      ]
     },
     "execution_count": 154,
     "metadata": {},
     "output_type": "execute_result"
    }
   ],
   "source": [
    "ted_model.most_similar(positive=['party'], negative=['alcohol'])"
   ]
  },
  {
   "cell_type": "markdown",
   "metadata": {},
   "source": [
    "## POS-tag embedding\n",
    "\n",
    "Let's make some POS-tag embeddings! We took a tagged version of the PTB data used above and discarded the words and preserving the order of the POS tags. The rest is exactly the same"
   ]
  },
  {
   "cell_type": "code",
   "execution_count": 36,
   "metadata": {
    "collapsed": true
   },
   "outputs": [],
   "source": [
    "import pickle\n",
    "\n",
    "with open('data/ptb-tagset.pkl', 'rb') as f:\n",
    "    ptb_tags = pickle.load(f)\n",
    "with open('data/ptb-tagseq.pkl', 'rb') as g:\n",
    "    ptb_tagseq = pickle.load(g)"
   ]
  },
  {
   "cell_type": "code",
   "execution_count": 39,
   "metadata": {},
   "outputs": [
    {
     "data": {
      "text/plain": [
       "['NNP', 'POS', 'WRB', 'RBS', 'WDT', 'UH', 'PRP', 'NNS', 'RP', 'EX']"
      ]
     },
     "execution_count": 39,
     "metadata": {},
     "output_type": "execute_result"
    }
   ],
   "source": [
    "ptb_tags[0:10]"
   ]
  },
  {
   "cell_type": "code",
   "execution_count": 40,
   "metadata": {},
   "outputs": [
    {
     "data": {
      "text/plain": [
       "929552"
      ]
     },
     "execution_count": 40,
     "metadata": {},
     "output_type": "execute_result"
    }
   ],
   "source": [
    "# about a million tags\n",
    "len([w for sent in ptb_tagseq for w in sent])"
   ]
  },
  {
   "cell_type": "code",
   "execution_count": 41,
   "metadata": {
    "collapsed": true
   },
   "outputs": [],
   "source": [
    "pos_model = Word2Vec(ptb_tagseq, size=100, window=3, min_count=5, workers=4)"
   ]
  },
  {
   "cell_type": "code",
   "execution_count": 42,
   "metadata": {
    "scrolled": false
   },
   "outputs": [
    {
     "name": "stdout",
     "output_type": "stream",
     "text": [
      "finding clusters\n",
      "fitting tsne\n"
     ]
    },
    {
     "data": {
      "text/html": [
       "\n",
       "\n",
       "    <div class=\"bk-root\">\n",
       "        <div class=\"bk-plotdiv\" id=\"04f58cae-a5b6-48fa-b903-a411af366bdd\"></div>\n",
       "    </div>\n",
       "<script type=\"text/javascript\">\n",
       "  \n",
       "  (function(root) {\n",
       "    function now() {\n",
       "      return new Date();\n",
       "    }\n",
       "  \n",
       "    var force = false;\n",
       "  \n",
       "    if (typeof (root._bokeh_onload_callbacks) === \"undefined\" || force === true) {\n",
       "      root._bokeh_onload_callbacks = [];\n",
       "      root._bokeh_is_loading = undefined;\n",
       "    }\n",
       "  \n",
       "  \n",
       "    \n",
       "    if (typeof (root._bokeh_timeout) === \"undefined\" || force === true) {\n",
       "      root._bokeh_timeout = Date.now() + 0;\n",
       "      root._bokeh_failed_load = false;\n",
       "    }\n",
       "  \n",
       "    var NB_LOAD_WARNING = {'data': {'text/html':\n",
       "       \"<div style='background-color: #fdd'>\\n\"+\n",
       "       \"<p>\\n\"+\n",
       "       \"BokehJS does not appear to have successfully loaded. If loading BokehJS from CDN, this \\n\"+\n",
       "       \"may be due to a slow or bad network connection. Possible fixes:\\n\"+\n",
       "       \"</p>\\n\"+\n",
       "       \"<ul>\\n\"+\n",
       "       \"<li>re-rerun `output_notebook()` to attempt to load from CDN again, or</li>\\n\"+\n",
       "       \"<li>use INLINE resources instead, as so:</li>\\n\"+\n",
       "       \"</ul>\\n\"+\n",
       "       \"<code>\\n\"+\n",
       "       \"from bokeh.resources import INLINE\\n\"+\n",
       "       \"output_notebook(resources=INLINE)\\n\"+\n",
       "       \"</code>\\n\"+\n",
       "       \"</div>\"}};\n",
       "  \n",
       "    function display_loaded() {\n",
       "      if (root.Bokeh !== undefined) {\n",
       "        var el = document.getElementById(\"04f58cae-a5b6-48fa-b903-a411af366bdd\");\n",
       "        if (el != null) {\n",
       "          el.textContent = \"BokehJS \" + Bokeh.version + \" successfully loaded.\";\n",
       "        }\n",
       "      } else if (Date.now() < root._bokeh_timeout) {\n",
       "        setTimeout(display_loaded, 100)\n",
       "      }\n",
       "    }\n",
       "  \n",
       "  \n",
       "    function run_callbacks() {\n",
       "      try {\n",
       "        root._bokeh_onload_callbacks.forEach(function(callback) { callback() });\n",
       "      }\n",
       "      finally {\n",
       "        delete root._bokeh_onload_callbacks\n",
       "      }\n",
       "      console.info(\"Bokeh: all callbacks have finished\");\n",
       "    }\n",
       "  \n",
       "    function load_libs(js_urls, callback) {\n",
       "      root._bokeh_onload_callbacks.push(callback);\n",
       "      if (root._bokeh_is_loading > 0) {\n",
       "        console.log(\"Bokeh: BokehJS is being loaded, scheduling callback at\", now());\n",
       "        return null;\n",
       "      }\n",
       "      if (js_urls == null || js_urls.length === 0) {\n",
       "        run_callbacks();\n",
       "        return null;\n",
       "      }\n",
       "      console.log(\"Bokeh: BokehJS not loaded, scheduling load and callback at\", now());\n",
       "      root._bokeh_is_loading = js_urls.length;\n",
       "      for (var i = 0; i < js_urls.length; i++) {\n",
       "        var url = js_urls[i];\n",
       "        var s = document.createElement('script');\n",
       "        s.src = url;\n",
       "        s.async = false;\n",
       "        s.onreadystatechange = s.onload = function() {\n",
       "          root._bokeh_is_loading--;\n",
       "          if (root._bokeh_is_loading === 0) {\n",
       "            console.log(\"Bokeh: all BokehJS libraries loaded\");\n",
       "            run_callbacks()\n",
       "          }\n",
       "        };\n",
       "        s.onerror = function() {\n",
       "          console.warn(\"failed to load library \" + url);\n",
       "        };\n",
       "        console.log(\"Bokeh: injecting script tag for BokehJS library: \", url);\n",
       "        document.getElementsByTagName(\"head\")[0].appendChild(s);\n",
       "      }\n",
       "    };var element = document.getElementById(\"04f58cae-a5b6-48fa-b903-a411af366bdd\");\n",
       "    if (element == null) {\n",
       "      console.log(\"Bokeh: ERROR: autoload.js configured with elementid '04f58cae-a5b6-48fa-b903-a411af366bdd' but no matching script tag was found. \")\n",
       "      return false;\n",
       "    }\n",
       "  \n",
       "    var js_urls = [];\n",
       "  \n",
       "    var inline_js = [\n",
       "      function(Bokeh) {\n",
       "        (function() {\n",
       "          var fn = function() {\n",
       "            var docs_json = {\"f9b05dd7-92a1-451b-b589-4f88ceaf5b93\":{\"roots\":{\"references\":[{\"attributes\":{},\"id\":\"b9f7cdb1-3a75-46b6-9a67-2a44148cd0f0\",\"type\":\"LinearScale\"},{\"attributes\":{\"callback\":null},\"id\":\"c5db9f07-c07c-4a5d-be84-0886c2116da0\",\"type\":\"DataRange1d\"},{\"attributes\":{},\"id\":\"f6adfb20-c8c4-435d-8962-2b398a00621b\",\"type\":\"LinearScale\"},{\"attributes\":{\"formatter\":{\"id\":\"73b6cb1e-700f-4bb7-81e6-342a73712f7a\",\"type\":\"BasicTickFormatter\"},\"plot\":{\"id\":\"8d38f2f1-c3d0-47c7-a49f-3199f5158503\",\"subtype\":\"Figure\",\"type\":\"Plot\"},\"ticker\":{\"id\":\"8ec2507a-9be6-44b5-8d91-ed185a1ee25d\",\"type\":\"BasicTicker\"}},\"id\":\"172da64d-46db-44bb-a471-97d332835378\",\"type\":\"LinearAxis\"},{\"attributes\":{\"plot\":null,\"text\":\"T-SNE for most common words\"},\"id\":\"f136e77a-a8cb-49d4-bbaf-f13dae24ec14\",\"type\":\"Title\"},{\"attributes\":{\"callback\":null},\"id\":\"f857f39c-447b-429b-92ae-f37aebe9d2cb\",\"type\":\"DataRange1d\"},{\"attributes\":{\"formatter\":{\"id\":\"475d7a2d-ddb0-4895-99a3-8337c36d96aa\",\"type\":\"BasicTickFormatter\"},\"plot\":{\"id\":\"8d38f2f1-c3d0-47c7-a49f-3199f5158503\",\"subtype\":\"Figure\",\"type\":\"Plot\"},\"ticker\":{\"id\":\"841b8550-ef5d-44a5-9b8a-5d16c8f6488d\",\"type\":\"BasicTicker\"}},\"id\":\"cbf6ba23-dded-41f8-ba71-c962b1bd780e\",\"type\":\"LinearAxis\"},{\"attributes\":{\"plot\":{\"id\":\"8d38f2f1-c3d0-47c7-a49f-3199f5158503\",\"subtype\":\"Figure\",\"type\":\"Plot\"},\"ticker\":{\"id\":\"8ec2507a-9be6-44b5-8d91-ed185a1ee25d\",\"type\":\"BasicTicker\"}},\"id\":\"dd4ff8b3-631d-4270-87ae-17bee97b4c5c\",\"type\":\"Grid\"},{\"attributes\":{},\"id\":\"841b8550-ef5d-44a5-9b8a-5d16c8f6488d\",\"type\":\"BasicTicker\"},{\"attributes\":{\"dimension\":1,\"plot\":{\"id\":\"8d38f2f1-c3d0-47c7-a49f-3199f5158503\",\"subtype\":\"Figure\",\"type\":\"Plot\"},\"ticker\":{\"id\":\"841b8550-ef5d-44a5-9b8a-5d16c8f6488d\",\"type\":\"BasicTicker\"}},\"id\":\"a774d0f6-e486-41b2-97fd-32a962893099\",\"type\":\"Grid\"},{\"attributes\":{},\"id\":\"475d7a2d-ddb0-4895-99a3-8337c36d96aa\",\"type\":\"BasicTickFormatter\"},{\"attributes\":{\"data_source\":{\"id\":\"759c8885-82b1-4fc6-ab60-8793963a247f\",\"type\":\"ColumnDataSource\"},\"glyph\":{\"id\":\"e95e96d0-5e7e-4c4f-884f-d95735bfcbdb\",\"type\":\"Circle\"},\"hover_glyph\":null,\"muted_glyph\":null,\"nonselection_glyph\":{\"id\":\"3b9cacc9-5eed-4193-80ae-0e8907c773a0\",\"type\":\"Circle\"},\"selection_glyph\":null,\"view\":{\"id\":\"93555275-5ea0-4ae3-bee9-45f8d18a5e58\",\"type\":\"CDSView\"}},\"id\":\"6944bcf4-3c6f-4d21-8b65-114e52dfe69c\",\"type\":\"GlyphRenderer\"},{\"attributes\":{},\"id\":\"4c98071e-f92a-4c87-8cd5-c7f55b1395ee\",\"type\":\"PanTool\"},{\"attributes\":{},\"id\":\"8ec2507a-9be6-44b5-8d91-ed185a1ee25d\",\"type\":\"BasicTicker\"},{\"attributes\":{\"active_drag\":\"auto\",\"active_inspect\":\"auto\",\"active_scroll\":\"auto\",\"active_tap\":\"auto\",\"tools\":[{\"id\":\"4c98071e-f92a-4c87-8cd5-c7f55b1395ee\",\"type\":\"PanTool\"},{\"id\":\"169b6040-8b6f-46cd-931e-d942f90332a7\",\"type\":\"WheelZoomTool\"},{\"id\":\"392dcf5e-ba73-4dd1-b908-f3b3db474362\",\"type\":\"ResetTool\"},{\"id\":\"596ed197-6e5a-4fbd-a51f-aa3ebe4e6cc9\",\"type\":\"SaveTool\"}]},\"id\":\"bf731505-799a-4de4-b96a-273885869c54\",\"type\":\"Toolbar\"},{\"attributes\":{\"callback\":null,\"column_names\":[\"x1\",\"x2\",\"names\",\"colors\"],\"data\":{\"colors\":[\"#9467bd\",\"#2ca02c\",\"#ff9896\",\"#1f77b4\",\"#ff9896\",\"#1f77b4\",\"#ff9896\",\"#2ca02c\",\"#ff9896\",\"#ff9896\",\"#2ca02c\",\"#2ca02c\",\"#d62728\",\"#ff7f0e\",\"#2ca02c\",\"#ff9896\",\"#aec7e8\",\"#2ca02c\",\"#c5b0d5\",\"#2ca02c\",\"#1f77b4\",\"#c49c94\",\"#ff9896\",\"#98df8a\",\"#1f77b4\",\"#c5b0d5\",\"#98df8a\",\"#c49c94\",\"#1f77b4\",\"#aec7e8\",\"#1f77b4\",\"#8c564b\",\"#9467bd\",\"#2ca02c\",\"#1f77b4\",\"#1f77b4\",\"#ffbb78\",\"#1f77b4\",\"#1f77b4\",\"#1f77b4\",\"#2ca02c\",\"#1f77b4\",\"#2ca02c\",\"#1f77b4\",\"#2ca02c\",\"#2ca02c\",\"#2ca02c\"],\"names\":[\"NNP\",\"POS\",\"WRB\",\"RBS\",\"WDT\",\"UH\",\"PRP\",\"NNS\",\"RP\",\"EX\",\"VBN\",\"PRP$\",\";\",\"LRB\",\"VBG\",\"WP\",\"CD\",\"IN\",\"VBZ\",\"VBD\",\"PDT\",\"#\",\"RB\",\"MD\",\"AS\",\"VBP\",\"TO\",\"FW\",\":\",\"$\",\"SYM\",\"VB\",\"NNPS\",\"NN\",\"RBR\",\"JJR\",\"RRB\",\"WP$\",\"LS\",\"JJS\",\",\",\"NP\",\"JJ\",\"SO\",\".\",\"DT\",\"CC\"],\"x1\":{\"__ndarray__\":\"miOHQ1k0PUNLfgXDqxqewmTB0MKO8CLCpPsowy6mtULAbDTDOl8Swwv9j0I1S0hDM69fQla/l0I1gC9C3r//wvb23EFNwvJC+A9NQ7+KGUPLC7XC/saiQfhc4sJAMVDDOYQ4wdEBHUOzcEHDV3gFwkmCy8KAeBhCs5zUwem0VcPfw5FDqtXKQjQ0oMGr+aPBOc1Gwdb9iEACKN7APapaQkJPHEORM+HBOoKMQgqj4cKuigVD2JE5Q5I0wkI=\",\"dtype\":\"float32\",\"shape\":[47]},\"x2\":{\"__ndarray__\":\"/ySBQaAt5T+6V8xCbnqHwK/oG0NFhYTC2e64Qnlk9kJJe1TAgw84QpbHs0JeDF/CGLn4wly8V8KSbKNCsjEBQ5pPOkNujaZAHhljQiWCTUIxgq9BVubVwizzhUKRU37C6bRGQRI9vsIqvxfCvG/TwjyoD8LHoU5DMzAmwgUS8kHkskRB8kuAQp+VY0KkXqJCul4Lw6ACz8Gp7nfC9vsSQpCKOUELKobB+JGEQqRFAkIQ6wnC1V0Twi9a6L4=\",\"dtype\":\"float32\",\"shape\":[47]}}},\"id\":\"759c8885-82b1-4fc6-ab60-8793963a247f\",\"type\":\"ColumnDataSource\"},{\"attributes\":{},\"id\":\"169b6040-8b6f-46cd-931e-d942f90332a7\",\"type\":\"WheelZoomTool\"},{\"attributes\":{},\"id\":\"392dcf5e-ba73-4dd1-b908-f3b3db474362\",\"type\":\"ResetTool\"},{\"attributes\":{},\"id\":\"596ed197-6e5a-4fbd-a51f-aa3ebe4e6cc9\",\"type\":\"SaveTool\"},{\"attributes\":{\"below\":[{\"id\":\"172da64d-46db-44bb-a471-97d332835378\",\"type\":\"LinearAxis\"}],\"left\":[{\"id\":\"cbf6ba23-dded-41f8-ba71-c962b1bd780e\",\"type\":\"LinearAxis\"}],\"renderers\":[{\"id\":\"172da64d-46db-44bb-a471-97d332835378\",\"type\":\"LinearAxis\"},{\"id\":\"dd4ff8b3-631d-4270-87ae-17bee97b4c5c\",\"type\":\"Grid\"},{\"id\":\"cbf6ba23-dded-41f8-ba71-c962b1bd780e\",\"type\":\"LinearAxis\"},{\"id\":\"a774d0f6-e486-41b2-97fd-32a962893099\",\"type\":\"Grid\"},{\"id\":\"6944bcf4-3c6f-4d21-8b65-114e52dfe69c\",\"type\":\"GlyphRenderer\"},{\"id\":\"140a817e-d7f3-44d1-9180-df4dd8c452c6\",\"type\":\"LabelSet\"}],\"title\":{\"id\":\"f136e77a-a8cb-49d4-bbaf-f13dae24ec14\",\"type\":\"Title\"},\"toolbar\":{\"id\":\"bf731505-799a-4de4-b96a-273885869c54\",\"type\":\"Toolbar\"},\"toolbar_location\":\"above\",\"x_range\":{\"id\":\"c5db9f07-c07c-4a5d-be84-0886c2116da0\",\"type\":\"DataRange1d\"},\"x_scale\":{\"id\":\"b9f7cdb1-3a75-46b6-9a67-2a44148cd0f0\",\"type\":\"LinearScale\"},\"y_range\":{\"id\":\"f857f39c-447b-429b-92ae-f37aebe9d2cb\",\"type\":\"DataRange1d\"},\"y_scale\":{\"id\":\"f6adfb20-c8c4-435d-8962-2b398a00621b\",\"type\":\"LinearScale\"}},\"id\":\"8d38f2f1-c3d0-47c7-a49f-3199f5158503\",\"subtype\":\"Figure\",\"type\":\"Plot\"},{\"attributes\":{\"source\":{\"id\":\"759c8885-82b1-4fc6-ab60-8793963a247f\",\"type\":\"ColumnDataSource\"}},\"id\":\"93555275-5ea0-4ae3-bee9-45f8d18a5e58\",\"type\":\"CDSView\"},{\"attributes\":{\"fill_alpha\":{\"value\":0.1},\"fill_color\":{\"value\":\"#1f77b4\"},\"line_alpha\":{\"value\":0.1},\"line_color\":{\"value\":\"#1f77b4\"},\"size\":{\"units\":\"screen\",\"value\":8},\"x\":{\"field\":\"x1\"},\"y\":{\"field\":\"x2\"}},\"id\":\"3b9cacc9-5eed-4193-80ae-0e8907c773a0\",\"type\":\"Circle\"},{\"attributes\":{\"fill_color\":{\"field\":\"colors\"},\"line_color\":{\"field\":\"colors\"},\"size\":{\"units\":\"screen\",\"value\":8},\"x\":{\"field\":\"x1\"},\"y\":{\"field\":\"x2\"}},\"id\":\"e95e96d0-5e7e-4c4f-884f-d95735bfcbdb\",\"type\":\"Circle\"},{\"attributes\":{\"plot\":{\"id\":\"8d38f2f1-c3d0-47c7-a49f-3199f5158503\",\"subtype\":\"Figure\",\"type\":\"Plot\"},\"source\":{\"id\":\"759c8885-82b1-4fc6-ab60-8793963a247f\",\"type\":\"ColumnDataSource\"},\"text\":{\"field\":\"names\"},\"text_align\":\"center\",\"text_color\":{\"value\":\"#555555\"},\"text_font_size\":{\"value\":\"8pt\"},\"x\":{\"field\":\"x1\"},\"y\":{\"field\":\"x2\"},\"y_offset\":{\"value\":6}},\"id\":\"140a817e-d7f3-44d1-9180-df4dd8c452c6\",\"type\":\"LabelSet\"},{\"attributes\":{},\"id\":\"73b6cb1e-700f-4bb7-81e6-342a73712f7a\",\"type\":\"BasicTickFormatter\"}],\"root_ids\":[\"8d38f2f1-c3d0-47c7-a49f-3199f5158503\"]},\"title\":\"Bokeh Application\",\"version\":\"0.12.7\"}};\n",
       "            var render_items = [{\"docid\":\"f9b05dd7-92a1-451b-b589-4f88ceaf5b93\",\"elementid\":\"04f58cae-a5b6-48fa-b903-a411af366bdd\",\"modelid\":\"8d38f2f1-c3d0-47c7-a49f-3199f5158503\"}];\n",
       "            \n",
       "            Bokeh.embed.embed_items(docs_json, render_items);\n",
       "          };\n",
       "          if (document.readyState != \"loading\") fn();\n",
       "          else document.addEventListener(\"DOMContentLoaded\", fn);\n",
       "        })();\n",
       "      },\n",
       "      function(Bokeh) {\n",
       "      }\n",
       "    ];\n",
       "  \n",
       "    function run_inline_js() {\n",
       "      \n",
       "      if ((root.Bokeh !== undefined) || (force === true)) {\n",
       "        for (var i = 0; i < inline_js.length; i++) {\n",
       "          inline_js[i].call(root, root.Bokeh);\n",
       "        }if (force === true) {\n",
       "          display_loaded();\n",
       "        }} else if (Date.now() < root._bokeh_timeout) {\n",
       "        setTimeout(run_inline_js, 100);\n",
       "      } else if (!root._bokeh_failed_load) {\n",
       "        console.log(\"Bokeh: BokehJS failed to load within specified timeout.\");\n",
       "        root._bokeh_failed_load = true;\n",
       "      } else if (force !== true) {\n",
       "        var cell = $(document.getElementById(\"04f58cae-a5b6-48fa-b903-a411af366bdd\")).parents('.cell').data().cell;\n",
       "        cell.output_area.append_execute_result(NB_LOAD_WARNING)\n",
       "      }\n",
       "  \n",
       "    }\n",
       "  \n",
       "    if (root._bokeh_is_loading === 0) {\n",
       "      console.log(\"Bokeh: BokehJS loaded, going straight to plotting\");\n",
       "      run_inline_js();\n",
       "    } else {\n",
       "      load_libs(js_urls, function() {\n",
       "        console.log(\"Bokeh: BokehJS plotting callback run at\", now());\n",
       "        run_inline_js();\n",
       "      });\n",
       "    }\n",
       "  }(window));\n",
       "</script>"
      ]
     },
     "metadata": {},
     "output_type": "display_data"
    }
   ],
   "source": [
    "pos_vecs = pos_model[ptb_tags]\n",
    "\n",
    "# since the set of vectors we perform t-SNE on is small we \n",
    "# should use a smaller perplexity (sklearn default is 30)\n",
    "# see https://lvdmaaten.github.io/tsne/#examples for reference\n",
    "emb_scatter(pos_vecs, ptb_tags, N=12, perplexity=8.0)"
   ]
  },
  {
   "cell_type": "markdown",
   "metadata": {},
   "source": [
    "## Pre-trained GloVe"
   ]
  },
  {
   "cell_type": "markdown",
   "metadata": {
    "collapsed": true
   },
   "source": [
    "Finally let's look at some pretrained [GloVe](https://nlp.stanford.edu/projects/glove/) vectors from the Stanford paper. All their embeddings are downloadable from there.\n",
    "\n",
    "The 300-dimensional ones are availlable from the python library [spaCy](https://spacy.io/), which we will use for ease. This library is part of the Anaconda distribution of python.\n",
    "\n",
    "Check it out:"
   ]
  },
  {
   "cell_type": "code",
   "execution_count": 168,
   "metadata": {
    "collapsed": true
   },
   "outputs": [],
   "source": [
    "import spacy\n",
    "\n",
    "glove = spacy.load('en_vectors_glove_md')"
   ]
  },
  {
   "cell_type": "markdown",
   "metadata": {},
   "source": [
    "Vector can then be obtained with the following syntax"
   ]
  },
  {
   "cell_type": "code",
   "execution_count": 169,
   "metadata": {
    "collapsed": true,
    "scrolled": false
   },
   "outputs": [],
   "source": [
    "# glove(\"erroneous\").vector"
   ]
  },
  {
   "cell_type": "code",
   "execution_count": 171,
   "metadata": {},
   "outputs": [
    {
     "name": "stdout",
     "output_type": "stream",
     "text": [
      "finding clusters\n",
      "fitting tsne\n"
     ]
    },
    {
     "data": {
      "text/html": [
       "\n",
       "\n",
       "    <div class=\"bk-root\">\n",
       "        <div class=\"bk-plotdiv\" id=\"e8f6ff3d-53e3-4ed7-84b0-2e6b64962ea1\"></div>\n",
       "    </div>\n",
       "<script type=\"text/javascript\">\n",
       "  \n",
       "  (function(root) {\n",
       "    function now() {\n",
       "      return new Date();\n",
       "    }\n",
       "  \n",
       "    var force = false;\n",
       "  \n",
       "    if (typeof (root._bokeh_onload_callbacks) === \"undefined\" || force === true) {\n",
       "      root._bokeh_onload_callbacks = [];\n",
       "      root._bokeh_is_loading = undefined;\n",
       "    }\n",
       "  \n",
       "  \n",
       "    \n",
       "    if (typeof (root._bokeh_timeout) === \"undefined\" || force === true) {\n",
       "      root._bokeh_timeout = Date.now() + 0;\n",
       "      root._bokeh_failed_load = false;\n",
       "    }\n",
       "  \n",
       "    var NB_LOAD_WARNING = {'data': {'text/html':\n",
       "       \"<div style='background-color: #fdd'>\\n\"+\n",
       "       \"<p>\\n\"+\n",
       "       \"BokehJS does not appear to have successfully loaded. If loading BokehJS from CDN, this \\n\"+\n",
       "       \"may be due to a slow or bad network connection. Possible fixes:\\n\"+\n",
       "       \"</p>\\n\"+\n",
       "       \"<ul>\\n\"+\n",
       "       \"<li>re-rerun `output_notebook()` to attempt to load from CDN again, or</li>\\n\"+\n",
       "       \"<li>use INLINE resources instead, as so:</li>\\n\"+\n",
       "       \"</ul>\\n\"+\n",
       "       \"<code>\\n\"+\n",
       "       \"from bokeh.resources import INLINE\\n\"+\n",
       "       \"output_notebook(resources=INLINE)\\n\"+\n",
       "       \"</code>\\n\"+\n",
       "       \"</div>\"}};\n",
       "  \n",
       "    function display_loaded() {\n",
       "      if (root.Bokeh !== undefined) {\n",
       "        var el = document.getElementById(\"e8f6ff3d-53e3-4ed7-84b0-2e6b64962ea1\");\n",
       "        if (el != null) {\n",
       "          el.textContent = \"BokehJS \" + Bokeh.version + \" successfully loaded.\";\n",
       "        }\n",
       "      } else if (Date.now() < root._bokeh_timeout) {\n",
       "        setTimeout(display_loaded, 100)\n",
       "      }\n",
       "    }\n",
       "  \n",
       "  \n",
       "    function run_callbacks() {\n",
       "      try {\n",
       "        root._bokeh_onload_callbacks.forEach(function(callback) { callback() });\n",
       "      }\n",
       "      finally {\n",
       "        delete root._bokeh_onload_callbacks\n",
       "      }\n",
       "      console.info(\"Bokeh: all callbacks have finished\");\n",
       "    }\n",
       "  \n",
       "    function load_libs(js_urls, callback) {\n",
       "      root._bokeh_onload_callbacks.push(callback);\n",
       "      if (root._bokeh_is_loading > 0) {\n",
       "        console.log(\"Bokeh: BokehJS is being loaded, scheduling callback at\", now());\n",
       "        return null;\n",
       "      }\n",
       "      if (js_urls == null || js_urls.length === 0) {\n",
       "        run_callbacks();\n",
       "        return null;\n",
       "      }\n",
       "      console.log(\"Bokeh: BokehJS not loaded, scheduling load and callback at\", now());\n",
       "      root._bokeh_is_loading = js_urls.length;\n",
       "      for (var i = 0; i < js_urls.length; i++) {\n",
       "        var url = js_urls[i];\n",
       "        var s = document.createElement('script');\n",
       "        s.src = url;\n",
       "        s.async = false;\n",
       "        s.onreadystatechange = s.onload = function() {\n",
       "          root._bokeh_is_loading--;\n",
       "          if (root._bokeh_is_loading === 0) {\n",
       "            console.log(\"Bokeh: all BokehJS libraries loaded\");\n",
       "            run_callbacks()\n",
       "          }\n",
       "        };\n",
       "        s.onerror = function() {\n",
       "          console.warn(\"failed to load library \" + url);\n",
       "        };\n",
       "        console.log(\"Bokeh: injecting script tag for BokehJS library: \", url);\n",
       "        document.getElementsByTagName(\"head\")[0].appendChild(s);\n",
       "      }\n",
       "    };var element = document.getElementById(\"e8f6ff3d-53e3-4ed7-84b0-2e6b64962ea1\");\n",
       "    if (element == null) {\n",
       "      console.log(\"Bokeh: ERROR: autoload.js configured with elementid 'e8f6ff3d-53e3-4ed7-84b0-2e6b64962ea1' but no matching script tag was found. \")\n",
       "      return false;\n",
       "    }\n",
       "  \n",
       "    var js_urls = [];\n",
       "  \n",
       "    var inline_js = [\n",
       "      function(Bokeh) {\n",
       "        (function() {\n",
       "          var fn = function() {\n",
       "            var docs_json = {\"c15ef0b4-895d-4087-9e46-90b9f23358cc\":{\"roots\":{\"references\":[{\"attributes\":{\"formatter\":{\"id\":\"c1f05a6a-3d57-451e-8ae9-4b40b1f71e2b\",\"type\":\"BasicTickFormatter\"},\"plot\":{\"id\":\"2b0b32f6-c7b5-416c-9851-90ff3d7d35c3\",\"subtype\":\"Figure\",\"type\":\"Plot\"},\"ticker\":{\"id\":\"9a8d7c8c-39d0-4225-a907-e4963a8e625d\",\"type\":\"BasicTicker\"}},\"id\":\"e0213d47-8aa8-4ceb-93e9-61cd2b0644ab\",\"type\":\"LinearAxis\"},{\"attributes\":{},\"id\":\"5c2c42bf-a7d6-4438-9041-c887874e57fa\",\"type\":\"BasicTicker\"},{\"attributes\":{\"data_source\":{\"id\":\"bb4150ee-ec66-495a-8855-92ee8e28044c\",\"type\":\"ColumnDataSource\"},\"glyph\":{\"id\":\"7adf7e6f-dc2c-4b86-8ebb-5b8914ab8277\",\"type\":\"Circle\"},\"hover_glyph\":null,\"muted_glyph\":null,\"nonselection_glyph\":{\"id\":\"6610c5c8-2204-4ca7-a5e0-85732aca0af5\",\"type\":\"Circle\"},\"selection_glyph\":null,\"view\":{\"id\":\"707bb2cc-8741-4010-8b92-b6b90391eea2\",\"type\":\"CDSView\"}},\"id\":\"effd6824-7147-4935-a2f1-fa0a5ec585e8\",\"type\":\"GlyphRenderer\"},{\"attributes\":{\"fill_color\":{\"field\":\"colors\"},\"line_color\":{\"field\":\"colors\"},\"size\":{\"units\":\"screen\",\"value\":8},\"x\":{\"field\":\"x1\"},\"y\":{\"field\":\"x2\"}},\"id\":\"7adf7e6f-dc2c-4b86-8ebb-5b8914ab8277\",\"type\":\"Circle\"},{\"attributes\":{\"dimension\":1,\"plot\":{\"id\":\"2b0b32f6-c7b5-416c-9851-90ff3d7d35c3\",\"subtype\":\"Figure\",\"type\":\"Plot\"},\"ticker\":{\"id\":\"5c2c42bf-a7d6-4438-9041-c887874e57fa\",\"type\":\"BasicTicker\"}},\"id\":\"1041797d-1777-4eea-889d-c5e5e40c21a7\",\"type\":\"Grid\"},{\"attributes\":{\"plot\":null,\"text\":\"T-SNE for most common words\"},\"id\":\"f34ad86a-e3d9-40c6-8d49-8e6555578f1e\",\"type\":\"Title\"},{\"attributes\":{\"callback\":null},\"id\":\"11d37444-9ea1-4bb5-a828-48f936da1fce\",\"type\":\"DataRange1d\"},{\"attributes\":{\"active_drag\":\"auto\",\"active_inspect\":\"auto\",\"active_scroll\":\"auto\",\"active_tap\":\"auto\",\"tools\":[{\"id\":\"2cc3f0a3-30c9-4da3-bf2b-73f1e964208a\",\"type\":\"PanTool\"},{\"id\":\"ae7992a6-e424-4d5f-9128-42766b2aa9c4\",\"type\":\"WheelZoomTool\"},{\"id\":\"9085779d-774d-40ab-8078-78fc84959af2\",\"type\":\"ResetTool\"},{\"id\":\"ed327e76-1901-4d47-b122-1122cb1f8dfb\",\"type\":\"SaveTool\"}]},\"id\":\"21d12b21-8e30-45f1-96d7-143c62a5ed3f\",\"type\":\"Toolbar\"},{\"attributes\":{},\"id\":\"c1f05a6a-3d57-451e-8ae9-4b40b1f71e2b\",\"type\":\"BasicTickFormatter\"},{\"attributes\":{\"below\":[{\"id\":\"e0213d47-8aa8-4ceb-93e9-61cd2b0644ab\",\"type\":\"LinearAxis\"}],\"left\":[{\"id\":\"3a4fc60a-c323-4048-9ebc-2a045594b03b\",\"type\":\"LinearAxis\"}],\"renderers\":[{\"id\":\"e0213d47-8aa8-4ceb-93e9-61cd2b0644ab\",\"type\":\"LinearAxis\"},{\"id\":\"72abefc6-32ac-46cb-8b9a-f6e1b1af7f7a\",\"type\":\"Grid\"},{\"id\":\"3a4fc60a-c323-4048-9ebc-2a045594b03b\",\"type\":\"LinearAxis\"},{\"id\":\"1041797d-1777-4eea-889d-c5e5e40c21a7\",\"type\":\"Grid\"},{\"id\":\"effd6824-7147-4935-a2f1-fa0a5ec585e8\",\"type\":\"GlyphRenderer\"},{\"id\":\"0641458f-23eb-4dfd-ad57-228b23ba08e1\",\"type\":\"LabelSet\"}],\"title\":{\"id\":\"f34ad86a-e3d9-40c6-8d49-8e6555578f1e\",\"type\":\"Title\"},\"toolbar\":{\"id\":\"21d12b21-8e30-45f1-96d7-143c62a5ed3f\",\"type\":\"Toolbar\"},\"toolbar_location\":\"above\",\"x_range\":{\"id\":\"11d37444-9ea1-4bb5-a828-48f936da1fce\",\"type\":\"DataRange1d\"},\"x_scale\":{\"id\":\"cdb15c5d-09ae-4257-abc8-7a7ce85868a2\",\"type\":\"LinearScale\"},\"y_range\":{\"id\":\"6554d4d5-f1a6-4374-90d6-d2372b1fbda8\",\"type\":\"DataRange1d\"},\"y_scale\":{\"id\":\"6608ae93-c302-43ed-afd7-a089e0d45f79\",\"type\":\"LinearScale\"}},\"id\":\"2b0b32f6-c7b5-416c-9851-90ff3d7d35c3\",\"subtype\":\"Figure\",\"type\":\"Plot\"},{\"attributes\":{\"plot\":{\"id\":\"2b0b32f6-c7b5-416c-9851-90ff3d7d35c3\",\"subtype\":\"Figure\",\"type\":\"Plot\"},\"source\":{\"id\":\"bb4150ee-ec66-495a-8855-92ee8e28044c\",\"type\":\"ColumnDataSource\"},\"text\":{\"field\":\"names\"},\"text_align\":\"center\",\"text_color\":{\"value\":\"#555555\"},\"text_font_size\":{\"value\":\"8pt\"},\"x\":{\"field\":\"x1\"},\"y\":{\"field\":\"x2\"},\"y_offset\":{\"value\":6}},\"id\":\"0641458f-23eb-4dfd-ad57-228b23ba08e1\",\"type\":\"LabelSet\"},{\"attributes\":{\"callback\":null},\"id\":\"6554d4d5-f1a6-4374-90d6-d2372b1fbda8\",\"type\":\"DataRange1d\"},{\"attributes\":{\"source\":{\"id\":\"bb4150ee-ec66-495a-8855-92ee8e28044c\",\"type\":\"ColumnDataSource\"}},\"id\":\"707bb2cc-8741-4010-8b92-b6b90391eea2\",\"type\":\"CDSView\"},{\"attributes\":{},\"id\":\"cdb15c5d-09ae-4257-abc8-7a7ce85868a2\",\"type\":\"LinearScale\"},{\"attributes\":{\"callback\":null,\"column_names\":[\"x1\",\"x2\",\"names\",\"colors\"],\"data\":{\"colors\":[\"#ffbb78\",\"#ffbb78\",\"#dbdb8d\",\"#17becf\",\"#ffbb78\",\"#7f7f7f\",\"#7f7f7f\",\"#ffbb78\",\"#7f7f7f\",\"#dbdb8d\",\"#dbdb8d\",\"#ffbb78\",\"#17becf\",\"#1f77b4\",\"#7f7f7f\",\"#dbdb8d\",\"#9edae5\",\"#17becf\",\"#17becf\",\"#dbdb8d\",\"#7f7f7f\",\"#7f7f7f\",\"#ffbb78\",\"#ffbb78\",\"#dbdb8d\",\"#9467bd\",\"#2ca02c\",\"#7f7f7f\",\"#dbdb8d\",\"#17becf\",\"#ffbb78\",\"#17becf\",\"#dbdb8d\",\"#dbdb8d\",\"#1f77b4\",\"#ffbb78\",\"#2ca02c\",\"#dbdb8d\",\"#7f7f7f\",\"#dbdb8d\",\"#ffbb78\",\"#dbdb8d\",\"#dbdb8d\",\"#9edae5\",\"#ffbb78\",\"#7f7f7f\",\"#17becf\",\"#17becf\",\"#9edae5\",\"#7f7f7f\",\"#1f77b4\",\"#7f7f7f\",\"#ffbb78\",\"#17becf\",\"#dbdb8d\",\"#7f7f7f\",\"#7f7f7f\",\"#ffbb78\",\"#7f7f7f\",\"#9edae5\",\"#17becf\",\"#7f7f7f\",\"#9edae5\",\"#9edae5\",\"#dbdb8d\",\"#dbdb8d\",\"#17becf\",\"#17becf\",\"#dbdb8d\",\"#1f77b4\",\"#7f7f7f\",\"#dbdb8d\",\"#9467bd\",\"#ffbb78\",\"#c49c94\",\"#e377c2\",\"#dbdb8d\",\"#dbdb8d\",\"#17becf\",\"#9edae5\",\"#9467bd\",\"#7f7f7f\",\"#ffbb78\",\"#dbdb8d\",\"#ffbb78\",\"#dbdb8d\",\"#9edae5\",\"#7f7f7f\",\"#17becf\",\"#dbdb8d\",\"#dbdb8d\",\"#dbdb8d\",\"#17becf\",\"#dbdb8d\",\"#9edae5\",\"#dbdb8d\",\"#ffbb78\",\"#9edae5\",\"#9edae5\",\"#7f7f7f\",\"#17becf\",\"#9edae5\",\"#9edae5\",\"#17becf\",\"#7f7f7f\",\"#17becf\",\"#1f77b4\",\"#ff7f0e\",\"#7f7f7f\",\"#1f77b4\",\"#9edae5\",\"#ffbb78\",\"#ffbb78\",\"#17becf\",\"#7f7f7f\",\"#7f7f7f\",\"#9edae5\",\"#e377c2\",\"#17becf\",\"#dbdb8d\",\"#17becf\",\"#dbdb8d\",\"#dbdb8d\",\"#9edae5\",\"#1f77b4\",\"#7f7f7f\",\"#7f7f7f\",\"#1f77b4\",\"#ffbb78\",\"#ffbb78\",\"#17becf\",\"#ffbb78\",\"#9467bd\",\"#dbdb8d\",\"#ff9896\",\"#ffbb78\",\"#17becf\",\"#9edae5\",\"#dbdb8d\",\"#c49c94\",\"#9edae5\",\"#9edae5\",\"#9edae5\",\"#17becf\",\"#7f7f7f\",\"#dbdb8d\",\"#9edae5\",\"#17becf\",\"#9edae5\",\"#aec7e8\",\"#9edae5\",\"#9edae5\",\"#1f77b4\",\"#7f7f7f\",\"#1f77b4\",\"#e377c2\",\"#dbdb8d\",\"#9467bd\",\"#7f7f7f\",\"#2ca02c\",\"#dbdb8d\",\"#9edae5\",\"#ffbb78\",\"#7f7f7f\",\"#1f77b4\",\"#9edae5\",\"#dbdb8d\",\"#9edae5\",\"#17becf\",\"#7f7f7f\",\"#dbdb8d\",\"#dbdb8d\",\"#dbdb8d\",\"#7f7f7f\",\"#9edae5\",\"#dbdb8d\",\"#17becf\",\"#aec7e8\",\"#9edae5\",\"#dbdb8d\",\"#ffbb78\",\"#7f7f7f\",\"#2ca02c\",\"#ffbb78\",\"#ffbb78\",\"#ffbb78\",\"#17becf\",\"#c5b0d5\",\"#9edae5\",\"#7f7f7f\",\"#ffbb78\",\"#dbdb8d\",\"#1f77b4\",\"#ffbb78\",\"#c49c94\",\"#1f77b4\",\"#9edae5\",\"#c5b0d5\",\"#9edae5\",\"#7f7f7f\",\"#ffbb78\",\"#17becf\",\"#ffbb78\",\"#c5b0d5\",\"#ff9896\",\"#7f7f7f\",\"#9edae5\",\"#7f7f7f\",\"#c5b0d5\",\"#d62728\",\"#1f77b4\",\"#2ca02c\",\"#7f7f7f\",\"#9edae5\",\"#1f77b4\",\"#9467bd\",\"#ffbb78\",\"#17becf\",\"#c49c94\",\"#7f7f7f\",\"#ffbb78\",\"#9edae5\",\"#1f77b4\",\"#7f7f7f\",\"#7f7f7f\",\"#f7b6d2\",\"#7f7f7f\",\"#7f7f7f\",\"#1f77b4\",\"#2ca02c\",\"#ffbb78\",\"#98df8a\",\"#7f7f7f\",\"#dbdb8d\",\"#17becf\",\"#dbdb8d\",\"#ffbb78\",\"#7f7f7f\",\"#7f7f7f\",\"#dbdb8d\",\"#aec7e8\",\"#ffbb78\",\"#dbdb8d\",\"#7f7f7f\",\"#9edae5\",\"#e377c2\",\"#7f7f7f\",\"#ffbb78\",\"#c5b0d5\",\"#17becf\",\"#dbdb8d\",\"#17becf\",\"#e377c2\",\"#9edae5\",\"#9edae5\",\"#17becf\",\"#ff7f0e\",\"#17becf\",\"#98df8a\",\"#ffbb78\",\"#dbdb8d\",\"#ff7f0e\",\"#d62728\",\"#ff7f0e\",\"#dbdb8d\",\"#1f77b4\",\"#ffbb78\",\"#dbdb8d\",\"#e377c2\",\"#dbdb8d\",\"#ff9896\",\"#7f7f7f\",\"#d62728\",\"#dbdb8d\",\"#7f7f7f\",\"#9edae5\",\"#ffbb78\",\"#e377c2\",\"#7f7f7f\",\"#17becf\",\"#bcbd22\",\"#7f7f7f\",\"#e377c2\",\"#7f7f7f\",\"#ff7f0e\",\"#e377c2\",\"#d62728\",\"#ffbb78\",\"#9edae5\",\"#1f77b4\",\"#2ca02c\",\"#ffbb78\",\"#7f7f7f\",\"#dbdb8d\",\"#1f77b4\",\"#7f7f7f\",\"#98df8a\",\"#e377c2\",\"#ffbb78\",\"#17becf\",\"#98df8a\",\"#7f7f7f\",\"#aec7e8\",\"#d62728\",\"#7f7f7f\",\"#c49c94\",\"#7f7f7f\",\"#ffbb78\",\"#ffbb78\",\"#ffbb78\",\"#9edae5\",\"#7f7f7f\",\"#9edae5\",\"#7f7f7f\",\"#ff7f0e\",\"#9edae5\",\"#ff9896\",\"#9edae5\",\"#17becf\",\"#7f7f7f\",\"#2ca02c\",\"#98df8a\",\"#9edae5\",\"#9edae5\",\"#ffbb78\",\"#ffbb78\",\"#ff7f0e\",\"#c7c7c7\",\"#dbdb8d\",\"#7f7f7f\",\"#17becf\",\"#7f7f7f\",\"#9edae5\",\"#ff9896\",\"#c49c94\",\"#7f7f7f\",\"#c7c7c7\",\"#7f7f7f\",\"#7f7f7f\",\"#ffbb78\",\"#ffbb78\",\"#e377c2\",\"#7f7f7f\",\"#c5b0d5\",\"#ffbb78\",\"#dbdb8d\",\"#8c564b\",\"#ff7f0e\",\"#ffbb78\",\"#7f7f7f\",\"#9edae5\",\"#7f7f7f\",\"#7f7f7f\",\"#ff7f0e\",\"#7f7f7f\",\"#ffbb78\",\"#1f77b4\",\"#17becf\",\"#17becf\",\"#2ca02c\",\"#7f7f7f\",\"#98df8a\",\"#7f7f7f\",\"#9edae5\",\"#17becf\",\"#9edae5\",\"#7f7f7f\",\"#aec7e8\",\"#17becf\",\"#17becf\",\"#e377c2\",\"#d62728\",\"#e377c2\",\"#7f7f7f\",\"#ffbb78\",\"#7f7f7f\",\"#e377c2\",\"#ffbb78\",\"#7f7f7f\",\"#d62728\",\"#1f77b4\",\"#dbdb8d\",\"#7f7f7f\",\"#2ca02c\",\"#7f7f7f\",\"#7f7f7f\",\"#7f7f7f\",\"#7f7f7f\",\"#e377c2\",\"#e377c2\",\"#7f7f7f\",\"#ff9896\",\"#ffbb78\",\"#c49c94\",\"#ff7f0e\",\"#7f7f7f\",\"#7f7f7f\",\"#e377c2\",\"#1f77b4\",\"#8c564b\",\"#9edae5\",\"#dbdb8d\",\"#ff9896\",\"#c5b0d5\",\"#1f77b4\",\"#9edae5\",\"#9edae5\",\"#ffbb78\",\"#9467bd\",\"#aec7e8\",\"#1f77b4\",\"#c5b0d5\",\"#9467bd\",\"#e377c2\",\"#c49c94\",\"#7f7f7f\",\"#7f7f7f\",\"#17becf\",\"#ffbb78\",\"#dbdb8d\",\"#7f7f7f\",\"#ff7f0e\",\"#e377c2\",\"#ff9896\",\"#ffbb78\",\"#1f77b4\",\"#1f77b4\",\"#ffbb78\",\"#9edae5\",\"#1f77b4\",\"#dbdb8d\",\"#17becf\",\"#7f7f7f\",\"#c5b0d5\",\"#ffbb78\",\"#1f77b4\",\"#ffbb78\",\"#e377c2\",\"#ffbb78\",\"#7f7f7f\",\"#dbdb8d\",\"#7f7f7f\",\"#aec7e8\",\"#d62728\",\"#1f77b4\",\"#9edae5\",\"#17becf\",\"#ffbb78\",\"#9edae5\",\"#9edae5\",\"#e377c2\",\"#7f7f7f\",\"#c7c7c7\",\"#ffbb78\",\"#ff7f0e\",\"#9edae5\",\"#7f7f7f\",\"#d62728\",\"#e377c2\",\"#7f7f7f\",\"#f7b6d2\",\"#ffbb78\",\"#1f77b4\",\"#d62728\",\"#dbdb8d\",\"#17becf\",\"#ffbb78\",\"#8c564b\",\"#ff7f0e\",\"#2ca02c\",\"#ffbb78\",\"#ff9896\",\"#7f7f7f\",\"#17becf\",\"#ffbb78\",\"#dbdb8d\",\"#7f7f7f\",\"#7f7f7f\",\"#ff7f0e\",\"#dbdb8d\",\"#dbdb8d\",\"#ffbb78\",\"#7f7f7f\",\"#17becf\",\"#f7b6d2\",\"#17becf\",\"#c49c94\",\"#c7c7c7\",\"#ffbb78\",\"#ffbb78\",\"#1f77b4\",\"#9467bd\",\"#ff7f0e\",\"#7f7f7f\",\"#7f7f7f\",\"#d62728\",\"#8c564b\",\"#e377c2\",\"#9edae5\",\"#c49c94\",\"#dbdb8d\",\"#bcbd22\",\"#7f7f7f\",\"#c49c94\",\"#9edae5\",\"#ffbb78\",\"#ffbb78\",\"#dbdb8d\",\"#9edae5\",\"#1f77b4\",\"#9edae5\",\"#1f77b4\",\"#17becf\",\"#e377c2\",\"#17becf\",\"#17becf\",\"#aec7e8\",\"#9467bd\",\"#1f77b4\",\"#ffbb78\",\"#1f77b4\",\"#7f7f7f\",\"#17becf\",\"#1f77b4\",\"#1f77b4\",\"#ff7f0e\",\"#ffbb78\",\"#9edae5\",\"#9edae5\",\"#c5b0d5\",\"#8c564b\",\"#9edae5\",\"#c5b0d5\",\"#d62728\",\"#17becf\",\"#ffbb78\",\"#d62728\",\"#9edae5\",\"#9edae5\",\"#17becf\",\"#9edae5\",\"#dbdb8d\",\"#c5b0d5\",\"#c49c94\",\"#ffbb78\",\"#ffbb78\",\"#d62728\",\"#ffbb78\",\"#ff7f0e\",\"#dbdb8d\",\"#8c564b\",\"#ffbb78\",\"#17becf\",\"#dbdb8d\",\"#d62728\",\"#e377c2\",\"#7f7f7f\",\"#dbdb8d\",\"#9edae5\",\"#aec7e8\",\"#bcbd22\",\"#ffbb78\",\"#ffbb78\",\"#e377c2\",\"#e377c2\",\"#8c564b\",\"#ffbb78\",\"#7f7f7f\",\"#9edae5\",\"#dbdb8d\",\"#17becf\",\"#ff7f0e\",\"#dbdb8d\",\"#dbdb8d\",\"#9edae5\",\"#ff9896\",\"#17becf\",\"#9edae5\",\"#e377c2\",\"#9edae5\",\"#98df8a\",\"#ff7f0e\",\"#ffbb78\",\"#bcbd22\",\"#17becf\",\"#d62728\",\"#d62728\",\"#e377c2\",\"#9edae5\",\"#ff7f0e\",\"#17becf\",\"#9edae5\",\"#17becf\",\"#9edae5\",\"#e377c2\",\"#17becf\",\"#dbdb8d\",\"#dbdb8d\",\"#c5b0d5\",\"#1f77b4\",\"#dbdb8d\",\"#dbdb8d\",\"#17becf\",\"#d62728\",\"#9edae5\",\"#d62728\",\"#d62728\",\"#d62728\",\"#e377c2\",\"#2ca02c\",\"#dbdb8d\",\"#bcbd22\",\"#9edae5\",\"#17becf\",\"#c49c94\",\"#9edae5\",\"#dbdb8d\",\"#ffbb78\",\"#9edae5\",\"#e377c2\",\"#ffbb78\",\"#bcbd22\",\"#ffbb78\",\"#7f7f7f\",\"#bcbd22\",\"#dbdb8d\",\"#e377c2\",\"#9467bd\",\"#dbdb8d\",\"#c7c7c7\",\"#ffbb78\",\"#17becf\",\"#17becf\",\"#2ca02c\",\"#e377c2\",\"#d62728\",\"#17becf\",\"#e377c2\",\"#1f77b4\",\"#17becf\",\"#1f77b4\",\"#c49c94\",\"#ff9896\",\"#ffbb78\",\"#e377c2\",\"#aec7e8\",\"#c5b0d5\",\"#d62728\",\"#d62728\",\"#1f77b4\",\"#aec7e8\",\"#17becf\",\"#9edae5\",\"#e377c2\",\"#ff7f0e\",\"#dbdb8d\",\"#17becf\",\"#7f7f7f\",\"#17becf\",\"#ff9896\",\"#9edae5\",\"#e377c2\",\"#e377c2\",\"#8c564b\",\"#ff7f0e\",\"#c5b0d5\",\"#17becf\",\"#d62728\",\"#ff7f0e\",\"#d62728\",\"#17becf\",\"#d62728\",\"#7f7f7f\",\"#ffbb78\",\"#1f77b4\",\"#ffbb78\",\"#7f7f7f\",\"#2ca02c\",\"#9edae5\",\"#dbdb8d\",\"#ffbb78\",\"#17becf\",\"#1f77b4\",\"#ffbb78\",\"#7f7f7f\",\"#e377c2\",\"#ff7f0e\",\"#9edae5\",\"#e377c2\",\"#e377c2\",\"#7f7f7f\",\"#1f77b4\",\"#e377c2\",\"#d62728\",\"#dbdb8d\",\"#dbdb8d\",\"#e377c2\",\"#7f7f7f\",\"#7f7f7f\",\"#7f7f7f\",\"#ffbb78\",\"#dbdb8d\",\"#1f77b4\",\"#ffbb78\",\"#d62728\",\"#ff7f0e\",\"#17becf\",\"#ff9896\",\"#aec7e8\",\"#17becf\",\"#d62728\",\"#ff7f0e\",\"#ffbb78\",\"#17becf\",\"#17becf\",\"#17becf\",\"#c7c7c7\",\"#c5b0d5\",\"#d62728\",\"#c5b0d5\",\"#ff7f0e\",\"#c7c7c7\",\"#7f7f7f\",\"#7f7f7f\",\"#d62728\",\"#17becf\",\"#2ca02c\",\"#1f77b4\",\"#17becf\",\"#17becf\",\"#c49c94\",\"#9edae5\",\"#e377c2\",\"#ffbb78\",\"#d62728\",\"#bcbd22\",\"#ffbb78\",\"#17becf\",\"#1f77b4\",\"#ffbb78\",\"#17becf\",\"#9edae5\",\"#ff9896\",\"#c7c7c7\",\"#17becf\",\"#ffbb78\",\"#ff7f0e\",\"#17becf\",\"#9edae5\",\"#8c564b\",\"#9edae5\",\"#e377c2\",\"#ffbb78\",\"#e377c2\",\"#bcbd22\",\"#17becf\",\"#9edae5\",\"#dbdb8d\",\"#7f7f7f\",\"#e377c2\",\"#2ca02c\",\"#aec7e8\",\"#1f77b4\",\"#2ca02c\",\"#bcbd22\",\"#ff7f0e\",\"#c49c94\",\"#f7b6d2\",\"#e377c2\",\"#17becf\",\"#17becf\",\"#c5b0d5\",\"#8c564b\",\"#d62728\",\"#dbdb8d\",\"#dbdb8d\",\"#e377c2\",\"#c5b0d5\",\"#2ca02c\",\"#ff7f0e\",\"#c5b0d5\",\"#1f77b4\",\"#17becf\",\"#ffbb78\",\"#2ca02c\",\"#ff9896\",\"#c5b0d5\",\"#17becf\",\"#ffbb78\",\"#7f7f7f\",\"#dbdb8d\",\"#9edae5\",\"#ffbb78\",\"#dbdb8d\",\"#d62728\",\"#e377c2\",\"#7f7f7f\",\"#17becf\",\"#ffbb78\",\"#1f77b4\",\"#2ca02c\",\"#d62728\",\"#17becf\",\"#ff7f0e\",\"#17becf\",\"#e377c2\",\"#c5b0d5\",\"#1f77b4\",\"#17becf\",\"#17becf\",\"#dbdb8d\",\"#17becf\",\"#7f7f7f\",\"#e377c2\",\"#17becf\",\"#dbdb8d\",\"#e377c2\",\"#7f7f7f\",\"#1f77b4\",\"#ff7f0e\",\"#ff7f0e\",\"#c7c7c7\",\"#ffbb78\",\"#1f77b4\",\"#9467bd\",\"#dbdb8d\",\"#7f7f7f\",\"#9edae5\",\"#17becf\",\"#c7c7c7\",\"#9edae5\",\"#17becf\",\"#1f77b4\",\"#8c564b\",\"#c49c94\",\"#17becf\",\"#17becf\",\"#ffbb78\",\"#bcbd22\",\"#dbdb8d\",\"#2ca02c\",\"#17becf\",\"#e377c2\",\"#c5b0d5\",\"#e377c2\",\"#c5b0d5\",\"#ffbb78\",\"#17becf\",\"#d62728\",\"#7f7f7f\",\"#17becf\",\"#ffbb78\",\"#17becf\",\"#ffbb78\",\"#2ca02c\",\"#7f7f7f\",\"#aec7e8\",\"#e377c2\",\"#2ca02c\",\"#aec7e8\",\"#7f7f7f\",\"#9edae5\",\"#dbdb8d\",\"#dbdb8d\",\"#1f77b4\",\"#c49c94\",\"#ffbb78\",\"#ffbb78\",\"#9edae5\",\"#ff7f0e\",\"#e377c2\",\"#aec7e8\",\"#e377c2\",\"#1f77b4\",\"#aec7e8\",\"#17becf\",\"#7f7f7f\",\"#98df8a\",\"#8c564b\",\"#c5b0d5\",\"#17becf\",\"#c5b0d5\",\"#17becf\",\"#ff9896\",\"#d62728\",\"#7f7f7f\",\"#ff9896\",\"#ffbb78\",\"#ffbb78\",\"#17becf\",\"#d62728\",\"#c49c94\",\"#e377c2\",\"#17becf\",\"#17becf\",\"#c5b0d5\",\"#7f7f7f\",\"#9edae5\",\"#17becf\",\"#f7b6d2\",\"#17becf\",\"#c5b0d5\",\"#9edae5\",\"#e377c2\",\"#17becf\",\"#ffbb78\",\"#ffbb78\",\"#d62728\",\"#1f77b4\",\"#c7c7c7\",\"#dbdb8d\",\"#9edae5\",\"#e377c2\",\"#ff7f0e\",\"#1f77b4\",\"#ffbb78\",\"#d62728\",\"#ffbb78\",\"#dbdb8d\",\"#c5b0d5\",\"#7f7f7f\",\"#1f77b4\",\"#c49c94\",\"#17becf\",\"#c5b0d5\",\"#f7b6d2\",\"#9edae5\",\"#2ca02c\",\"#dbdb8d\",\"#17becf\",\"#1f77b4\",\"#17becf\",\"#ffbb78\",\"#dbdb8d\",\"#c7c7c7\",\"#dbdb8d\",\"#7f7f7f\",\"#dbdb8d\",\"#d62728\",\"#1f77b4\",\"#1f77b4\",\"#e377c2\",\"#ff7f0e\",\"#d62728\",\"#dbdb8d\",\"#7f7f7f\",\"#ffbb78\",\"#17becf\",\"#aec7e8\",\"#1f77b4\",\"#9edae5\",\"#ff7f0e\",\"#d62728\",\"#ff7f0e\",\"#d62728\",\"#e377c2\",\"#17becf\",\"#dbdb8d\",\"#17becf\",\"#ffbb78\",\"#17becf\",\"#ff7f0e\",\"#ffbb78\",\"#ff9896\",\"#ff7f0e\",\"#17becf\",\"#7f7f7f\",\"#dbdb8d\",\"#f7b6d2\",\"#c7c7c7\",\"#17becf\",\"#9edae5\",\"#e377c2\",\"#ff7f0e\",\"#17becf\",\"#ffbb78\",\"#bcbd22\",\"#e377c2\",\"#17becf\",\"#8c564b\",\"#2ca02c\",\"#ff7f0e\",\"#dbdb8d\",\"#ff7f0e\",\"#7f7f7f\",\"#c5b0d5\",\"#17becf\",\"#98df8a\",\"#9edae5\",\"#dbdb8d\",\"#d62728\",\"#c5b0d5\",\"#c5b0d5\",\"#c49c94\",\"#17becf\",\"#ffbb78\",\"#7f7f7f\",\"#17becf\",\"#d62728\",\"#17becf\"],\"names\":[\"the\",\"and\",\"to\",\"of\",\"a\",\"that\",\"i\",\"in\",\"it\",\"you\",\"we\",\"is\",\"s\",\"this\",\"so\",\"they\",\"was\",\"for\",\"are\",\"have\",\"but\",\"what\",\"on\",\"with\",\"can\",\"t\",\"about\",\"there\",\"be\",\"as\",\"at\",\"all\",\"not\",\"do\",\"my\",\"one\",\"re\",\"people\",\"like\",\"if\",\"from\",\"now\",\"our\",\"he\",\"an\",\"just\",\"these\",\"or\",\"when\",\"because\",\"very\",\"me\",\"out\",\"by\",\"them\",\"how\",\"know\",\"up\",\"going\",\"had\",\"more\",\"think\",\"who\",\"were\",\"see\",\"your\",\"their\",\"which\",\"would\",\"here\",\"really\",\"get\",\"ve\",\"then\",\"m\",\"world\",\"us\",\"time\",\"some\",\"has\",\"don\",\"actually\",\"into\",\"way\",\"where\",\"will\",\"years\",\"things\",\"other\",\"no\",\"could\",\"go\",\"well\",\"want\",\"been\",\"make\",\"right\",\"she\",\"said\",\"something\",\"those\",\"first\",\"two\",\"than\",\"much\",\"also\",\"look\",\"new\",\"thing\",\"little\",\"got\",\"back\",\"over\",\"most\",\"say\",\"even\",\"his\",\"life\",\"only\",\"work\",\"many\",\"take\",\"need\",\"did\",\"lot\",\"kind\",\"why\",\"good\",\"around\",\"every\",\"different\",\"down\",\"ll\",\"let\",\"her\",\"through\",\"same\",\"being\",\"come\",\"d\",\"day\",\"year\",\"three\",\"use\",\"doing\",\"put\",\"called\",\"any\",\"today\",\"percent\",\"made\",\"after\",\"thank\",\"tell\",\"great\",\"human\",\"find\",\"didn\",\"fact\",\"talk\",\"change\",\"started\",\"another\",\"idea\",\"big\",\"last\",\"own\",\"before\",\"its\",\"never\",\"should\",\"better\",\"give\",\"thought\",\"went\",\"might\",\"important\",\"000\",\"again\",\"able\",\"together\",\"still\",\"problem\",\"off\",\"next\",\"part\",\"course\",\"system\",\"him\",\"does\",\"each\",\"start\",\"show\",\"long\",\"ago\",\"story\",\"came\",\"brain\",\"few\",\"bit\",\"between\",\"used\",\"place\",\"technology\",\"women\",\"too\",\"old\",\"mean\",\"data\",\"water\",\"looking\",\"question\",\"maybe\",\"found\",\"love\",\"doesn\",\"end\",\"example\",\"10\",\"done\",\"point\",\"four\",\"real\",\"wanted\",\"ever\",\"school\",\"understand\",\"sort\",\"live\",\"call\",\"whole\",\"children\",\"always\",\"trying\",\"may\",\"person\",\"away\",\"believe\",\"feel\",\"try\",\"million\",\"working\",\"help\",\"everything\",\"five\",\"country\",\"thinking\",\"second\",\"using\",\"information\",\"money\",\"means\",\"power\",\"took\",\"times\",\"high\",\"space\",\"number\",\"kids\",\"home\",\"become\",\"create\",\"small\",\"design\",\"making\",\"best\",\"left\",\"getting\",\"future\",\"enough\",\"man\",\"quite\",\"city\",\"without\",\"sense\",\"happened\",\"comes\",\"social\",\"probably\",\"less\",\"light\",\"talking\",\"energy\",\"am\",\"building\",\"science\",\"food\",\"body\",\"told\",\"interesting\",\"ask\",\"half\",\"pretty\",\"hard\",\"play\",\"anything\",\"lives\",\"countries\",\"coming\",\"such\",\"family\",\"stuff\",\"dollars\",\"earth\",\"moment\",\"20\",\"imagine\",\"across\",\"side\",\"while\",\"saw\",\"happen\",\"once\",\"okay\",\"build\",\"having\",\"men\",\"later\",\"experience\",\"makes\",\"asked\",\"living\",\"seen\",\"says\",\"room\",\"hand\",\"simple\",\"health\",\"ways\",\"else\",\"case\",\"yet\",\"almost\",\"young\",\"days\",\"nothing\",\"care\",\"bad\",\"happens\",\"goes\",\"move\",\"states\",\"reason\",\"computer\",\"open\",\"learn\",\"africa\",\"process\",\"inside\",\"someone\",\"six\",\"far\",\"mind\",\"project\",\"remember\",\"single\",\"picture\",\"both\",\"whether\",\"problems\",\"saying\",\"community\",\"basically\",\"already\",\"within\",\"looked\",\"myself\",\"billion\",\"often\",\"possible\",\"business\",\"planet\",\"global\",\"everybody\",\"top\",\"sure\",\"public\",\"set\",\"wrong\",\"car\",\"book\",\"keep\",\"yes\",\"answer\",\"oh\",\"hope\",\"sometimes\",\"true\",\"history\",\"war\",\"guy\",\"child\",\"instead\",\"months\",\"ideas\",\"looks\",\"matter\",\"government\",\"amazing\",\"united\",\"since\",\"bring\",\"age\",\"cells\",\"job\",\"heard\",\"until\",\"face\",\"wasn\",\"100\",\"read\",\"control\",\"isn\",\"research\",\"30\",\"words\",\"u\",\"group\",\"under\",\"self\",\"somebody\",\"built\",\"state\",\"woman\",\"turn\",\"friends\",\"beautiful\",\"line\",\"knew\",\"couple\",\"order\",\"form\",\"yeah\",\"internet\",\"middle\",\"music\",\"piece\",\"nature\",\"head\",\"though\",\"stop\",\"everyone\",\"50\",\"places\",\"video\",\"learned\",\"language\",\"run\",\"night\",\"decided\",\"study\",\"word\",\"cancer\",\"taking\",\"works\",\"became\",\"exactly\",\"species\",\"society\",\"completely\",\"education\",\"against\",\"stories\",\"large\",\"share\",\"level\",\"heart\",\"america\",\"model\",\"questions\",\"gets\",\"mother\",\"god\",\"company\",\"turns\",\"ourselves\",\"happening\",\"hear\",\"art\",\"themselves\",\"must\",\"itself\",\"rather\",\"kinds\",\"students\",\"name\",\"hours\",\"disease\",\"front\",\"house\",\"huge\",\"couldn\",\"created\",\"universe\",\"ok\",\"animals\",\"american\",\"environment\",\"worked\",\"minutes\",\"ones\",\"black\",\"perhaps\",\"1\",\"past\",\"third\",\"along\",\"others\",\"finally\",\"sound\",\"early\",\"game\",\"thousands\",\"century\",\"based\",\"least\",\"per\",\"ted\",\"lots\",\"figure\",\"free\",\"guys\",\"particular\",\"happy\",\"news\",\"learning\",\"entire\",\"won\",\"gave\",\"machine\",\"india\",\"during\",\"systems\",\"air\",\"difference\",\"outside\",\"natural\",\"taken\",\"seven\",\"given\",\"changed\",\"leave\",\"cell\",\"15\",\"close\",\"behind\",\"cities\",\"full\",\"scale\",\"difficult\",\"china\",\"takes\",\"companies\",\"yourself\",\"area\",\"reality\",\"seeing\",\"easy\",\"turned\",\"cost\",\"eyes\",\"team\",\"moving\",\"population\",\"culture\",\"york\",\"hands\",\"whatever\",\"began\",\"needs\",\"terms\",\"image\",\"simply\",\"needed\",\"beginning\",\"father\",\"local\",\"realized\",\"media\",\"death\",\"parents\",\"view\",\"walk\",\"white\",\"market\",\"parts\",\"ocean\",\"economic\",\"eight\",\"powerful\",\"known\",\"week\",\"size\",\"felt\",\"humans\",\"certain\",\"spend\",\"longer\",\"phone\",\"wonderful\",\"cannot\",\"grow\",\"common\",\"center\",\"tried\",\"fish\",\"land\",\"oil\",\"political\",\"interested\",\"deal\",\"red\",\"gone\",\"amount\",\"weeks\",\"spent\",\"opportunity\",\"paper\",\"lost\",\"national\",\"quickly\",\"blue\",\"step\",\"poor\",\"green\",\"buy\",\"growth\",\"wouldn\",\"either\",\"patients\",\"sitting\",\"ability\",\"changes\",\"write\",\"challenge\",\"south\",\"low\",\"growing\",\"friend\",\"field\",\"shows\",\"2\",\"born\",\"rest\",\"climate\",\"40\",\"test\",\"street\",\"surface\",\"incredible\",\"average\",\"physical\",\"morning\",\"scientists\",\"program\",\"pay\",\"value\",\"feeling\",\"hundreds\",\"girl\",\"met\",\"behavior\",\"economy\",\"dna\",\"complex\",\"access\",\"risk\",\"animal\",\"structure\",\"feet\",\"attention\",\"areas\",\"anyone\",\"deep\",\"watch\",\"short\",\"absolutely\",\"speak\",\"brought\",\"die\",\"bottom\",\"numbers\",\"audience\",\"stage\",\"realize\",\"law\",\"images\",\"wrote\",\"understanding\",\"knowledge\",\"literally\",\"books\",\"movement\",\"ground\",\"giving\",\"eat\",\"force\",\"seems\",\"alone\",\"telling\",\"starting\",\"hold\",\"nice\",\"forward\",\"sea\",\"developed\",\"individual\",\"kid\",\"millions\",\"support\",\"miles\",\"tools\",\"running\",\"online\",\"result\",\"act\",\"medical\",\"technologies\",\"north\",\"lab\",\"development\",\"blood\",\"fear\",\"nobody\",\"map\",\"personal\",\"issue\",\"voice\",\"material\",\"key\",\"12\",\"recently\",\"theory\",\"cut\",\"cars\",\"sun\",\"fast\",\"changing\",\"playing\",\"clear\",\"especially\",\"soon\",\"girls\",\"patient\",\"choice\",\"fly\",\"creating\",\"normal\",\"discovered\",\"europe\",\"talked\",\"relationship\",\"gives\",\"generation\",\"dark\",\"type\",\"showed\",\"chance\",\"seem\",\"industry\",\"asking\",\"rate\",\"fun\",\"issues\",\"color\",\"designed\",\"hour\",\"university\",\"innovation\",\"several\",\"class\",\"computers\",\"english\",\"tiny\",\"allow\",\"save\",\"focus\",\"digital\",\"solve\",\"developing\",\"network\",\"film\",\"special\",\"wall\",\"situation\",\"baby\",\"solution\",\"reasons\",\"box\",\"knows\",\"meet\",\"dead\",\"stand\",\"begin\",\"haven\",\"impact\",\"anybody\",\"term\",\"beyond\",\"pictures\",\"please\",\"ice\",\"produce\",\"shape\",\"non\",\"resources\",\"robot\",\"cool\",\"groups\",\"likely\",\"stay\",\"available\",\"truth\",\"rights\",\"major\",\"cause\",\"evidence\",\"obviously\",\"writing\",\"experiment\",\"modern\",\"drug\",\"becomes\",\"incredibly\",\"aren\",\"bigger\",\"guess\",\"nine\",\"product\",\"drugs\",\"lived\",\"involved\",\"perfect\",\"google\",\"month\",\"effect\",\"similar\",\"putting\",\"eye\",\"pick\",\"message\",\"quality\",\"violence\",\"web\",\"evolution\",\"security\",\"office\",\"basic\",\"solar\",\"indeed\",\"general\",\"towards\",\"present\",\"drive\",\"send\",\"listen\",\"worth\",\"revolution\",\"explain\",\"hundred\",\"certainly\",\"died\",\"ready\",\"teach\",\"journey\",\"25\",\"hit\",\"walking\",\"led\",\"approach\",\"international\",\"200\",\"scientific\",\"games\",\"60\",\"potential\",\"crazy\",\"communities\",\"chinese\",\"device\",\"source\",\"camera\",\"rules\",\"sex\",\"carbon\",\"sounds\",\"boy\",\"reach\",\"starts\",\"examples\",\"west\",\"3\",\"success\",\"measure\",\"particularly\",\"software\",\"totally\",\"suddenly\",\"action\",\"college\",\"higher\",\"code\",\"eventually\",\"democracy\",\"among\",\"minute\",\"sit\",\"largest\",\"showing\",\"hospital\",\"notice\",\"period\",\"mass\",\"develop\",\"dream\",\"onto\",\"plants\",\"break\",\"add\",\"memory\",\"everywhere\",\"favorite\",\"11\",\"zero\",\"speed\",\"schools\",\"moved\",\"response\",\"wants\",\"extremely\",\"movie\",\"individuals\",\"table\",\"wait\",\"medicine\",\"follow\",\"anyway\",\"trust\",\"plant\",\"biggest\",\"watching\",\"organization\",\"creative\",\"road\",\"choose\",\"worse\",\"lead\",\"results\",\"500\",\"exciting\",\"grew\",\"materials\",\"jobs\",\"plan\",\"east\",\"poverty\",\"positive\",\"safe\",\"strong\",\"fall\",\"essentially\",\"object\",\"door\",\"son\",\"vision\",\"further\",\"happiness\",\"continue\",\"student\",\"doctor\",\"including\",\"named\",\"role\",\"objects\",\"extraordinary\",\"standing\",\"skin\",\"leaders\",\"usually\",\"african\",\"conversation\",\"projects\",\"allowed\",\"models\",\"supposed\",\"faster\",\"interest\",\"families\",\"police\",\"fight\",\"tree\",\"connected\",\"screen\",\"5\",\"cases\",\"goal\",\"somewhere\",\"finding\",\"buildings\",\"shown\"],\"x1\":{\"__ndarray__\":\"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\",\"dtype\":\"float32\",\"shape\":[1000]},\"x2\":{\"__ndarray__\":\"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\",\"dtype\":\"float32\",\"shape\":[1000]}}},\"id\":\"bb4150ee-ec66-495a-8855-92ee8e28044c\",\"type\":\"ColumnDataSource\"},{\"attributes\":{\"plot\":{\"id\":\"2b0b32f6-c7b5-416c-9851-90ff3d7d35c3\",\"subtype\":\"Figure\",\"type\":\"Plot\"},\"ticker\":{\"id\":\"9a8d7c8c-39d0-4225-a907-e4963a8e625d\",\"type\":\"BasicTicker\"}},\"id\":\"72abefc6-32ac-46cb-8b9a-f6e1b1af7f7a\",\"type\":\"Grid\"},{\"attributes\":{},\"id\":\"9085779d-774d-40ab-8078-78fc84959af2\",\"type\":\"ResetTool\"},{\"attributes\":{},\"id\":\"6608ae93-c302-43ed-afd7-a089e0d45f79\",\"type\":\"LinearScale\"},{\"attributes\":{},\"id\":\"9a74c8a5-62de-435f-85da-f9cfee2f8bb4\",\"type\":\"BasicTickFormatter\"},{\"attributes\":{},\"id\":\"9a8d7c8c-39d0-4225-a907-e4963a8e625d\",\"type\":\"BasicTicker\"},{\"attributes\":{},\"id\":\"ae7992a6-e424-4d5f-9128-42766b2aa9c4\",\"type\":\"WheelZoomTool\"},{\"attributes\":{\"fill_alpha\":{\"value\":0.1},\"fill_color\":{\"value\":\"#1f77b4\"},\"line_alpha\":{\"value\":0.1},\"line_color\":{\"value\":\"#1f77b4\"},\"size\":{\"units\":\"screen\",\"value\":8},\"x\":{\"field\":\"x1\"},\"y\":{\"field\":\"x2\"}},\"id\":\"6610c5c8-2204-4ca7-a5e0-85732aca0af5\",\"type\":\"Circle\"},{\"attributes\":{\"formatter\":{\"id\":\"9a74c8a5-62de-435f-85da-f9cfee2f8bb4\",\"type\":\"BasicTickFormatter\"},\"plot\":{\"id\":\"2b0b32f6-c7b5-416c-9851-90ff3d7d35c3\",\"subtype\":\"Figure\",\"type\":\"Plot\"},\"ticker\":{\"id\":\"5c2c42bf-a7d6-4438-9041-c887874e57fa\",\"type\":\"BasicTicker\"}},\"id\":\"3a4fc60a-c323-4048-9ebc-2a045594b03b\",\"type\":\"LinearAxis\"},{\"attributes\":{},\"id\":\"2cc3f0a3-30c9-4da3-bf2b-73f1e964208a\",\"type\":\"PanTool\"},{\"attributes\":{},\"id\":\"ed327e76-1901-4d47-b122-1122cb1f8dfb\",\"type\":\"SaveTool\"}],\"root_ids\":[\"2b0b32f6-c7b5-416c-9851-90ff3d7d35c3\"]},\"title\":\"Bokeh Application\",\"version\":\"0.12.7\"}};\n",
       "            var render_items = [{\"docid\":\"c15ef0b4-895d-4087-9e46-90b9f23358cc\",\"elementid\":\"e8f6ff3d-53e3-4ed7-84b0-2e6b64962ea1\",\"modelid\":\"2b0b32f6-c7b5-416c-9851-90ff3d7d35c3\"}];\n",
       "            \n",
       "            Bokeh.embed.embed_items(docs_json, render_items);\n",
       "          };\n",
       "          if (document.readyState != \"loading\") fn();\n",
       "          else document.addEventListener(\"DOMContentLoaded\", fn);\n",
       "        })();\n",
       "      },\n",
       "      function(Bokeh) {\n",
       "      }\n",
       "    ];\n",
       "  \n",
       "    function run_inline_js() {\n",
       "      \n",
       "      if ((root.Bokeh !== undefined) || (force === true)) {\n",
       "        for (var i = 0; i < inline_js.length; i++) {\n",
       "          inline_js[i].call(root, root.Bokeh);\n",
       "        }if (force === true) {\n",
       "          display_loaded();\n",
       "        }} else if (Date.now() < root._bokeh_timeout) {\n",
       "        setTimeout(run_inline_js, 100);\n",
       "      } else if (!root._bokeh_failed_load) {\n",
       "        console.log(\"Bokeh: BokehJS failed to load within specified timeout.\");\n",
       "        root._bokeh_failed_load = true;\n",
       "      } else if (force !== true) {\n",
       "        var cell = $(document.getElementById(\"e8f6ff3d-53e3-4ed7-84b0-2e6b64962ea1\")).parents('.cell').data().cell;\n",
       "        cell.output_area.append_execute_result(NB_LOAD_WARNING)\n",
       "      }\n",
       "  \n",
       "    }\n",
       "  \n",
       "    if (root._bokeh_is_loading === 0) {\n",
       "      console.log(\"Bokeh: BokehJS loaded, going straight to plotting\");\n",
       "      run_inline_js();\n",
       "    } else {\n",
       "      load_libs(js_urls, function() {\n",
       "        console.log(\"Bokeh: BokehJS plotting callback run at\", now());\n",
       "        run_inline_js();\n",
       "      });\n",
       "    }\n",
       "  }(window));\n",
       "</script>"
      ]
     },
     "metadata": {},
     "output_type": "display_data"
    }
   ],
   "source": [
    "glove_top_words = ted_top_words\n",
    "glove_top_vecs, glove_top_names = zip(*[(glove(word).vector, word) for word in glove_top_words])\n",
    "glove_top_vecs = np.vstack(glove_top_vecs)\n",
    "\n",
    "emb_scatter(glove_top_vecs, glove_top_names, N=20)"
   ]
  },
  {
   "cell_type": "code",
   "execution_count": 172,
   "metadata": {},
   "outputs": [
    {
     "name": "stdout",
     "output_type": "stream",
     "text": [
      "finding clusters\n",
      "fitting tsne\n"
     ]
    },
    {
     "data": {
      "text/html": [
       "\n",
       "\n",
       "    <div class=\"bk-root\">\n",
       "        <div class=\"bk-plotdiv\" id=\"49b13c30-321b-409e-b2fb-f05b92d2bdb3\"></div>\n",
       "    </div>\n",
       "<script type=\"text/javascript\">\n",
       "  \n",
       "  (function(root) {\n",
       "    function now() {\n",
       "      return new Date();\n",
       "    }\n",
       "  \n",
       "    var force = false;\n",
       "  \n",
       "    if (typeof (root._bokeh_onload_callbacks) === \"undefined\" || force === true) {\n",
       "      root._bokeh_onload_callbacks = [];\n",
       "      root._bokeh_is_loading = undefined;\n",
       "    }\n",
       "  \n",
       "  \n",
       "    \n",
       "    if (typeof (root._bokeh_timeout) === \"undefined\" || force === true) {\n",
       "      root._bokeh_timeout = Date.now() + 0;\n",
       "      root._bokeh_failed_load = false;\n",
       "    }\n",
       "  \n",
       "    var NB_LOAD_WARNING = {'data': {'text/html':\n",
       "       \"<div style='background-color: #fdd'>\\n\"+\n",
       "       \"<p>\\n\"+\n",
       "       \"BokehJS does not appear to have successfully loaded. If loading BokehJS from CDN, this \\n\"+\n",
       "       \"may be due to a slow or bad network connection. Possible fixes:\\n\"+\n",
       "       \"</p>\\n\"+\n",
       "       \"<ul>\\n\"+\n",
       "       \"<li>re-rerun `output_notebook()` to attempt to load from CDN again, or</li>\\n\"+\n",
       "       \"<li>use INLINE resources instead, as so:</li>\\n\"+\n",
       "       \"</ul>\\n\"+\n",
       "       \"<code>\\n\"+\n",
       "       \"from bokeh.resources import INLINE\\n\"+\n",
       "       \"output_notebook(resources=INLINE)\\n\"+\n",
       "       \"</code>\\n\"+\n",
       "       \"</div>\"}};\n",
       "  \n",
       "    function display_loaded() {\n",
       "      if (root.Bokeh !== undefined) {\n",
       "        var el = document.getElementById(\"49b13c30-321b-409e-b2fb-f05b92d2bdb3\");\n",
       "        if (el != null) {\n",
       "          el.textContent = \"BokehJS \" + Bokeh.version + \" successfully loaded.\";\n",
       "        }\n",
       "      } else if (Date.now() < root._bokeh_timeout) {\n",
       "        setTimeout(display_loaded, 100)\n",
       "      }\n",
       "    }\n",
       "  \n",
       "  \n",
       "    function run_callbacks() {\n",
       "      try {\n",
       "        root._bokeh_onload_callbacks.forEach(function(callback) { callback() });\n",
       "      }\n",
       "      finally {\n",
       "        delete root._bokeh_onload_callbacks\n",
       "      }\n",
       "      console.info(\"Bokeh: all callbacks have finished\");\n",
       "    }\n",
       "  \n",
       "    function load_libs(js_urls, callback) {\n",
       "      root._bokeh_onload_callbacks.push(callback);\n",
       "      if (root._bokeh_is_loading > 0) {\n",
       "        console.log(\"Bokeh: BokehJS is being loaded, scheduling callback at\", now());\n",
       "        return null;\n",
       "      }\n",
       "      if (js_urls == null || js_urls.length === 0) {\n",
       "        run_callbacks();\n",
       "        return null;\n",
       "      }\n",
       "      console.log(\"Bokeh: BokehJS not loaded, scheduling load and callback at\", now());\n",
       "      root._bokeh_is_loading = js_urls.length;\n",
       "      for (var i = 0; i < js_urls.length; i++) {\n",
       "        var url = js_urls[i];\n",
       "        var s = document.createElement('script');\n",
       "        s.src = url;\n",
       "        s.async = false;\n",
       "        s.onreadystatechange = s.onload = function() {\n",
       "          root._bokeh_is_loading--;\n",
       "          if (root._bokeh_is_loading === 0) {\n",
       "            console.log(\"Bokeh: all BokehJS libraries loaded\");\n",
       "            run_callbacks()\n",
       "          }\n",
       "        };\n",
       "        s.onerror = function() {\n",
       "          console.warn(\"failed to load library \" + url);\n",
       "        };\n",
       "        console.log(\"Bokeh: injecting script tag for BokehJS library: \", url);\n",
       "        document.getElementsByTagName(\"head\")[0].appendChild(s);\n",
       "      }\n",
       "    };var element = document.getElementById(\"49b13c30-321b-409e-b2fb-f05b92d2bdb3\");\n",
       "    if (element == null) {\n",
       "      console.log(\"Bokeh: ERROR: autoload.js configured with elementid '49b13c30-321b-409e-b2fb-f05b92d2bdb3' but no matching script tag was found. \")\n",
       "      return false;\n",
       "    }\n",
       "  \n",
       "    var js_urls = [];\n",
       "  \n",
       "    var inline_js = [\n",
       "      function(Bokeh) {\n",
       "        (function() {\n",
       "          var fn = function() {\n",
       "            var docs_json = {\"ef388b8d-3c1c-4cc5-877e-1246eb8cc329\":{\"roots\":{\"references\":[{\"attributes\":{},\"id\":\"3bbe1dcc-5aec-4a17-929e-57e0aaca14a8\",\"type\":\"ResetTool\"},{\"attributes\":{\"plot\":{\"id\":\"da8982db-32af-428f-b03e-c725fabbb92a\",\"subtype\":\"Figure\",\"type\":\"Plot\"},\"ticker\":{\"id\":\"bb36a638-9774-46d5-9ae8-8426eb8619f0\",\"type\":\"BasicTicker\"}},\"id\":\"0b73d82c-7125-4204-996a-c0c2ec09ca14\",\"type\":\"Grid\"},{\"attributes\":{},\"id\":\"b900d5ef-4832-40b5-8b9d-56e46c94340b\",\"type\":\"LinearScale\"},{\"attributes\":{},\"id\":\"bb36a638-9774-46d5-9ae8-8426eb8619f0\",\"type\":\"BasicTicker\"},{\"attributes\":{},\"id\":\"f39376f7-e774-49e2-8793-2e911ae09f26\",\"type\":\"BasicTicker\"},{\"attributes\":{},\"id\":\"76c4c6e4-0325-4bd8-ba21-8074107c5614\",\"type\":\"BasicTickFormatter\"},{\"attributes\":{\"dimension\":1,\"plot\":{\"id\":\"da8982db-32af-428f-b03e-c725fabbb92a\",\"subtype\":\"Figure\",\"type\":\"Plot\"},\"ticker\":{\"id\":\"f39376f7-e774-49e2-8793-2e911ae09f26\",\"type\":\"BasicTicker\"}},\"id\":\"c9b24114-7ced-45cd-bdba-882d17df5822\",\"type\":\"Grid\"},{\"attributes\":{},\"id\":\"20c95f2f-baeb-4efa-9d93-56f1584e4d54\",\"type\":\"BasicTickFormatter\"},{\"attributes\":{\"callback\":null},\"id\":\"1201c6c6-c8c8-4290-9e82-a5ef6c598bda\",\"type\":\"DataRange1d\"},{\"attributes\":{\"fill_color\":{\"field\":\"colors\"},\"line_color\":{\"field\":\"colors\"},\"size\":{\"units\":\"screen\",\"value\":8},\"x\":{\"field\":\"x1\"},\"y\":{\"field\":\"x2\"}},\"id\":\"5c077e17-d60f-4721-adaf-0499a78ba5bf\",\"type\":\"Circle\"},{\"attributes\":{\"callback\":null,\"column_names\":[\"x1\",\"x2\",\"names\",\"colors\"],\"data\":{\"colors\":[\"#98df8a\",\"#aec7e8\",\"#98df8a\",\"#98df8a\",\"#98df8a\",\"#98df8a\",\"#dbdb8d\",\"#9edae5\",\"#98df8a\",\"#aec7e8\",\"#98df8a\",\"#2ca02c\",\"#98df8a\",\"#aec7e8\",\"#2ca02c\",\"#dbdb8d\",\"#98df8a\",\"#dbdb8d\",\"#98df8a\",\"#2ca02c\",\"#dbdb8d\",\"#aec7e8\",\"#dbdb8d\",\"#aec7e8\",\"#2ca02c\",\"#2ca02c\",\"#2ca02c\",\"#2ca02c\",\"#17becf\",\"#2ca02c\",\"#98df8a\",\"#17becf\",\"#2ca02c\",\"#d62728\",\"#aec7e8\",\"#aec7e8\",\"#2ca02c\",\"#9467bd\",\"#aec7e8\",\"#2ca02c\",\"#d62728\",\"#bcbd22\",\"#dbdb8d\",\"#dbdb8d\",\"#d62728\",\"#2ca02c\",\"#17becf\",\"#17becf\",\"#aec7e8\",\"#2ca02c\",\"#98df8a\",\"#2ca02c\",\"#2ca02c\",\"#2ca02c\",\"#98df8a\",\"#98df8a\",\"#98df8a\",\"#ff9896\",\"#2ca02c\",\"#17becf\",\"#98df8a\",\"#2ca02c\",\"#9467bd\",\"#2ca02c\",\"#98df8a\",\"#aec7e8\",\"#9edae5\",\"#c49c94\",\"#2ca02c\",\"#2ca02c\",\"#c5b0d5\",\"#aec7e8\",\"#17becf\",\"#17becf\",\"#dbdb8d\",\"#2ca02c\",\"#aec7e8\",\"#9467bd\",\"#ff9896\",\"#2ca02c\",\"#2ca02c\",\"#7f7f7f\",\"#17becf\",\"#aec7e8\",\"#98df8a\",\"#2ca02c\",\"#aec7e8\",\"#2ca02c\",\"#98df8a\",\"#2ca02c\",\"#c5b0d5\",\"#2ca02c\",\"#c5b0d5\",\"#ff9896\",\"#9edae5\",\"#c5b0d5\",\"#2ca02c\",\"#ff9896\",\"#f7b6d2\",\"#aec7e8\",\"#f7b6d2\",\"#dbdb8d\",\"#aec7e8\",\"#aec7e8\",\"#2ca02c\",\"#aec7e8\",\"#8c564b\",\"#2ca02c\",\"#9467bd\",\"#17becf\",\"#aec7e8\",\"#ff7f0e\",\"#f7b6d2\",\"#c5b0d5\",\"#17becf\",\"#2ca02c\",\"#c5b0d5\",\"#aec7e8\",\"#ffbb78\",\"#ff7f0e\",\"#aec7e8\",\"#2ca02c\",\"#8c564b\",\"#2ca02c\",\"#2ca02c\",\"#2ca02c\",\"#dbdb8d\",\"#17becf\",\"#2ca02c\",\"#c5b0d5\",\"#2ca02c\",\"#9edae5\",\"#dbdb8d\",\"#c7c7c7\",\"#2ca02c\",\"#98df8a\",\"#8c564b\",\"#17becf\",\"#98df8a\",\"#2ca02c\",\"#98df8a\",\"#ff7f0e\",\"#d62728\",\"#2ca02c\",\"#dbdb8d\",\"#2ca02c\",\"#8c564b\",\"#2ca02c\",\"#f7b6d2\",\"#2ca02c\",\"#c49c94\",\"#98df8a\",\"#98df8a\",\"#98df8a\",\"#9467bd\",\"#c5b0d5\",\"#dbdb8d\",\"#aec7e8\",\"#2ca02c\",\"#f7b6d2\",\"#aec7e8\",\"#f7b6d2\",\"#9467bd\",\"#bcbd22\",\"#98df8a\",\"#8c564b\",\"#f7b6d2\",\"#dbdb8d\",\"#8c564b\",\"#e377c2\",\"#aec7e8\",\"#1f77b4\",\"#2ca02c\",\"#2ca02c\",\"#98df8a\",\"#ff7f0e\",\"#8c564b\",\"#f7b6d2\",\"#bcbd22\",\"#c5b0d5\",\"#8c564b\",\"#8c564b\",\"#98df8a\",\"#8c564b\",\"#ff9896\",\"#9467bd\",\"#2ca02c\",\"#aec7e8\",\"#8c564b\",\"#c7c7c7\",\"#98df8a\",\"#98df8a\",\"#bcbd22\",\"#98df8a\",\"#bcbd22\",\"#d62728\",\"#1f77b4\",\"#f7b6d2\",\"#98df8a\",\"#2ca02c\",\"#2ca02c\",\"#bcbd22\",\"#7f7f7f\",\"#bcbd22\",\"#8c564b\",\"#f7b6d2\",\"#ff9896\",\"#aec7e8\",\"#aec7e8\",\"#9467bd\",\"#f7b6d2\",\"#8c564b\",\"#c5b0d5\",\"#c5b0d5\",\"#2ca02c\",\"#dbdb8d\",\"#ff9896\",\"#aec7e8\",\"#dbdb8d\",\"#aec7e8\",\"#aec7e8\",\"#17becf\",\"#98df8a\",\"#f7b6d2\",\"#aec7e8\",\"#9edae5\",\"#2ca02c\",\"#17becf\",\"#d62728\",\"#d62728\",\"#f7b6d2\",\"#c5b0d5\",\"#ffbb78\",\"#17becf\",\"#1f77b4\",\"#c7c7c7\",\"#7f7f7f\",\"#9edae5\",\"#c5b0d5\",\"#c5b0d5\",\"#17becf\",\"#2ca02c\",\"#2ca02c\",\"#c5b0d5\",\"#98df8a\",\"#ff9896\",\"#2ca02c\",\"#2ca02c\",\"#7f7f7f\",\"#aec7e8\",\"#2ca02c\",\"#2ca02c\",\"#bcbd22\",\"#d62728\",\"#7f7f7f\",\"#f7b6d2\",\"#ff9896\",\"#c7c7c7\",\"#f7b6d2\",\"#9edae5\",\"#d62728\",\"#ff7f0e\",\"#8c564b\",\"#98df8a\",\"#2ca02c\",\"#f7b6d2\",\"#17becf\",\"#dbdb8d\",\"#ff9896\",\"#aec7e8\",\"#e377c2\",\"#aec7e8\",\"#2ca02c\",\"#bcbd22\",\"#bcbd22\",\"#9edae5\",\"#bcbd22\",\"#c5b0d5\",\"#8c564b\",\"#8c564b\",\"#98df8a\",\"#ff7f0e\",\"#c5b0d5\",\"#2ca02c\",\"#c7c7c7\",\"#c7c7c7\",\"#ff9896\",\"#98df8a\",\"#ff9896\",\"#c7c7c7\",\"#2ca02c\",\"#9edae5\",\"#aec7e8\",\"#bcbd22\",\"#dbdb8d\",\"#ffbb78\",\"#f7b6d2\",\"#bcbd22\",\"#c7c7c7\",\"#98df8a\",\"#dbdb8d\",\"#f7b6d2\",\"#dbdb8d\",\"#8c564b\",\"#aec7e8\",\"#98df8a\",\"#ff7f0e\",\"#9467bd\",\"#f7b6d2\",\"#2ca02c\",\"#ff7f0e\",\"#bcbd22\",\"#aec7e8\",\"#c5b0d5\",\"#bcbd22\",\"#c5b0d5\",\"#dbdb8d\",\"#c5b0d5\",\"#17becf\",\"#7f7f7f\",\"#aec7e8\",\"#9edae5\",\"#2ca02c\",\"#8c564b\",\"#dbdb8d\",\"#7f7f7f\",\"#bcbd22\",\"#aec7e8\",\"#ff7f0e\",\"#f7b6d2\",\"#ffbb78\",\"#9edae5\",\"#f7b6d2\",\"#2ca02c\",\"#8c564b\",\"#bcbd22\",\"#9edae5\",\"#98df8a\",\"#f7b6d2\",\"#dbdb8d\",\"#bcbd22\",\"#aec7e8\",\"#9467bd\",\"#c5b0d5\",\"#7f7f7f\",\"#f7b6d2\",\"#9edae5\",\"#2ca02c\",\"#dbdb8d\",\"#c5b0d5\",\"#aec7e8\",\"#c5b0d5\",\"#f7b6d2\",\"#c5b0d5\",\"#98df8a\",\"#dbdb8d\",\"#98df8a\",\"#aec7e8\",\"#c5b0d5\",\"#d62728\",\"#c5b0d5\",\"#dbdb8d\",\"#f7b6d2\",\"#7f7f7f\",\"#f7b6d2\",\"#c49c94\",\"#f7b6d2\",\"#98df8a\",\"#7f7f7f\",\"#2ca02c\",\"#c5b0d5\",\"#2ca02c\",\"#2ca02c\",\"#c7c7c7\",\"#aec7e8\",\"#d62728\",\"#17becf\",\"#c5b0d5\",\"#c49c94\",\"#d62728\",\"#c7c7c7\",\"#bcbd22\",\"#aec7e8\",\"#98df8a\",\"#dbdb8d\",\"#2ca02c\",\"#dbdb8d\",\"#8c564b\",\"#98df8a\",\"#2ca02c\",\"#c49c94\",\"#c5b0d5\",\"#f7b6d2\",\"#bcbd22\",\"#d62728\",\"#ff9896\",\"#c7c7c7\",\"#98df8a\",\"#d62728\",\"#c5b0d5\",\"#98df8a\",\"#c5b0d5\",\"#9467bd\",\"#c5b0d5\",\"#98df8a\",\"#17becf\",\"#dbdb8d\",\"#c7c7c7\",\"#9edae5\",\"#9467bd\",\"#98df8a\",\"#f7b6d2\",\"#bcbd22\",\"#f7b6d2\",\"#17becf\",\"#aec7e8\",\"#9edae5\",\"#ff7f0e\",\"#17becf\",\"#ff7f0e\",\"#d62728\",\"#f7b6d2\",\"#9467bd\",\"#9edae5\",\"#f7b6d2\",\"#1f77b4\",\"#c7c7c7\",\"#f7b6d2\",\"#2ca02c\",\"#dbdb8d\",\"#ff7f0e\",\"#f7b6d2\",\"#2ca02c\",\"#aec7e8\",\"#aec7e8\",\"#dbdb8d\",\"#1f77b4\",\"#ff9896\",\"#8c564b\",\"#c5b0d5\",\"#ffbb78\",\"#aec7e8\",\"#d62728\",\"#bcbd22\",\"#dbdb8d\",\"#f7b6d2\",\"#ff9896\",\"#aec7e8\",\"#e377c2\",\"#bcbd22\",\"#2ca02c\",\"#c5b0d5\",\"#dbdb8d\",\"#8c564b\",\"#2ca02c\",\"#98df8a\",\"#dbdb8d\",\"#c5b0d5\",\"#dbdb8d\",\"#ffbb78\",\"#98df8a\",\"#f7b6d2\",\"#c7c7c7\",\"#c49c94\",\"#aec7e8\",\"#2ca02c\",\"#d62728\",\"#dbdb8d\",\"#ff7f0e\",\"#9edae5\",\"#aec7e8\",\"#9467bd\",\"#aec7e8\",\"#bcbd22\",\"#c5b0d5\",\"#dbdb8d\",\"#d62728\",\"#bcbd22\",\"#c7c7c7\",\"#1f77b4\",\"#2ca02c\",\"#98df8a\",\"#dbdb8d\",\"#2ca02c\",\"#8c564b\",\"#aec7e8\",\"#c5b0d5\",\"#f7b6d2\",\"#bcbd22\",\"#98df8a\",\"#aec7e8\",\"#ff9896\",\"#2ca02c\",\"#dbdb8d\",\"#c5b0d5\",\"#ff9896\",\"#aec7e8\",\"#aec7e8\",\"#f7b6d2\",\"#c5b0d5\",\"#c7c7c7\",\"#2ca02c\",\"#aec7e8\",\"#9467bd\",\"#dbdb8d\",\"#98df8a\",\"#bcbd22\",\"#aec7e8\",\"#aec7e8\",\"#c7c7c7\",\"#dbdb8d\",\"#9edae5\",\"#9edae5\",\"#98df8a\",\"#ff9896\",\"#98df8a\",\"#c5b0d5\",\"#ffbb78\",\"#2ca02c\",\"#dbdb8d\",\"#2ca02c\",\"#17becf\",\"#c7c7c7\",\"#c49c94\",\"#2ca02c\",\"#7f7f7f\",\"#aec7e8\",\"#98df8a\",\"#17becf\",\"#7f7f7f\",\"#dbdb8d\",\"#98df8a\",\"#f7b6d2\",\"#1f77b4\",\"#c5b0d5\",\"#c5b0d5\",\"#f7b6d2\",\"#dbdb8d\",\"#aec7e8\",\"#7f7f7f\",\"#aec7e8\",\"#c7c7c7\",\"#f7b6d2\",\"#bcbd22\",\"#17becf\",\"#98df8a\",\"#f7b6d2\",\"#dbdb8d\",\"#9edae5\",\"#bcbd22\",\"#9edae5\",\"#d62728\",\"#8c564b\",\"#98df8a\",\"#f7b6d2\",\"#bcbd22\",\"#ff7f0e\",\"#1f77b4\",\"#c5b0d5\",\"#c5b0d5\",\"#2ca02c\",\"#c5b0d5\",\"#9467bd\",\"#2ca02c\",\"#aec7e8\",\"#bcbd22\",\"#2ca02c\",\"#2ca02c\",\"#c5b0d5\",\"#dbdb8d\",\"#c5b0d5\",\"#1f77b4\",\"#2ca02c\",\"#7f7f7f\",\"#ff9896\",\"#aec7e8\",\"#c49c94\",\"#98df8a\",\"#2ca02c\",\"#d62728\",\"#ff9896\",\"#aec7e8\",\"#7f7f7f\",\"#98df8a\",\"#98df8a\",\"#c5b0d5\",\"#bcbd22\",\"#98df8a\",\"#c5b0d5\",\"#2ca02c\",\"#aec7e8\",\"#1f77b4\",\"#8c564b\",\"#ff7f0e\",\"#17becf\",\"#bcbd22\",\"#ffbb78\",\"#1f77b4\",\"#17becf\",\"#aec7e8\",\"#17becf\",\"#aec7e8\",\"#9467bd\",\"#98df8a\",\"#dbdb8d\",\"#1f77b4\",\"#98df8a\",\"#dbdb8d\",\"#ff7f0e\",\"#bcbd22\",\"#8c564b\",\"#9edae5\",\"#c7c7c7\",\"#bcbd22\",\"#7f7f7f\",\"#17becf\",\"#ff7f0e\",\"#8c564b\",\"#98df8a\",\"#bcbd22\",\"#17becf\",\"#9467bd\",\"#c7c7c7\",\"#bcbd22\",\"#bcbd22\",\"#dbdb8d\",\"#2ca02c\",\"#aec7e8\",\"#9edae5\",\"#c5b0d5\",\"#aec7e8\",\"#17becf\",\"#7f7f7f\",\"#98df8a\",\"#c49c94\",\"#aec7e8\",\"#2ca02c\",\"#bcbd22\",\"#c5b0d5\",\"#bcbd22\",\"#c5b0d5\",\"#17becf\",\"#aec7e8\",\"#bcbd22\",\"#aec7e8\",\"#c49c94\",\"#aec7e8\",\"#bcbd22\",\"#dbdb8d\",\"#ffbb78\",\"#98df8a\",\"#98df8a\",\"#c5b0d5\",\"#2ca02c\",\"#c49c94\",\"#dbdb8d\",\"#2ca02c\",\"#dbdb8d\",\"#2ca02c\",\"#bcbd22\",\"#f7b6d2\",\"#c5b0d5\",\"#aec7e8\",\"#2ca02c\",\"#c49c94\",\"#dbdb8d\",\"#bcbd22\",\"#ffbb78\",\"#c49c94\",\"#1f77b4\",\"#2ca02c\",\"#bcbd22\",\"#bcbd22\",\"#98df8a\",\"#bcbd22\",\"#aec7e8\",\"#98df8a\",\"#1f77b4\",\"#aec7e8\",\"#aec7e8\",\"#c7c7c7\",\"#ff9896\",\"#aec7e8\",\"#f7b6d2\",\"#8c564b\",\"#2ca02c\",\"#ffbb78\",\"#f7b6d2\",\"#dbdb8d\",\"#dbdb8d\",\"#1f77b4\",\"#dbdb8d\",\"#98df8a\",\"#aec7e8\",\"#c7c7c7\",\"#ff7f0e\",\"#ff7f0e\",\"#bcbd22\",\"#aec7e8\",\"#bcbd22\",\"#1f77b4\",\"#ff9896\",\"#c7c7c7\",\"#9edae5\",\"#f7b6d2\",\"#7f7f7f\",\"#bcbd22\",\"#aec7e8\",\"#dbdb8d\",\"#d62728\",\"#9edae5\",\"#2ca02c\",\"#bcbd22\",\"#ffbb78\",\"#f7b6d2\",\"#2ca02c\",\"#7f7f7f\",\"#c7c7c7\",\"#c5b0d5\",\"#c49c94\",\"#aec7e8\",\"#98df8a\",\"#d62728\",\"#ff7f0e\",\"#c5b0d5\",\"#dbdb8d\",\"#1f77b4\",\"#2ca02c\",\"#aec7e8\",\"#aec7e8\",\"#9edae5\",\"#c5b0d5\",\"#98df8a\",\"#aec7e8\",\"#aec7e8\",\"#2ca02c\",\"#8c564b\",\"#8c564b\",\"#17becf\",\"#f7b6d2\",\"#ff7f0e\",\"#98df8a\",\"#c5b0d5\",\"#aec7e8\",\"#ffbb78\",\"#bcbd22\",\"#f7b6d2\",\"#ff7f0e\",\"#17becf\",\"#7f7f7f\",\"#dbdb8d\",\"#98df8a\",\"#bcbd22\",\"#dbdb8d\",\"#2ca02c\",\"#98df8a\",\"#8c564b\",\"#98df8a\",\"#ff7f0e\",\"#dbdb8d\",\"#1f77b4\",\"#d62728\",\"#c5b0d5\",\"#aec7e8\",\"#f7b6d2\",\"#98df8a\",\"#c7c7c7\",\"#2ca02c\",\"#c5b0d5\",\"#17becf\",\"#8c564b\",\"#e377c2\",\"#9edae5\",\"#2ca02c\",\"#2ca02c\",\"#98df8a\",\"#aec7e8\",\"#9467bd\",\"#e377c2\",\"#ff7f0e\",\"#c49c94\",\"#98df8a\",\"#aec7e8\",\"#c7c7c7\",\"#c5b0d5\",\"#aec7e8\",\"#aec7e8\",\"#aec7e8\",\"#7f7f7f\",\"#c7c7c7\",\"#2ca02c\",\"#1f77b4\",\"#c5b0d5\",\"#9edae5\",\"#2ca02c\",\"#dbdb8d\",\"#8c564b\",\"#7f7f7f\",\"#1f77b4\",\"#ffbb78\",\"#ff7f0e\",\"#8c564b\",\"#bcbd22\",\"#d62728\",\"#c7c7c7\",\"#9edae5\",\"#98df8a\",\"#9467bd\",\"#f7b6d2\",\"#ff9896\",\"#f7b6d2\",\"#c5b0d5\",\"#aec7e8\",\"#ff7f0e\",\"#c49c94\",\"#bcbd22\",\"#bcbd22\",\"#f7b6d2\",\"#c5b0d5\",\"#2ca02c\",\"#e377c2\",\"#c7c7c7\",\"#f7b6d2\",\"#c5b0d5\",\"#c49c94\",\"#9467bd\",\"#aec7e8\",\"#dbdb8d\",\"#ff9896\",\"#d62728\",\"#c49c94\",\"#c5b0d5\",\"#1f77b4\",\"#98df8a\",\"#aec7e8\",\"#c7c7c7\",\"#98df8a\",\"#ff7f0e\",\"#c5b0d5\",\"#98df8a\",\"#bcbd22\",\"#aec7e8\",\"#2ca02c\",\"#2ca02c\",\"#1f77b4\",\"#98df8a\",\"#aec7e8\",\"#dbdb8d\",\"#c49c94\",\"#1f77b4\",\"#aec7e8\",\"#ff7f0e\",\"#ffbb78\",\"#aec7e8\",\"#17becf\",\"#c5b0d5\",\"#c49c94\",\"#ff9896\",\"#aec7e8\",\"#7f7f7f\",\"#f7b6d2\",\"#98df8a\",\"#17becf\",\"#f7b6d2\",\"#dbdb8d\",\"#d62728\",\"#98df8a\",\"#17becf\",\"#bcbd22\",\"#c7c7c7\",\"#ff7f0e\",\"#d62728\",\"#ffbb78\",\"#2ca02c\",\"#c5b0d5\",\"#c7c7c7\",\"#dbdb8d\",\"#c49c94\",\"#c49c94\",\"#c7c7c7\",\"#bcbd22\",\"#aec7e8\",\"#c49c94\",\"#bcbd22\",\"#8c564b\",\"#2ca02c\",\"#f7b6d2\",\"#aec7e8\",\"#dbdb8d\",\"#aec7e8\",\"#c49c94\",\"#aec7e8\",\"#c5b0d5\",\"#7f7f7f\",\"#dbdb8d\",\"#98df8a\",\"#d62728\",\"#8c564b\",\"#aec7e8\",\"#98df8a\",\"#dbdb8d\",\"#c49c94\",\"#9467bd\",\"#aec7e8\",\"#dbdb8d\",\"#c7c7c7\",\"#9edae5\",\"#ff9896\",\"#bcbd22\",\"#17becf\",\"#ffbb78\",\"#aec7e8\",\"#bcbd22\",\"#1f77b4\",\"#bcbd22\",\"#ffbb78\",\"#f7b6d2\",\"#aec7e8\",\"#8c564b\",\"#c7c7c7\",\"#2ca02c\",\"#7f7f7f\",\"#98df8a\",\"#f7b6d2\",\"#c5b0d5\",\"#2ca02c\",\"#bcbd22\",\"#ff9896\",\"#bcbd22\",\"#f7b6d2\",\"#dbdb8d\",\"#aec7e8\",\"#dbdb8d\",\"#1f77b4\",\"#7f7f7f\",\"#bcbd22\",\"#aec7e8\",\"#2ca02c\",\"#ff7f0e\",\"#d62728\",\"#ff7f0e\",\"#2ca02c\",\"#aec7e8\",\"#c5b0d5\",\"#2ca02c\",\"#9467bd\",\"#aec7e8\",\"#2ca02c\",\"#9edae5\",\"#7f7f7f\",\"#1f77b4\",\"#c5b0d5\",\"#aec7e8\",\"#1f77b4\",\"#aec7e8\",\"#c5b0d5\",\"#c5b0d5\",\"#2ca02c\",\"#aec7e8\",\"#c7c7c7\",\"#bcbd22\",\"#8c564b\",\"#aec7e8\",\"#aec7e8\",\"#98df8a\",\"#2ca02c\",\"#d62728\",\"#98df8a\",\"#dbdb8d\",\"#bcbd22\",\"#1f77b4\",\"#2ca02c\",\"#f7b6d2\",\"#9edae5\",\"#c5b0d5\",\"#ff7f0e\",\"#2ca02c\",\"#c7c7c7\",\"#98df8a\",\"#8c564b\",\"#aec7e8\",\"#dbdb8d\",\"#aec7e8\",\"#c5b0d5\",\"#bcbd22\",\"#dbdb8d\",\"#98df8a\",\"#1f77b4\",\"#c5b0d5\",\"#98df8a\",\"#aec7e8\",\"#c7c7c7\",\"#2ca02c\",\"#1f77b4\",\"#ff7f0e\",\"#d62728\",\"#2ca02c\",\"#c49c94\",\"#2ca02c\",\"#c5b0d5\"],\"names\":[\"the\",\"of\",\"and\",\"in\",\"to\",\"a\",\"was\",\"s\",\"on\",\"as\",\"for\",\"that\",\"with\",\"by\",\"is\",\"his\",\"at\",\"he\",\"from\",\"it\",\"were\",\"an\",\"had\",\"which\",\"be\",\"this\",\"but\",\"are\",\"first\",\"not\",\"their\",\"after\",\"one\",\"her\",\"also\",\"its\",\"they\",\"two\",\"or\",\"have\",\"who\",\"new\",\"been\",\"has\",\"she\",\"when\",\"time\",\"during\",\"other\",\"would\",\"into\",\"all\",\"i\",\"more\",\"while\",\"over\",\"him\",\"game\",\"only\",\"later\",\"up\",\"most\",\"three\",\"about\",\"out\",\"between\",\"th\",\"than\",\"there\",\"some\",\"film\",\"may\",\"before\",\"year\",\"made\",\"no\",\"such\",\"second\",\"season\",\"where\",\"world\",\"war\",\"years\",\"both\",\"then\",\"however\",\"used\",\"being\",\"through\",\"them\",\"song\",\"these\",\"series\",\"against\",\"m\",\"album\",\"many\",\"team\",\"city\",\"part\",\"north\",\"became\",\"number\",\"including\",\"can\",\"several\",\"united\",\"well\",\"four\",\"early\",\"under\",\"state\",\"south\",\"music\",\"day\",\"so\",\"episode\",\"following\",\"said\",\"states\",\"known\",\"although\",\"american\",\"could\",\"did\",\"work\",\"began\",\"until\",\"because\",\"released\",\"like\",\"t\",\"called\",\"high\",\"people\",\"end\",\"british\",\"since\",\"around\",\"long\",\"each\",\"national\",\"life\",\"if\",\"found\",\"best\",\"september\",\"same\",\"west\",\"us\",\"million\",\"back\",\"along\",\"another\",\"five\",\"show\",\"took\",\"use\",\"you\",\"km\",\"any\",\"area\",\"final\",\"group\",\"off\",\"august\",\"century\",\"received\",\"october\",\"school\",\"due\",\"john\",\"what\",\"will\",\"line\",\"government\",\"june\",\"east\",\"system\",\"single\",\"march\",\"july\",\"home\",\"november\",\"games\",\"third\",\"much\",\"general\",\"april\",\"large\",\"set\",\"down\",\"major\",\"left\",\"based\",\"family\",\"york\",\"house\",\"place\",\"just\",\"we\",\"company\",\"army\",\"history\",\"december\",\"road\",\"played\",\"included\",\"name\",\"six\",\"king\",\"january\",\"band\",\"character\",\"now\",\"wrote\",\"won\",\"according\",\"led\",\"main\",\"within\",\"last\",\"own\",\"near\",\"described\",\"d\",\"those\",\"times\",\"men\",\"death\",\"river\",\"video\",\"named\",\"next\",\"st\",\"air\",\"battle\",\"de\",\"release\",\"record\",\"late\",\"still\",\"make\",\"original\",\"top\",\"league\",\"way\",\"very\",\"ship\",\"species\",\"even\",\"great\",\"production\",\"man\",\"force\",\"route\",\"club\",\"small\",\"storm\",\"u\",\"old\",\"public\",\"february\",\"again\",\"though\",\"built\",\"days\",\"held\",\"play\",\"among\",\"university\",\"further\",\"do\",\"role\",\"service\",\"b\",\"division\",\"book\",\"french\",\"german\",\"side\",\"members\",\"story\",\"having\",\"white\",\"power\",\"match\",\"point\",\"player\",\"water\",\"often\",\"h\",\"order\",\"career\",\"continued\",\"former\",\"park\",\"local\",\"black\",\"without\",\"came\",\"town\",\"despite\",\"england\",\"considered\",\"take\",\"party\",\"half\",\"island\",\"few\",\"county\",\"support\",\"form\",\"songs\",\"development\",\"version\",\"moved\",\"written\",\"period\",\"military\",\"different\",\"c\",\"become\",\"english\",\"lost\",\"forces\",\"building\",\"given\",\"court\",\"tropical\",\"president\",\"ii\",\"country\",\"little\",\"london\",\"international\",\"re\",\"my\",\"church\",\"gave\",\"performance\",\"similar\",\"lead\",\"tour\",\"attack\",\"street\",\"n\",\"never\",\"returned\",\"track\",\"using\",\"published\",\"royal\",\"produced\",\"short\",\"went\",\"position\",\"class\",\"recorded\",\"children\",\"television\",\"stated\",\"land\",\"aircraft\",\"highway\",\"total\",\"western\",\"run\",\"ships\",\"good\",\"live\",\"making\",\"how\",\"control\",\"include\",\"father\",\"week\",\"star\",\"per\",\"women\",\"fire\",\"throughout\",\"upon\",\"right\",\"once\",\"love\",\"himself\",\"australia\",\"head\",\"me\",\"less\",\"characters\",\"central\",\"design\",\"age\",\"players\",\"light\",\"instead\",\"young\",\"title\",\"away\",\"writing\",\"seven\",\"rock\",\"across\",\"months\",\"remained\",\"red\",\"r\",\"ten\",\"return\",\"sea\",\"developed\",\"station\",\"previous\",\"result\",\"ft\",\"political\",\"night\",\"law\",\"died\",\"southern\",\"eight\",\"e\",\"hurricane\",\"james\",\"low\",\"center\",\"too\",\"reported\",\"office\",\"areas\",\"felt\",\"noted\",\"various\",\"eventually\",\"william\",\"race\",\"america\",\"style\",\"announced\",\"created\",\"son\",\"field\",\"reached\",\"miles\",\"win\",\"act\",\"college\",\"construction\",\"should\",\"award\",\"sent\",\"japanese\",\"seen\",\"together\",\"followed\",\"performed\",\"served\",\"member\",\"full\",\"northern\",\"range\",\"level\",\"common\",\"able\",\"killed\",\"taken\",\"campaign\",\"mm\",\"works\",\"points\",\"action\",\"established\",\"chart\",\"originally\",\"born\",\"success\",\"body\",\"george\",\"others\",\"front\",\"appeared\",\"thought\",\"australian\",\"modern\",\"features\",\"located\",\"project\",\"post\",\"special\",\"playing\",\"get\",\"started\",\"stage\",\"football\",\"caused\",\"addition\",\"bridge\",\"critics\",\"feet\",\"rather\",\"present\",\"fourth\",\"decided\",\"behind\",\"site\",\"formed\",\"added\",\"heavy\",\"sold\",\"o\",\"f\",\"every\",\"championship\",\"go\",\"popular\",\"director\",\"strong\",\"saw\",\"see\",\"completed\",\"damage\",\"population\",\"almost\",\"command\",\"important\",\"close\",\"soon\",\"fleet\",\"initially\",\"open\",\"eastern\",\"david\",\"art\",\"awards\",\"kingdom\",\"opened\",\"non\",\"guns\",\"case\",\"ground\",\"region\",\"leading\",\"weeks\",\"free\",\"coast\",\"worked\",\"mi\",\"working\",\"l\",\"mother\",\"france\",\"towards\",\"hall\",\"event\",\"union\",\"michael\",\"recording\",\"scene\",\"ever\",\"sound\",\"scored\",\"help\",\"provided\",\"training\",\"least\",\"wanted\",\"records\",\"brought\",\"featured\",\"henry\",\"either\",\"navy\",\"cup\",\"allowed\",\"average\",\"put\",\"does\",\"wife\",\"victory\",\"generally\",\"troops\",\"hit\",\"placed\",\"studio\",\"events\",\"runs\",\"magazine\",\"far\",\"example\",\"washington\",\"europe\",\"council\",\"mid\",\"designed\",\"joined\",\"co\",\"summer\",\"human\",\"hours\",\"list\",\"nine\",\"opening\",\"believed\",\"robert\",\"start\",\"replaced\",\"official\",\"media\",\"japan\",\"al\",\"base\",\"involved\",\"squadron\",\"earlier\",\"police\",\"european\",\"rest\",\"operation\",\"minutes\",\"finished\",\"brown\",\"society\",\"successful\",\"met\",\"saying\",\"possible\",\"x\",\"radio\",\"significant\",\"month\",\"crew\",\"shot\",\"highest\",\"particularly\",\"big\",\"largest\",\"review\",\"association\",\"films\",\"beginning\",\"test\",\"process\",\"available\",\"mph\",\"change\",\"research\",\"forced\",\"captain\",\"taking\",\"outside\",\"cast\",\"better\",\"increased\",\"turned\",\"come\",\"ended\",\"must\",\"social\",\"stone\",\"reviews\",\"section\",\"real\",\"lower\",\"passed\",\"community\",\"praised\",\"units\",\"san\",\"going\",\"business\",\"relationship\",\"middle\",\"future\",\"appearance\",\"move\",\"charles\",\"above\",\"thus\",\"space\",\"goal\",\"additional\",\"hill\",\"canada\",\"enough\",\"chief\",\"winds\",\"ordered\",\"previously\",\"thomas\",\"signed\",\"cross\",\"elements\",\"gold\",\"rights\",\"board\",\"program\",\"positive\",\"staff\",\"california\",\"round\",\"parts\",\"g\",\"lake\",\"infantry\",\"critical\",\"interest\",\"spent\",\"female\",\"don\",\"give\",\"plan\",\"told\",\"castle\",\"find\",\"gun\",\"lines\",\"musical\",\"overall\",\"type\",\"attempt\",\"brother\",\"committee\",\"directed\",\"failed\",\"paul\",\"money\",\"groups\",\"required\",\"v\",\"news\",\"hand\",\"evidence\",\"itself\",\"sometimes\",\"india\",\"germany\",\"prior\",\"grand\",\"district\",\"entire\",\"cover\",\"term\",\"asked\",\"personal\",\"port\",\"election\",\"reception\",\"battalion\",\"whose\",\"room\",\"study\",\"claimed\",\"already\",\"complete\",\"uk\",\"our\",\"bill\",\"introduced\",\"smith\",\"whom\",\"plot\",\"background\",\"square\",\"turn\",\"green\",\"usually\",\"novel\",\"past\",\"indian\",\"students\",\"p\",\"person\",\"idea\",\"quickly\",\"limited\",\"score\",\"education\",\"governor\",\"loss\",\"press\",\"effects\",\"speed\",\"stars\",\"response\",\"movement\",\"issue\",\"flight\",\"surface\",\"food\",\"ny\",\"debut\",\"k\",\"especially\",\"arrived\",\"anti\",\"commander\",\"peter\",\"minister\",\"decision\",\"britain\",\"services\",\"woman\",\"blue\",\"la\",\"mark\",\"fifth\",\"village\",\"teams\",\"bay\",\"shows\",\"structure\",\"department\",\"larger\",\"industry\",\"operations\",\"queen\",\"episodes\",\"becoming\",\"science\",\"earth\",\"centre\",\"voice\",\"length\",\"remaining\",\"material\",\"carried\",\"defeated\",\"living\",\"estimated\",\"writer\",\"richard\",\"cut\",\"latter\",\"pressure\",\"car\",\"civil\",\"scenes\",\"leaving\",\"commercial\",\"changes\",\"god\",\"might\",\"virginia\",\"running\",\"suggested\",\"entered\",\"nearly\",\"los\",\"influence\",\"report\",\"appointed\",\"depression\",\"date\",\"pop\",\"approximately\",\"winning\",\"language\",\"naval\",\"empire\",\"view\",\"shortly\",\"islands\",\"finally\",\"child\",\"self\",\"today\",\"network\",\"dark\",\"proposed\",\"daughter\",\"leader\",\"course\",\"tracks\",\"hot\",\"destroyed\",\"higher\",\"percent\",\"wide\",\"experience\",\"current\",\"size\",\"provide\",\"spanish\",\"fact\",\"railway\",\"nature\",\"subsequently\",\"lack\",\"compared\",\"intended\",\"producer\",\"brigade\",\"immediately\",\"face\",\"married\",\"soviet\",\"supported\",\"regular\",\"agreed\",\"cost\",\"awarded\",\"whether\",\"helped\",\"natural\",\"nd\",\"fans\",\"contract\",\"planned\",\"manager\",\"related\",\"professional\",\"chicago\",\"health\",\"officer\",\"museum\",\"create\",\"chinese\",\"upper\",\"longer\",\"soldiers\",\"your\",\"fort\",\"guitar\",\"done\",\"trade\",\"ball\",\"plans\",\"buildings\",\"captured\",\"appear\",\"changed\",\"jackson\",\"corps\",\"private\",\"associated\",\"yet\",\"federal\",\"friends\",\"officers\",\"something\",\"effect\",\"feature\",\"mostly\",\"singles\",\"remains\",\"themselves\",\"cm\",\"regiment\",\"edward\",\"billboard\",\"initial\",\"lord\",\"countries\",\"lyrics\",\"books\",\"probably\",\"extended\",\"mixed\",\"key\",\"pacific\",\"numerous\",\"minor\",\"moving\",\"really\",\"friend\",\"forward\",\"got\",\"information\",\"johnson\",\"always\",\"location\",\"j\",\"copies\",\"issued\",\"difficult\",\"energy\",\"leave\",\"atlantic\",\"status\",\"ran\",\"includes\",\"singer\",\"conference\",\"suffered\",\"via\",\"christian\",\"dance\",\"pass\",\"problems\",\"unit\",\"likely\",\"florida\",\"meeting\",\"dead\",\"know\",\"increase\",\"fight\",\"edition\"],\"x1\":{\"__ndarray__\":\"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\",\"dtype\":\"float32\",\"shape\":[1000]},\"x2\":{\"__ndarray__\":\"oDASwWS2EMH1l1rBEuoEwROuMUAFD9TAVJaTQXEr98FYJrLACHlFwKJQbsEVs6E+gCBgwRf0ZcE8YItAS/X+QZ/FEUGQWPZBhRfpwC23bcAi4+tA+F7jwPcEjkFYnTE/TldZQLP0jsAGaeO/cq2IQE1askF1XmQ/uiRQwV6CXEGmmLvA5TP3Qf721z+nL6PBevBuQDHKlkF6pJLAfeuZQAR510GlhhnA+8DMQLXDsUDlu/ZBSwkiQfc3MUEI3lhB+SkywdDVHED/A/LAt605wZL5CMLfGqfAnKARQRsHtcC9MvlBKLwfQgdDBcCWb2hBMdaUwL/yX8H3DppBF0cpwHm4jsD7PXXBuJQSwlr/jcD6x8i/yXAywWNam0Gb5ypATk1XQTtbg0EDb4BASqqLwXBXN8G/XbZBhuiLQQblIcGqGJjBfeOoQbodhkGm9gXBgy4uQfZC8z85J5DBMEOlQBsZAMFSIkXBigEsQqb9RcGK5jFBM5/QQBnZDMLb1CxCDidOwcnWA0Ih1TTB7l4swWAbhcHYErNBdkZnwVMUUMHAcARAJ35IwayA68HZ9gjBhWafQXvCK0Gb3zrB7JmIvz9qh8FdjSxCsudUQfBtd8AEXOpBKl2HQeT6e0GZRpW/ApGlQX3lBkDJo/DBiWUWQC4iZEFXcMnBWYKDQRpUSEHoLIy/NQysQY2Cn8CkmgrCd3SlQazlDUHOflPBEdkOQCvm9sEv5n5BOQ7DwI20ysFIOQpB9hm5wfzzCcHmWgy9FnfzQCS+GcE/lCPCYGFdwOe8hcFrEynBqIoRQQBD5b+edzzB/MHEwKC1nEGHP5dAk/KTQfI/ksHf0qc95kRpwdLJusAnTy/B1NPAQa43VMELg2TAnfsgwv5v5EAX78ZBFPgfwiLevkBZJKBA76Mfwt8D+7/W3BhAX06SwbPmo0BwwhzCFnOCwdCGs8Eqr8NAXAQdwoihHcI/ZM+/7dYlwk/SH0LM+LhBXHmMwOtJjcCIcSXC9o66wQKNgsBlU4bAKnbPPlxXGT9B0xPB6EELQrl4D8KPpuG/XSLHwI0enb+KX/u+/j66wd8mqEFaP/xAhYwkwjgKgsHNlRxCrmFcwZ6wskGCI6FBnmjfwaTVHsLpVjZCwUcPQcpwCkEw2FBBh+X7QTTlP0FlIT5Bjj1EweEeB8HMv3NBd+lVwQw0EcGOX0lB1uQSwub4RcGLsS9BNef2QbKJJULdvZ3BfQK6QOJbr0G6rGVBwZYYwmUvZsENOKxBiVrowS05rEEjmxJCdrIqQVrjUb1/1B5ARQGBQTCJK8HQdQpCMB/ev0dSw8AVwmFBrg8Iwfo0BsBAagDB4/OUQSVl+0FuirxBa+pwwcEqDEIFmrjBQitWQPpLCcLM175BTzFGv+sbIcL8aUFB1tnAv7zsX8B1kl9BJBLQQeejHEJMY2TBJ3DQQNnS8r6MqHc+6mMHwFy0s8GKgRrCVu7VQfvcbkH0D+fBTYbnwfxeNcBL6O9Bp6NKQdJ6tkCwwRPCA9upwft5yUF9E4RAgTcVQhCyYMG4reTA9EkSwlRug0ATGrvAe4mFQbEBvUGShY3Bq3UmwYsrFMLYXYbBnNqXQcWQOcGxl7JAcDkCwqsvFMAsh78/QVtqwSBF5r/lmJTBo9c3wVIZJsEh6dHBKSSYwJlGLELYlQ3Bu794QYtFoUHzZ0BBP3E2QcO2pEG2pirBANIZwnYeuL8ESuDBnU3NQfxGu0GTR4/AXm9TQORF8D+dVp/ByRjNQXX8HsL2H6jBIUa1wM+gBsJ3gLjB+A3xwWP5zsB1JTPCGkeQQdCRBsHE6gTB0xBAQRI1s0AeeglBQGSNwcbXEcKa45xA9Zy1QUojIEKCmZPBWMZMQXKp28GdnpVB2Y7MwZc/lEEslR9AvjObQdPwEUISCwpCJJTewN5cc0E11C/B1ChyQRt1gsFYfSNBx4hvwbEE2kFNt2FBdrX2wJwKhkDFUU9AI2AFwA9Gs8FQxlHB/xEQQkS4akGoVEhAM3sPQS2990HrFo/B3p8bwfChjMF4H9w85kI9QfeExMBgw/tBhk8Bwo87NMCeDsDArkCWwCtxD0Edfz7BwRkTwVGlAEKqLRVCvh8Lwu18rcBAcPJBymC7QYOnMsDQ3z1BMI2jQVkWOULZKCrBy+tzQYBHnUFHdg/CtrwRwvFomkHfmbdBR0aZwf/iAMFhzf7AeLdEQVbMaUDuzsHBIXs3QGdBS0ELO8JA4HoiQnIpgcE3NKZB8lgGwgWjW0Ct6RzCo+cTQfO888COBo/ADLtqQTVq28E/6C7BqGtKQVlPZ0G3WD/Bz2xcQcmeGsIOEeZBP4bwwS3KicG4h5dBZ4KswAGrEULjC2jB+7aUQfCia8GFlfhBHtcLwB4Ty0Db9Z3AJVAJQGbwCkKNyMRBdLXWwcVZw0C9vVPBqFaFQV2sSkHEtKBBEc/vQd2bjsHVcoDB92HjwcLdAUE4+BDBss0VQCDdJ0LOCbJBs4bbP8Ks/MHgLs7BOBiPQFA5ib+XoenART6CQGrxQEGyih5CsGaywNtfucHsZR3CPihDwQJWOsArvfZAoARJQQv0/MGUSYbBT1pVwSJ1FcHYkRfBb8yMwMCYgMEtihxCmTLiPvF1gUGoUtfAWPELQumztEDWpmHBUIpOwTRpAEFuFLbBMVigwFUWN79vO7pBlYR7QW4jgcBzGgvB0h8mQfxCb0Fir2/BRv5jQQFoBsLZQRPCJ6ENQef6/0Fw8L0+xs9uwR+nt0HMVubATKSFQUKwAMAT1a1B0RvGQBCWMkEQJCJBu6m/QZH8AsD0SAfBUGpRQcsmd0HMJzxBUwLCQZNRdsHOoCHCj2HjwVJdC0ImVOTBNYC7QZ33lsHtTdlA0jmXP4rHTMEhEUXBVk5GQQBIbUHPHJfBH7mTwZMiwsEdxXXBOrrFwY77D8I4CRNCtmX8wcoDA8B+c4HAQtv+QRfX5MF0YCHCvwESQrXjZEFwn6pAFrsEQFlqxkGpCvE/qleIwSLvqcEwqFXAN8R0QS2SEkLc2Z1B3iMZQbEQGMKOXY7AiYyRQZTTLMF8LsNApd0dQZFRU8CntcK+S/0VQj+880G98ATBS0quQctggMD+Kp1BJanFwb8p/0FnZ9lBarwVQTMqKcB8udjAZdcKwmuq9sFW98lBrBgbQXf1C8HVbLNBMh4Swsc2gkFSa1vBCR9SQXoXnsGfJahBSZW9QQsmE0GbpR3CUA/+QBzip0G+2JpBRTMvQFRI2cE4AgLCLQZIwXW1rL99rJRBrxBvQcJ45UE95PDBb72Gv1ls1MFTjEtBoLetQbahEMJi4aa/JhKywLX1nUFGfGRBQL0ovwdhAMLSquzAk8ybvt+5c0GXdnBB/wm6QYmu+0D6NPfAT76jwR6nA7+DBQfCRfTIwdhQm0HTwjpBcDVMQJ36lUB0QIvBw1UsQPfcmEEtajzBI5zwQK/zfUF4F9c/RBPqwG2y6kBn6uXAeQIZQcKalEHMPRNAxayGQRT9H0C3wa+/fCmfwRUDB8IgSCnB3mKbQMcyFkFAlp9BHUADwGcpCUFiC/TB74ALwng7Gj7B2rnBcUQdwGBpvT+145y/e4HeQKnMqT+m0BfCiHIQwZ6o0z4+7MbACzXiQe+Tb8FVeZDBDnMDwsbqXsDYsc9B9U5HQOmxikFQ4EZBYFkZwiwBikH8qDPB693MwNsxEsLG1rpA0pWewHshmkHQRha/6VTRwbDVCcKlaafAwos3wd5xF8LZUZ3BlqejQZhv0r+ZnJK+coGVQQdBAEJ8eQbCbP7APw1+eUEhoYBBsWfGwdrT3749pdlAFF6SwXcKLULs/97A7QDpwFp540EmLw5Cex/LQQBDtkGZi+NBznIkwl78pD8kTFTB66ggQN/zH8KEDmlA6lC5v9oVLkB38ZrBCXjdwIxd2sGztPPBb+lqQVdshcDi0ynB9GIgwX8LSsFbYDTA7IKBQeVkZcFA5FrBJSYiQNwRj8BZKqVBuPTOQXXTgcCfkDjBRnkVQRcfyEDdcozB778EwhWCOsH5bedA57MqQU/tGsLcatdBU1dEQfjRgMHDUrHBf7kovxf4DMLSivzAKyFdQVcPCUGcK9nBb+6pQOOUGMJCiJdAZGs8QVmHOkH4PorBedPGQWr6xkDs8ZW+ADPTQdQ+UUAGj8jAMUsWQFVKSEC29ypAIUDpP4HTjkBnk21BWK5owA4SBcH+6xDCcQItQsjeF8KtkfvAYYmiQT7RnsEmq7RB6kcjwr5JvkGuFDBArjb/wTbrs8Esa/xBs1AQwvxx6MFiJ8ZAV9a5QaMhQcG+NgRC0cuawQlxm0AQPsXA+iPZwbaUwMEv5LfBLXvUwWIA38GqZOpBclG4v1DaS8EVBJLBhIv0wCqk/z8cI9LBJiWAvwX3lMAkl6lBc7DrQcfiEcEmByxB4hg3QXguH8Iu0C/AVF6NP2pyKEEdTYDB/ba5QLnNZEE5Lbo//pWewbYhl0HWduHBgSDtPxxvCMLKONhBJ8RhQe1bsUF2XiNBs+4Lwvevhj329GtB0gbIQa7KuMCePVJBuvc5Qi4CMUFO+fxBlvrfwaYglEGziOfBc4IowA+vXUFtFpTB179hQWsLCkL4WV7BUHkTQSCwr8HIFA3C5M9xQXt4FELCIlBBrwmkwc5AIELF85/B+X/BQan0D0E4NAhB5rriwc1DGcEFvE9BOuzGwdybiMHKfeDBNcw6QNijBcE3PnHBUpVDQQ7XikAae5fAZRfwwDc+nEEIL6hBaS85QfQsh0FDZBpCqijpwavn0cECECjBsXGDQWXYhcHk4glC0milP4tKakFGYnjB0kwSwkuSC8FgjodBr0aDQdFdwUH7BzbB42cmwbAvDsJ4ZV3ADvfeQRmV5MHd3anAGX3RwTOUdUBjQcDBXDCuQRQlPMH5v8jBkMoyQgYzsD7EE7LB8WfPvoVafEHQQZbAhCKwQfUe70B3yZ9BLogfwg8xqkEX8kS/YtolwSJLwr8mprFAmZ8HQiZ74kEaL3jA84DIwAjyVMGmvQvBbUnGQPcinEHZkFDBfW7+wVivn0ECZB3C79jLQFzXNkGZeOHBvUCowfg8KEJKKXFBSNYhPwz0wcGG/xTBgfQ6wHHz+8H+C07BAgSSP9cHpD+aRnnAhVIHQrU6pz5l04NBbFCHweizF8Jyk39AyecOwWboFMKQaXpBHxSFQVjWmsBUMqnB7l26PzUS/cGK1J5B3aPUQSuaVcGrojNCjKTQQY24yUCzlAfBZYovwi3TKEJQdaFBtV2fwEfu88GtzJ0/JWkHwujyzkFxLSdCdfCRv5yYGEHgPaxBCpdiQQ==\",\"dtype\":\"float32\",\"shape\":[1000]}}},\"id\":\"8a50ffdc-161b-4fd3-a316-104bccf05ef5\",\"type\":\"ColumnDataSource\"},{\"attributes\":{},\"id\":\"62bd2649-5c58-43fa-8e7a-ad480d13e07d\",\"type\":\"WheelZoomTool\"},{\"attributes\":{\"formatter\":{\"id\":\"76c4c6e4-0325-4bd8-ba21-8074107c5614\",\"type\":\"BasicTickFormatter\"},\"plot\":{\"id\":\"da8982db-32af-428f-b03e-c725fabbb92a\",\"subtype\":\"Figure\",\"type\":\"Plot\"},\"ticker\":{\"id\":\"bb36a638-9774-46d5-9ae8-8426eb8619f0\",\"type\":\"BasicTicker\"}},\"id\":\"90467a43-c82f-47f3-8998-4d52ddc73f5f\",\"type\":\"LinearAxis\"},{\"attributes\":{\"formatter\":{\"id\":\"20c95f2f-baeb-4efa-9d93-56f1584e4d54\",\"type\":\"BasicTickFormatter\"},\"plot\":{\"id\":\"da8982db-32af-428f-b03e-c725fabbb92a\",\"subtype\":\"Figure\",\"type\":\"Plot\"},\"ticker\":{\"id\":\"f39376f7-e774-49e2-8793-2e911ae09f26\",\"type\":\"BasicTicker\"}},\"id\":\"7b03ca9d-c8f7-40fe-b25e-80056949aa17\",\"type\":\"LinearAxis\"},{\"attributes\":{\"fill_alpha\":{\"value\":0.1},\"fill_color\":{\"value\":\"#1f77b4\"},\"line_alpha\":{\"value\":0.1},\"line_color\":{\"value\":\"#1f77b4\"},\"size\":{\"units\":\"screen\",\"value\":8},\"x\":{\"field\":\"x1\"},\"y\":{\"field\":\"x2\"}},\"id\":\"c2b8246b-2bd2-4891-8401-9261ba4d3822\",\"type\":\"Circle\"},{\"attributes\":{},\"id\":\"de278064-e4e6-4404-bc01-3d51fee4df48\",\"type\":\"LinearScale\"},{\"attributes\":{\"below\":[{\"id\":\"90467a43-c82f-47f3-8998-4d52ddc73f5f\",\"type\":\"LinearAxis\"}],\"left\":[{\"id\":\"7b03ca9d-c8f7-40fe-b25e-80056949aa17\",\"type\":\"LinearAxis\"}],\"renderers\":[{\"id\":\"90467a43-c82f-47f3-8998-4d52ddc73f5f\",\"type\":\"LinearAxis\"},{\"id\":\"0b73d82c-7125-4204-996a-c0c2ec09ca14\",\"type\":\"Grid\"},{\"id\":\"7b03ca9d-c8f7-40fe-b25e-80056949aa17\",\"type\":\"LinearAxis\"},{\"id\":\"c9b24114-7ced-45cd-bdba-882d17df5822\",\"type\":\"Grid\"},{\"id\":\"86e4058d-06e5-4746-8113-e9f408a16908\",\"type\":\"GlyphRenderer\"},{\"id\":\"1f6f2976-0fa2-4579-9bbe-5d42b979b5f8\",\"type\":\"LabelSet\"}],\"title\":{\"id\":\"8678b013-50cb-4329-a48d-7a8fd2e4486c\",\"type\":\"Title\"},\"toolbar\":{\"id\":\"7de8b1d6-fccb-4b9c-9a8b-76d9a0b8bd87\",\"type\":\"Toolbar\"},\"toolbar_location\":\"above\",\"x_range\":{\"id\":\"da707dda-61fe-49cd-9847-461edc67e064\",\"type\":\"DataRange1d\"},\"x_scale\":{\"id\":\"b900d5ef-4832-40b5-8b9d-56e46c94340b\",\"type\":\"LinearScale\"},\"y_range\":{\"id\":\"1201c6c6-c8c8-4290-9e82-a5ef6c598bda\",\"type\":\"DataRange1d\"},\"y_scale\":{\"id\":\"de278064-e4e6-4404-bc01-3d51fee4df48\",\"type\":\"LinearScale\"}},\"id\":\"da8982db-32af-428f-b03e-c725fabbb92a\",\"subtype\":\"Figure\",\"type\":\"Plot\"},{\"attributes\":{\"active_drag\":\"auto\",\"active_inspect\":\"auto\",\"active_scroll\":\"auto\",\"active_tap\":\"auto\",\"tools\":[{\"id\":\"ae9e7d06-f367-4253-b6aa-548ff3e547b0\",\"type\":\"PanTool\"},{\"id\":\"62bd2649-5c58-43fa-8e7a-ad480d13e07d\",\"type\":\"WheelZoomTool\"},{\"id\":\"3bbe1dcc-5aec-4a17-929e-57e0aaca14a8\",\"type\":\"ResetTool\"},{\"id\":\"7207327d-55ae-4c48-8fb9-e8163a5f29f5\",\"type\":\"SaveTool\"}]},\"id\":\"7de8b1d6-fccb-4b9c-9a8b-76d9a0b8bd87\",\"type\":\"Toolbar\"},{\"attributes\":{\"callback\":null},\"id\":\"da707dda-61fe-49cd-9847-461edc67e064\",\"type\":\"DataRange1d\"},{\"attributes\":{\"plot\":null,\"text\":\"T-SNE for most common words\"},\"id\":\"8678b013-50cb-4329-a48d-7a8fd2e4486c\",\"type\":\"Title\"},{\"attributes\":{},\"id\":\"7207327d-55ae-4c48-8fb9-e8163a5f29f5\",\"type\":\"SaveTool\"},{\"attributes\":{\"plot\":{\"id\":\"da8982db-32af-428f-b03e-c725fabbb92a\",\"subtype\":\"Figure\",\"type\":\"Plot\"},\"source\":{\"id\":\"8a50ffdc-161b-4fd3-a316-104bccf05ef5\",\"type\":\"ColumnDataSource\"},\"text\":{\"field\":\"names\"},\"text_align\":\"center\",\"text_color\":{\"value\":\"#555555\"},\"text_font_size\":{\"value\":\"8pt\"},\"x\":{\"field\":\"x1\"},\"y\":{\"field\":\"x2\"},\"y_offset\":{\"value\":6}},\"id\":\"1f6f2976-0fa2-4579-9bbe-5d42b979b5f8\",\"type\":\"LabelSet\"},{\"attributes\":{},\"id\":\"ae9e7d06-f367-4253-b6aa-548ff3e547b0\",\"type\":\"PanTool\"},{\"attributes\":{\"source\":{\"id\":\"8a50ffdc-161b-4fd3-a316-104bccf05ef5\",\"type\":\"ColumnDataSource\"}},\"id\":\"08a96324-f268-4150-b204-4806b0e62967\",\"type\":\"CDSView\"},{\"attributes\":{\"data_source\":{\"id\":\"8a50ffdc-161b-4fd3-a316-104bccf05ef5\",\"type\":\"ColumnDataSource\"},\"glyph\":{\"id\":\"5c077e17-d60f-4721-adaf-0499a78ba5bf\",\"type\":\"Circle\"},\"hover_glyph\":null,\"muted_glyph\":null,\"nonselection_glyph\":{\"id\":\"c2b8246b-2bd2-4891-8401-9261ba4d3822\",\"type\":\"Circle\"},\"selection_glyph\":null,\"view\":{\"id\":\"08a96324-f268-4150-b204-4806b0e62967\",\"type\":\"CDSView\"}},\"id\":\"86e4058d-06e5-4746-8113-e9f408a16908\",\"type\":\"GlyphRenderer\"}],\"root_ids\":[\"da8982db-32af-428f-b03e-c725fabbb92a\"]},\"title\":\"Bokeh Application\",\"version\":\"0.12.7\"}};\n",
       "            var render_items = [{\"docid\":\"ef388b8d-3c1c-4cc5-877e-1246eb8cc329\",\"elementid\":\"49b13c30-321b-409e-b2fb-f05b92d2bdb3\",\"modelid\":\"da8982db-32af-428f-b03e-c725fabbb92a\"}];\n",
       "            \n",
       "            Bokeh.embed.embed_items(docs_json, render_items);\n",
       "          };\n",
       "          if (document.readyState != \"loading\") fn();\n",
       "          else document.addEventListener(\"DOMContentLoaded\", fn);\n",
       "        })();\n",
       "      },\n",
       "      function(Bokeh) {\n",
       "      }\n",
       "    ];\n",
       "  \n",
       "    function run_inline_js() {\n",
       "      \n",
       "      if ((root.Bokeh !== undefined) || (force === true)) {\n",
       "        for (var i = 0; i < inline_js.length; i++) {\n",
       "          inline_js[i].call(root, root.Bokeh);\n",
       "        }if (force === true) {\n",
       "          display_loaded();\n",
       "        }} else if (Date.now() < root._bokeh_timeout) {\n",
       "        setTimeout(run_inline_js, 100);\n",
       "      } else if (!root._bokeh_failed_load) {\n",
       "        console.log(\"Bokeh: BokehJS failed to load within specified timeout.\");\n",
       "        root._bokeh_failed_load = true;\n",
       "      } else if (force !== true) {\n",
       "        var cell = $(document.getElementById(\"49b13c30-321b-409e-b2fb-f05b92d2bdb3\")).parents('.cell').data().cell;\n",
       "        cell.output_area.append_execute_result(NB_LOAD_WARNING)\n",
       "      }\n",
       "  \n",
       "    }\n",
       "  \n",
       "    if (root._bokeh_is_loading === 0) {\n",
       "      console.log(\"Bokeh: BokehJS loaded, going straight to plotting\");\n",
       "      run_inline_js();\n",
       "    } else {\n",
       "      load_libs(js_urls, function() {\n",
       "        console.log(\"Bokeh: BokehJS plotting callback run at\", now());\n",
       "        run_inline_js();\n",
       "      });\n",
       "    }\n",
       "  }(window));\n",
       "</script>"
      ]
     },
     "metadata": {},
     "output_type": "display_data"
    }
   ],
   "source": [
    "glove_top_vecs, glove_top_names = zip(*[(glove(word).vector, word) for word in wiki_top_words])\n",
    "glove_top_vecs = np.vstack(glove_top_vecs)\n",
    "\n",
    "emb_scatter(glove_top_vecs, glove_top_names, N=20)"
   ]
  },
  {
   "cell_type": "markdown",
   "metadata": {
    "collapsed": true
   },
   "source": [
    "## Loading with gensim\n",
    "\n",
    "Apparently, gensim can also be used for loading word2vec files (as long as they are in the right format)"
   ]
  },
  {
   "cell_type": "code",
   "execution_count": null,
   "metadata": {
    "collapsed": true
   },
   "outputs": [],
   "source": [
    "# model = Word2Vec.load_word2vec_format('./model/GoogleNews-vectors-negative300.bin', binary=True)  "
   ]
  }
 ],
 "metadata": {
  "kernelspec": {
   "display_name": "Python 3",
   "language": "python",
   "name": "python3"
  },
  "language_info": {
   "codemirror_mode": {
    "name": "ipython",
    "version": 3
   },
   "file_extension": ".py",
   "mimetype": "text/x-python",
   "name": "python",
   "nbconvert_exporter": "python",
   "pygments_lexer": "ipython3",
   "version": "3.6.0"
  }
 },
 "nbformat": 4,
 "nbformat_minor": 1
}
